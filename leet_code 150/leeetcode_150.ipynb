{
 "cells": [
  {
   "cell_type": "code",
   "execution_count": 2,
   "metadata": {},
   "outputs": [
    {
     "ename": "TypeError",
     "evalue": "Solution.containsDuplicate() missing 1 required positional argument: 'nums'",
     "output_type": "error",
     "traceback": [
      "\u001b[1;31m---------------------------------------------------------------------------\u001b[0m",
      "\u001b[1;31mTypeError\u001b[0m                                 Traceback (most recent call last)",
      "Cell \u001b[1;32mIn[2], line 1\u001b[0m\n\u001b[1;32m----> 1\u001b[0m \u001b[39mclass\u001b[39;49;00m \u001b[39mSolution\u001b[39;49;00m(\u001b[39mobject\u001b[39;49m):\n\u001b[0;32m      2\u001b[0m     \u001b[39mdef\u001b[39;49;00m \u001b[39mcontainsDuplicate\u001b[39;49m(\u001b[39mself\u001b[39;49m, nums):\n\u001b[0;32m      3\u001b[0m         \u001b[39mreturn\u001b[39;49;00m [\u001b[39mTrue\u001b[39;49;00m \u001b[39mfor\u001b[39;49;00m n \u001b[39min\u001b[39;49;00m \u001b[39mset\u001b[39;49m(nums) \u001b[39mif\u001b[39;49;00m \u001b[39mset\u001b[39;49m(n)\u001b[39m>\u001b[39;49m\u001b[39m1\u001b[39;49m]\n",
      "Cell \u001b[1;32mIn[2], line 5\u001b[0m, in \u001b[0;36mSolution\u001b[1;34m()\u001b[0m\n\u001b[0;32m      2\u001b[0m \u001b[39mdef\u001b[39;00m \u001b[39mcontainsDuplicate\u001b[39m(\u001b[39mself\u001b[39m, nums):\n\u001b[0;32m      3\u001b[0m     \u001b[39mreturn\u001b[39;00m [\u001b[39mTrue\u001b[39;00m \u001b[39mfor\u001b[39;00m n \u001b[39min\u001b[39;00m \u001b[39mset\u001b[39m(nums) \u001b[39mif\u001b[39;00m \u001b[39mset\u001b[39m(n)\u001b[39m>\u001b[39m\u001b[39m1\u001b[39m]\n\u001b[1;32m----> 5\u001b[0m containsDuplicate([\u001b[39m1\u001b[39;49m,\u001b[39m1\u001b[39;49m,\u001b[39m1\u001b[39;49m,\u001b[39m3\u001b[39;49m,\u001b[39m3\u001b[39;49m,\u001b[39m4\u001b[39;49m,\u001b[39m3\u001b[39;49m,\u001b[39m2\u001b[39;49m,\u001b[39m4\u001b[39;49m,\u001b[39m2\u001b[39;49m])\n",
      "\u001b[1;31mTypeError\u001b[0m: Solution.containsDuplicate() missing 1 required positional argument: 'nums'"
     ]
    }
   ],
   "source": [
    "class Solution(object):\n",
    "    def containsDuplicate(self, nums):\n",
    "        return [True for n in set(nums) if set(n)>1]\n",
    "        \n",
    "    containsDuplicate(self,[1,1,1,3,3,4,3,2,4,2])"
   ]
  },
  {
   "cell_type": "code",
   "execution_count": 22,
   "metadata": {},
   "outputs": [
    {
     "data": {
      "text/plain": [
       "False"
      ]
     },
     "execution_count": 22,
     "metadata": {},
     "output_type": "execute_result"
    }
   ],
   "source": []
  },
  {
   "cell_type": "markdown",
   "metadata": {},
   "source": [
    "RECURION"
   ]
  },
  {
   "cell_type": "code",
   "execution_count": 20,
   "metadata": {},
   "outputs": [
    {
     "name": "stdout",
     "output_type": "stream",
     "text": [
      "122\n"
     ]
    },
    {
     "data": {
      "text/plain": [
       "'a'"
      ]
     },
     "execution_count": 20,
     "metadata": {},
     "output_type": "execute_result"
    }
   ],
   "source": [
    "# Substitute two equal letters by the next letter of the alphabet (two letters convert to one):\n",
    "# \"aa\" => \"b\", \"bb\" => \"c\", .. \"zz\" => \"a\".\n",
    "# The equal letters do not have to be adjacent.\n",
    "# Repeat this operation until there are no possible substitutions left.\n",
    "# Return a string.\n",
    "# Example:\n",
    "# let str = \"zzzab\"\n",
    "#     str = \"azab\"\n",
    "#     str = \"bzb\"\n",
    "#     str = \"cz\"\n",
    "# return \"cz\"\n",
    "# Notes\n",
    "# The order of letters in the result is not important.\n",
    "# The letters \"zz\" transform into \"a\".\n",
    "# There will only be lowercase letters.\n",
    "# our returned string is expecteded to be in alaphabetic order\n",
    "\n",
    "def sort1(str1):\n",
    "    str2='abcdefghijklmnopqrstuvwxyza'\n",
    "    for x in str1:\n",
    "        num=str1.count(x)\n",
    "        if num>1:\n",
    "            str1=str1.replace(x,'',2)+ str2[str2.index(x)+1]\n",
    "            return sort1(str1)\n",
    "    str1=''.join(sorted(str1))\n",
    "    return str1\n",
    "str1='zzzab'\n",
    "print(sort1(str1)) \n",
    "\n"
   ]
  }
 ],
 "metadata": {
  "kernelspec": {
   "display_name": "Python 3",
   "language": "python",
   "name": "python3"
  },
  "language_info": {
   "codemirror_mode": {
    "name": "ipython",
    "version": 3
   },
   "file_extension": ".py",
   "mimetype": "text/x-python",
   "name": "python",
   "nbconvert_exporter": "python",
   "pygments_lexer": "ipython3",
   "version": "3.11.4"
  },
  "orig_nbformat": 4
 },
 "nbformat": 4,
 "nbformat_minor": 2
}
