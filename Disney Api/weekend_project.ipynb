{
 "cells": [
  {
   "cell_type": "markdown",
   "metadata": {},
   "source": [
    "# Coding Temple's Data Analytics Program\n",
    "---\n",
    "## Python for DA: Weekend Project\n",
    "\n",
    "For this weekend project, you will be connecting to the [Disney API](https://disneyapi.dev/) to create an ETL pipeline. Your project should contain:\n",
    "\n",
    "- etl_pipeline.py\n",
    "    - Loads in data from the API object for all characters\n",
    "    - Stores required fields from the API to a DataFrame\n",
    "        - name\n",
    "        - all movies/shows the character appeared in\n",
    "        - any allies\n",
    "        - any enemies\n",
    "        - any park attractions\n",
    "    - Cleans the data\n",
    "    - Performs any transformations/feature engineering you wish to complete\n",
    "    - Stores the data in an ElephantSQL server\n",
    "    - Stores the data in a .csv file\n",
    "\n",
    "- notebook.ipynb\n",
    "    - Contains all cells you used to test your code before loading it into the pipeline\n",
    "    - Loads in the data from your .csv file\n",
    "    - Conduct EDA through data\n",
    "    - Conduct an analysis on your dataset!"
   ]
  },
  {
   "cell_type": "code",
   "execution_count": 1,
   "metadata": {},
   "outputs": [],
   "source": [
    "import requests\n",
    "import pandas as pd\n",
    "from PIL import Image\n",
    "from io import BytesIO"
   ]
  },
  {
   "cell_type": "markdown",
   "metadata": {},
   "source": [
    "Testing my fields to get the right fields.  "
   ]
  },
  {
   "cell_type": "code",
   "execution_count": 15,
   "metadata": {},
   "outputs": [
    {
     "name": "stdout",
     "output_type": "stream",
     "text": [
      "7438\n"
     ]
    }
   ],
   "source": [
    "#I would likelt change this to be more dynamic of a url to get count in the future\n",
    "#or set the number to 1000000 since it auto changes it to the max count of characters. \n",
    "#but that also depends on performance.\n",
    "url = f'https://api.disneyapi.dev/character?page=1&pageSize=8000'\n",
    "response= requests.get(url)\n",
    "#creating a counting variable\n",
    "max_cnt=response.json()['info']['count']\n",
    "#create a variable to shorthand the data we will be indexing through\n",
    "my_data = response.json()['data']\n",
    "\n",
    "#columns list for PANDA PANDA PANDA PANDA\n",
    "c=['name','appearances','allies','enemies','park_attractions','appearance_cnt','ally_cnt','enemy_cnt','park_attractions_cnt','image_blob']\n",
    "\n",
    "\n",
    "\n",
    "print(max_cnt)\n",
    "\n"
   ]
  },
  {
   "cell_type": "code",
   "execution_count": null,
   "metadata": {},
   "outputs": [],
   "source": [
    "\n",
    "\n",
    "\n",
    "\n",
    "# fairly straightforward here just grabbing some pokemon and stats\n",
    "def catchpoke(name):\n",
    "    url = f'https://api.disneyapi.dev/character?page=1&pageSize=8000'\n",
    "    response= requests.get(url)\n",
    "    my_data = response\n",
    "    my_data.json()\n",
    "    poke_dict = {\n",
    "        'name' : name,\n",
    "        'ability 1' : my_data.json()['abilities'][0]['ability']['name'],\n",
    "        'base_experience' : my_data.json()['base_experience'],\n",
    "        'front_shiny_png' : my_data.json()['sprites']['front_shiny'],\n",
    "        'attack_stat_base' : my_data.json()['stats'][1]['base_stat'], \n",
    "        'hp_stat_base' : my_data.json()['stats'][0]['base_stat'],\n",
    "        'defense_stat_base' : my_data.json()['stats'][2]['base_stat']}    \n",
    "    \n",
    "    #block for image\n",
    "    img_str = my_data.json()['sprites']['front_shiny']\n",
    "    response = requests.get(img_str)\n",
    "    img= Image.open(BytesIO(response.content))\n",
    "    img =img.convert('RGB')\n",
    "    output_image_path = 'output_image.jpg'\n",
    "    img.save(output_image_path)\n",
    "    #display image\n",
    "    display(img)\n",
    "\n",
    "    #return dictionary\n",
    "    return '\\n'.join(f'{keys} : {val}' for keys,val in poke_dict.items())"
   ]
  }
 ],
 "metadata": {
  "kernelspec": {
   "display_name": "Python 3",
   "language": "python",
   "name": "python3"
  },
  "language_info": {
   "codemirror_mode": {
    "name": "ipython",
    "version": 3
   },
   "file_extension": ".py",
   "mimetype": "text/x-python",
   "name": "python",
   "nbconvert_exporter": "python",
   "pygments_lexer": "ipython3",
   "version": "3.10.0"
  },
  "orig_nbformat": 4
 },
 "nbformat": 4,
 "nbformat_minor": 2
}
