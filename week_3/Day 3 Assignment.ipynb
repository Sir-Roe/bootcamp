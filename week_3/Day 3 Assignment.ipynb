{
 "cells": [
  {
   "attachments": {},
   "cell_type": "markdown",
   "metadata": {},
   "source": [
    "# Coding Temple's Data Analytics Program\n",
    "---\n",
    "### Python II: Map, Filter, Lambda Assignment"
   ]
  },
  {
   "attachments": {},
   "cell_type": "markdown",
   "metadata": {},
   "source": [
    "### Exercise #1 <br>\n",
    "<p>Filter out all of the empty strings from the list below</p>\n",
    "\n",
    "`Output: ['Argentina', 'San Diego', 'Boston', 'New York']`"
   ]
  },
  {
   "cell_type": "code",
   "execution_count": 14,
   "metadata": {},
   "outputs": [
    {
     "name": "stdout",
     "output_type": "stream",
     "text": [
      "['Argentina', 'San Diego', 'Boston', 'New York']\n"
     ]
    }
   ],
   "source": [
    "places = [\" \",\"Argentina\", \" \", \"San Diego\",\"\",\"  \",\"\",\"Boston\",\"New York\"]\n",
    "# YOUR CODE HERE\n",
    "'''\n",
    "def blank_filter(list1: list):\n",
    "    for words in list1:\n",
    "        if len(words.strip())>0:\n",
    "            return True\n",
    "        else:\n",
    "            return False\n",
    "'''\n",
    "#list(filter(blank_filter,places))\n",
    "#me logically thinking of the problem above before adding that sweet sweet lambda\n",
    "\n",
    "places = list(filter(lambda place: True if len(place.strip())>0 else False,places))\n",
    "# need to save this value so we don't keep those spaces\n",
    "print(places)"
   ]
  },
  {
   "attachments": {},
   "cell_type": "markdown",
   "metadata": {},
   "source": [
    "### Exercise #2 <br>\n",
    "<p>Write an anonymous function that sorts this list by the last name...<br><b>Hint: Use the \".sort()\" method and access the key\"</b></p>\n",
    "\n",
    "`Output: ['Victor aNisimov', 'Gary A.J. Bernstein', 'Joel Carter', 'Andrew P. Garfield', 'David hassELHOFF']`"
   ]
  },
  {
   "cell_type": "code",
   "execution_count": 29,
   "metadata": {},
   "outputs": [
    {
     "name": "stdout",
     "output_type": "stream",
     "text": [
      "['Victor aNisimov', 'Gary A.J. Bernstein', 'Joel Carter', 'Andrew P. Garfield', 'David hassELHOFF']\n"
     ]
    }
   ],
   "source": [
    "author = [\"Joel Carter\", \"Victor aNisimov\", \"Andrew P. Garfield\",\"David hassELHOFF\",\"Gary A.J. Bernstein\"]\n",
    "# YOUR CODE HERE\n",
    "#this was surprisingly hard, I orginally had a long tuple \n",
    "# i made to to seperate the last name vs all else only to\n",
    "# realize i could just use [-1] to get last element after splitting....\n",
    "author.sort(key=lambda x: x.lower().split()[-1])\n",
    "print(author)"
   ]
  },
  {
   "attachments": {},
   "cell_type": "markdown",
   "metadata": {},
   "source": [
    "### Exercise #3 <br>\n",
    "<p>Convert the list below from Celsius to Farhenheit, using the map function with a lambda...</p>\n",
    "\n",
    "`Output: [('Nashua', 89.6), ('Boston', 53.6), ('Los Angelos', 111.2), ('Miami', 84.2)]`"
   ]
  },
  {
   "cell_type": "code",
   "execution_count": 19,
   "metadata": {},
   "outputs": [
    {
     "data": {
      "text/plain": [
       "[('Nashua', 89.6), ('Boston', 53.6), ('Los Angelos', 111.2), ('Miami', 84.2)]"
      ]
     },
     "execution_count": 19,
     "metadata": {},
     "output_type": "execute_result"
    }
   ],
   "source": [
    "# F = (9/5)*C + 32\n",
    "places = [('Nashua',32),(\"Boston\",12),(\"Los Angelos\",44),(\"Miami\",29)]\n",
    "\n",
    "list(map(lambda n,x=[0,1]:(x[0],x[1]*(9/5)+32),places))\n",
    "# YOUR CODE HERE"
   ]
  },
  {
   "attachments": {},
   "cell_type": "markdown",
   "metadata": {},
   "source": [
    "### Exercise #4 <br>\n",
    "<p>Write a recursion function to perform the fibonacci sequence up to the number passed in.</p>\n",
    "\n",
    "`Output for fib(5) => \n",
    "Iteration 0: 1\n",
    "Iteration 1: 1\n",
    "Iteration 2: 2\n",
    "Iteration 3: 3\n",
    "Iteration 4: 5\n",
    "Iteration 5: 8`"
   ]
  },
  {
   "cell_type": "code",
   "execution_count": 151,
   "metadata": {},
   "outputs": [
    {
     "name": "stdout",
     "output_type": "stream",
     "text": [
      "8\n",
      "8\n",
      "8\n"
     ]
    }
   ],
   "source": [
    "# YOUR CODE HERE\n",
    "\n",
    "#first with variables\n",
    "def fib_0_nachos(upto:int,x=0,y=1,z=0,iter=0):\n",
    "    if iter == upto:\n",
    "        return y\n",
    "    else:\n",
    "        z=y+x\n",
    "        x=y\n",
    "        y=z\n",
    "        iter+=1\n",
    "        return fib_0_nachos(upto,x,y,z,iter)\n",
    "    \n",
    "print(fib_0_nachos(5))\n",
    "\n",
    "# now as a list, defaulting 0,1) because let's be honest, thats way easier and fib numbers are set\n",
    "def fib_0_listos(n,fl=[0,1]):\n",
    "    while len(fl)<n+2:\n",
    "        fl.append(fl[-2]+fl[-1])\n",
    "        return fib_0_listos(n,fl)\n",
    "    return fl[-1]\n",
    "    \n",
    "print(fib_0_listos(5))\n",
    "\n",
    "#one lines potential?\n",
    "n=5\n",
    "\n",
    "def one_logic(n,fl=[0,1]):\n",
    "   fl += [(fl := [fl[1], fl[0] + fl[1]]) and fl[1] for i in range(n)]\n",
    "   return fl[-1]\n",
    "print(one_logic(5))\n",
    "\n",
    "# super close but I just cant quite figure out how to combine these into one line, make the list, take the last tiem\n",
    "\n"
   ]
  }
 ],
 "metadata": {
  "language_info": {
   "name": "python"
  },
  "orig_nbformat": 4
 },
 "nbformat": 4,
 "nbformat_minor": 2
}
