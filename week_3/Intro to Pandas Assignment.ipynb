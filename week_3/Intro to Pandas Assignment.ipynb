{
 "cells": [
  {
   "attachments": {},
   "cell_type": "markdown",
   "metadata": {},
   "source": [
    "# Coding Temple's Data Analytics Program\n",
    "---\n",
    "## Intro to Pandas Assignment\n",
    "---"
   ]
  },
  {
   "attachments": {},
   "cell_type": "markdown",
   "metadata": {},
   "source": [
    "### Imports"
   ]
  },
  {
   "cell_type": "code",
   "execution_count": 1,
   "metadata": {},
   "outputs": [],
   "source": [
    "import pandas as pd\n",
    "import numpy as np"
   ]
  },
  {
   "attachments": {},
   "cell_type": "markdown",
   "metadata": {},
   "source": [
    "### Exercise #1: Read in the Data\n",
    "For this assignment, you will want to use the Boston RedSox data from earlier today. Practice reading this into a DataFrame object using Pandas"
   ]
  },
  {
   "cell_type": "code",
   "execution_count": 2,
   "metadata": {},
   "outputs": [],
   "source": [
    "bs_2017= pd.read_csv(r'C:\\Users\\Logan\\Documents\\GitHub\\bootcamp\\week_3\\day_4\\redsox_2017_hitting.txt')\n",
    "bs_2018 = pd.read_csv(r'C:\\Users\\Logan\\Documents\\GitHub\\bootcamp\\week_3\\day_4\\redsox_2018_hitting.txt')"
   ]
  },
  {
   "attachments": {},
   "cell_type": "markdown",
   "metadata": {},
   "source": [
    "### Exercise #2 - Find the Total Number of Runs and RBIs for the Red Sox <br>\n",
    "<p>Get total number of home runs and rbi's</p>"
   ]
  },
  {
   "cell_type": "code",
   "execution_count": 3,
   "metadata": {},
   "outputs": [
    {
     "name": "stdout",
     "output_type": "stream",
     "text": [
      "168 total home runs and 735 Runs Batted In for 2017\n",
      "208 total home runs and 826 Runs Batted In for 2018\n"
     ]
    }
   ],
   "source": [
    "print(f\"{bs_2017['HR'].sum()} total home runs and {bs_2017['RBI'].sum()} Runs Batted In for 2017\")\n",
    "print(f\"{bs_2018['HR'].sum()} total home runs and {bs_2018['RBI'].sum()} Runs Batted In for 2018\")\n",
    "\n"
   ]
  }
 ],
 "metadata": {
  "kernelspec": {
   "display_name": "Python 3",
   "language": "python",
   "name": "python3"
  },
  "language_info": {
   "codemirror_mode": {
    "name": "ipython",
    "version": 3
   },
   "file_extension": ".py",
   "mimetype": "text/x-python",
   "name": "python",
   "nbconvert_exporter": "python",
   "pygments_lexer": "ipython3",
   "version": "3.10.0"
  },
  "orig_nbformat": 4
 },
 "nbformat": 4,
 "nbformat_minor": 2
}
