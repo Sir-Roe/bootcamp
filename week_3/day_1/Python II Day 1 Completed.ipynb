{
  "cells": [
    {
      "attachments": {},
      "cell_type": "markdown",
      "metadata": {
        "id": "A3jUapQsAZn-"
      },
      "source": [
        "# Coding Temple's Data Analytics Course\n",
        "---\n",
        "## Python II: Regular Expressions"
      ]
    },
    {
      "attachments": {},
      "cell_type": "markdown",
      "metadata": {
        "id": "PdLjKD4UAZn_"
      },
      "source": [
        "## Tasks today:\n",
        "1) <b>Importing</b> <br>\n",
        "2) <b>Using Regular Expressions</b> <br>\n",
        " &nbsp;&nbsp;&nbsp;&nbsp; a) re.compile() <br>\n",
        " &nbsp;&nbsp;&nbsp;&nbsp; b) re.match() <br>\n",
        " &nbsp;&nbsp;&nbsp;&nbsp; c) re.findall() <br>\n",
        " &nbsp;&nbsp;&nbsp;&nbsp; d) re.search() <br>\n",
        "3) <b>Sets</b> <br>\n",
        " &nbsp;&nbsp;&nbsp;&nbsp; a) Integer Ranges <br>\n",
        " &nbsp;&nbsp;&nbsp;&nbsp; b) Character Ranges <br>\n",
        "4) <b>Counting Occurences</b> <br>\n",
        " &nbsp;&nbsp;&nbsp;&nbsp; a) {x} <br>\n",
        " &nbsp;&nbsp;&nbsp;&nbsp; b) {, x} <br>\n",
        " &nbsp;&nbsp;&nbsp;&nbsp; c) {?} <br>\n",
        " &nbsp;&nbsp;&nbsp;&nbsp; d) {*} <br>\n",
        " &nbsp;&nbsp;&nbsp;&nbsp; e) {+} <br>\n",
        "5) <b>In-Class Exercise #1</b> <br>\n",
        "6) <b>Escaping Characters</b> <br>\n",
        "7) <b>Grouping</b> <br>\n",
        "8) <b>In-Class Exercise #2</b> <br>\n",
        "9) <b>Opening a File</b> <br>\n",
        " &nbsp;&nbsp;&nbsp;&nbsp; a) open() <br>\n",
        " &nbsp;&nbsp;&nbsp;&nbsp; b) with open() <br>\n",
        " &nbsp;&nbsp;&nbsp;&nbsp; c) re.match() <br>\n",
        " &nbsp;&nbsp;&nbsp;&nbsp; d) re.search() <br>\n",
        " &nbsp;&nbsp;&nbsp;&nbsp; e) Store the String in a Variable <br>"
      ]
    },
    {
      "attachments": {},
      "cell_type": "markdown",
      "metadata": {
        "id": "PAC04z0nAZoA"
      },
      "source": [
        "### Importing <br>\n",
        "<p>Regular Expressions are universal throughout most programming languages... They are generally imported through the module 're'.</p>"
      ]
    },
    {
      "cell_type": "code",
      "execution_count": 116,
      "metadata": {
        "id": "SxP-cmPsAZoA"
      },
      "outputs": [],
      "source": [
        "# Import Statement\n",
        "import re"
      ]
    },
    {
      "attachments": {},
      "cell_type": "markdown",
      "metadata": {
        "id": "M7A6o9vXAZoB"
      },
      "source": [
        "### Using Regular Expressions <br>\n",
        "<p>Regular expressions give us the ability to search for patterns within text, strings, files, etc. They serve several uses, such as; security measures, searching, filtering, pattern recognition, and more...</p>"
      ]
    },
    {
      "attachments": {},
      "cell_type": "markdown",
      "metadata": {
        "id": "LwC1v9vRAZoB"
      },
      "source": [
        "##### re.compile()"
      ]
    },
    {
      "cell_type": "code",
      "execution_count": 117,
      "metadata": {
        "id": "ldZfAB8FAZoB"
      },
      "outputs": [
        {
          "name": "stdout",
          "output_type": "stream",
          "text": [
            "Help on function compile in module re:\n",
            "\n",
            "compile(pattern, flags=0)\n",
            "    Compile a regular expression pattern, returning a Pattern object.\n",
            "\n",
            "None\n"
          ]
        }
      ],
      "source": [
        "# using compile, pre determines the string to be used in regular expression methods\n",
        "print(help(re.compile))\n",
        "pattern = re.compile('abcd')"
      ]
    },
    {
      "attachments": {},
      "cell_type": "markdown",
      "metadata": {
        "id": "CvfW_ms2AZoC"
      },
      "source": [
        "##### re.match()"
      ]
    },
    {
      "cell_type": "code",
      "execution_count": 118,
      "metadata": {
        "id": "-zJbcV12AZoC"
      },
      "outputs": [
        {
          "name": "stdout",
          "output_type": "stream",
          "text": [
            "Help on function match in module re:\n",
            "\n",
            "match(pattern, string, flags=0)\n",
            "    Try to apply the pattern at the start of the string, returning\n",
            "    a Match object, or None if no match was found.\n",
            "\n",
            "None\n",
            "<re.Match object; span=(0, 4), match='abcd'>\n",
            "(0, 4)\n"
          ]
        },
        {
          "data": {
            "text/plain": [
              "' \\nWhat if I wanted to learn more about Regex?\\nregex101.com\\n\\nA good resource to write and test out regex, with great breakdown walkthroughs\\non how the code executes:\\n'"
            ]
          },
          "execution_count": 118,
          "metadata": {},
          "output_type": "execute_result"
        }
      ],
      "source": [
        "print(help(re.match))\n",
        "match = pattern.match('abcd123')\n",
        "# Accessing the span of the match\n",
        "# Span shows the range of which the match found within the string given!\n",
        "print(match)\n",
        "print(match.span())\n",
        "\n",
        "\n",
        "\"\"\" \n",
        "What if I wanted to learn more about Regex?\n",
        "regex101.com\n",
        "\n",
        "A good resource to write and test out regex, with great breakdown walkthroughs\n",
        "on how the code executes:\n",
        "\"\"\""
      ]
    },
    {
      "attachments": {},
      "cell_type": "markdown",
      "metadata": {
        "id": "b10Z-_c0AZoC"
      },
      "source": [
        "##### re.findall()"
      ]
    },
    {
      "cell_type": "code",
      "execution_count": 119,
      "metadata": {
        "id": "Edc4cN4yAZoC"
      },
      "outputs": [
        {
          "name": "stdout",
          "output_type": "stream",
          "text": [
            "Help on function findall in module re:\n",
            "\n",
            "findall(pattern, string, flags=0)\n",
            "    Return a list of all non-overlapping matches in the string.\n",
            "    \n",
            "    If one or more capturing groups are present in the pattern, return\n",
            "    a list of groups; this will be a list of tuples if the pattern\n",
            "    has more than one group.\n",
            "    \n",
            "    Empty matches are included in the result.\n",
            "\n",
            "None\n",
            "['abcd']\n"
          ]
        }
      ],
      "source": [
        "print(help(re.findall))\n",
        "finders = pattern.findall('abcd123')\n",
        "print(finders)\n"
      ]
    },
    {
      "attachments": {},
      "cell_type": "markdown",
      "metadata": {
        "id": "YGpNo_XZAZoC"
      },
      "source": [
        "##### re.search()"
      ]
    },
    {
      "cell_type": "code",
      "execution_count": 120,
      "metadata": {
        "id": "0DolcygtAZoD"
      },
      "outputs": [
        {
          "name": "stdout",
          "output_type": "stream",
          "text": [
            "Help on function search in module re:\n",
            "\n",
            "search(pattern, string, flags=0)\n",
            "    Scan through string looking for a match to the pattern, returning\n",
            "    a Match object, or None if no match was found.\n",
            "\n",
            "None\n",
            "-----------\n",
            "re.compile('abcd')\n",
            "-----------\n",
            "<re.Match object; span=(16, 20), match='abcd'>\n",
            "(16, 20) <class 'tuple'>\n",
            "abcd\n",
            "16\n",
            "abc \n"
          ]
        }
      ],
      "source": [
        "print(help(re.search))\n",
        "\n",
        "# Instantiate the string\n",
        "random_string = '123 123 234 abc abcd'\n",
        "\n",
        "# Search the string for a pattern\n",
        "\n",
        "search = pattern.search(random_string)\n",
        "print('-----------')\n",
        "print(pattern)\n",
        "print('-----------')\\\\\n",
        "print(search)\n",
        "\n",
        "# Grab the matching indicies and return them\n",
        "span = search.span()\n",
        "print(span, type(span))\n",
        "\n",
        "# This is reproducible. No matter what word goes into my search object,\n",
        "# My program wil realize the change and follow suit.\n",
        "print(random_string[span[0]: span[1]]) # 12 is not always 12.\n",
        "print(span[0])\n",
        "# Hard-coding. Non-reproducible code.\n",
        "# No matter how the values for each variable change, these dont.\n",
        "print(random_string[12:16])# 12 will always be 12, 16 will always be 16."
      ]
    },
    {
      "attachments": {},
      "cell_type": "markdown",
      "metadata": {
        "id": "KbKNBUxLAZoD"
      },
      "source": [
        "### Sets <br>\n",
        "<p>The following cells will allow you to use regular expressions to search for certain values within a range such as numbers 1 through 4.</p>"
      ]
    },
    {
      "attachments": {},
      "cell_type": "markdown",
      "metadata": {
        "id": "_2G-uS27AZoD"
      },
      "source": [
        "##### [a-z] or [A-Z] - any lowercase/uppercase letters from a to z<br/>[^2] - anything that's not 2"
      ]
    },
    {
      "attachments": {},
      "cell_type": "markdown",
      "metadata": {
        "id": "H6y2Ls9aAZoD"
      },
      "source": [
        "##### Integer Ranges"
      ]
    },
    {
      "cell_type": "code",
      "execution_count": 121,
      "metadata": {
        "id": "FGn5mZlzAZoD"
      },
      "outputs": [
        {
          "name": "stdout",
          "output_type": "stream",
          "text": [
            "<re.Match object; span=(2, 5), match='383'>\n",
            "383\n"
          ]
        }
      ],
      "source": [
        "# Complie for an integer pattern\n",
        "pattern_int = re.compile('[0-4][7-9][0-3]')\n",
        "int_str = '67383 383'\n",
        "\n",
        "# Search the string for all matching numbers\n",
        "random_numbers = pattern_int.search(int_str)\n",
        "print(random_numbers)\n",
        "\n",
        "# Find all matching numbers and return them\n",
        "span = random_numbers.span()\n",
        "print(int_str[span[0]:span[1]])"
      ]
    },
    {
      "cell_type": "code",
      "execution_count": 122,
      "metadata": {},
      "outputs": [
        {
          "name": "stdout",
          "output_type": "stream",
          "text": [
            "<re.Match object; span=(2, 5), match='383'>\n",
            "383\n"
          ]
        }
      ],
      "source": [
        "# Can also iterate over integer values using .search!\n",
        "# Compile an integer pattern and create an integer variable\n",
        "pattern_int = re.compile('[0-4][7-9][0-3]')\n",
        "int_value = 67383\n",
        "\n",
        "# Search the value for all matching numbers\n",
        "random_numbers = pattern_int.search(str(int_value))\n",
        "print(random_numbers)\n",
        "# Find all matching numbers and return them\n",
        "span = random_numbers.span()\n",
        "print(str(int_value)[span[0]:span[1]])"
      ]
    },
    {
      "attachments": {},
      "cell_type": "markdown",
      "metadata": {
        "id": "PgBHuJW2AZoD"
      },
      "source": [
        "##### Character Ranges"
      ]
    },
    {
      "cell_type": "code",
      "execution_count": 123,
      "metadata": {
        "id": "DPU6DLtZAZoD"
      },
      "outputs": [
        {
          "name": "stdout",
          "output_type": "stream",
          "text": [
            "['He', 'Th', 'Mr', 'An']\n"
          ]
        }
      ],
      "source": [
        "# Compile a character pattern and create a string object\n",
        "char_pattern = re.compile('[A-Z][a-z]')\n",
        "my_str = 'Hello There Mr. Anderson'\n",
        "\n",
        "# Search the string for all matching characters in the pattern and return them.\n",
        "found = char_pattern.findall(my_str)\n",
        "print(found)"
      ]
    },
    {
      "attachments": {},
      "cell_type": "markdown",
      "metadata": {
        "id": "cNrmcRxBAZoE"
      },
      "source": [
        "### Counting Occurences"
      ]
    },
    {
      "attachments": {},
      "cell_type": "markdown",
      "metadata": {
        "id": "52zJm_dTAZoE"
      },
      "source": [
        "##### {x} - something that occurs {num_of_times}"
      ]
    },
    {
      "cell_type": "code",
      "execution_count": 124,
      "metadata": {
        "id": "OfFlvkxaAZoE"
      },
      "outputs": [
        {
          "name": "stdout",
          "output_type": "stream",
          "text": [
            "['An33']\n"
          ]
        }
      ],
      "source": [
        "\"\"\"\n",
        "What does this .compile do?\n",
        "Create a pattern that is looking for an uppercase letter, lowercase letter,\n",
        "and two digits between 0-3.\n",
        "\"\"\"\n",
        "char_pattern_count = re.compile('[A-Z][a-z][0-3]{2}')\n",
        "\n",
        "# Search the string for values matching the pattern and return them!\n",
        "found_count = char_pattern_count.findall('Hello Mr. An3333derson')\n",
        "print(found_count)"
      ]
    },
    {
      "attachments": {},
      "cell_type": "markdown",
      "metadata": {
        "id": "S0BYqWlLAZoE"
      },
      "source": [
        "##### {x, x} - something that occurs between x and x times"
      ]
    },
    {
      "cell_type": "code",
      "execution_count": 125,
      "metadata": {
        "id": "YfOZVHsXAZoE"
      },
      "outputs": [
        {
          "name": "stdout",
          "output_type": "stream",
          "text": [
            "['m', 'mm', 'mmmmm', 'mm', 'm', 'm']\n"
          ]
        }
      ],
      "source": [
        "\"\"\"\n",
        "What does this .compile do?\n",
        "\n",
        "Creates a pattern looking for any occurance of the letter 'm' where it occurs\n",
        "1-5 times.\n",
        "\"\"\"\n",
        "random_pattern = re.compile('m{1,5}')\n",
        "\n",
        "# Search a string for values matching the pattern and return them!\n",
        "random_statement = random_pattern.findall('m mm mmmmmmm this was a great soup! I am in love with Tomato soup!')\n",
        "print(random_statement)"
      ]
    },
    {
      "attachments": {},
      "cell_type": "markdown",
      "metadata": {
        "id": "3B6Nre9mAZoE"
      },
      "source": [
        "##### ? - something that occurs 0 or 1 time"
      ]
    },
    {
      "cell_type": "code",
      "execution_count": 143,
      "metadata": {
        "id": "_XAtCwCLAZoE"
      },
      "outputs": [
        {
          "name": "stdout",
          "output_type": "stream",
          "text": [
            "['Mrs', 'Mrss']\n"
          ]
        }
      ],
      "source": [
        "\"\"\"\n",
        "What does this .compile do?\n",
        "\n",
        "Creates a pattern of 'Mrs'. The s? means we are looking for IF this occurs\n",
        "If it does not, it will ignore this character.\n",
        "\"\"\"\n",
        "pattern = re.compile('Mrss?')\n",
        "\n",
        "# Search a string for values matching the pattern and return them\n",
        "found_pat = pattern.findall(\"Hello M there Mr. Anderson. How is Mrs. Anderson, and Mrss. Anderson?\")\n",
        "print(found_pat)"
      ]
    },
    {
      "attachments": {},
      "cell_type": "markdown",
      "metadata": {
        "id": "gP5_jLEpAZoE"
      },
      "source": [
        "##### * - something that occurs at least 0 times"
      ]
    },
    {
      "cell_type": "code",
      "execution_count": 145,
      "metadata": {
        "id": "5pf3JL1cAZoE"
      },
      "outputs": [
        {
          "name": "stdout",
          "output_type": "stream",
          "text": [
            "['MMMs', 's', 'Ms', 's', 's', 'Ms', 's', 's', 's', 's']\n"
          ]
        }
      ],
      "source": [
        "\"\"\"\n",
        "What does this .compile do?\n",
        "\n",
        "Create a pattern that searches for s with any number of M's preceding it.\n",
        "This pattern will also return any singular 's' values as the value M is NOT\n",
        "required to preceed it.\n",
        "\"\"\"\n",
        "pattern_m = re.compile('M*s')\n",
        "\n",
        "# Search a string for values matching the pattern and return them!\n",
        "found_m = pattern_m.findall('MMMs name is Ms. Smith. This is Msssss')\n",
        "print(found_m)"
      ]
    },
    {
      "attachments": {},
      "cell_type": "markdown",
      "metadata": {
        "id": "9S37A82sAZoE"
      },
      "source": [
        "##### + - something that occurs at least once"
      ]
    },
    {
      "cell_type": "code",
      "execution_count": 146,
      "metadata": {
        "id": "PfyTRw_OAZoF"
      },
      "outputs": [
        {
          "name": "stdout",
          "output_type": "stream",
          "text": [
            "['Ms', 'MMMMMMMs']\n"
          ]
        }
      ],
      "source": [
        "\"\"\"\n",
        "What does this .compile do?\n",
        "Create a pattern for s with at least 1 occurance of a capital M preceding it!\n",
        "\"\"\"\n",
        "pattern_again = re.compile('M+s')\n",
        "\n",
        "# Search the string for values matching the pattern and return them\n",
        "found_patt = pattern_again.findall('My name is Ms. Smith. This is MMMMMMMssssss')\n",
        "print(found_patt)"
      ]
    },
    {
      "attachments": {},
      "cell_type": "markdown",
      "metadata": {
        "id": "KpVslvyuAZoF"
      },
      "source": [
        "##### In-class exercise 1: \n",
        "\n",
        "Use a regular expression to find every number in the given string"
      ]
    },
    {
      "cell_type": "code",
      "execution_count": 154,
      "metadata": {
        "id": "IyVgLkCSAZoF"
      },
      "outputs": [
        {
          "name": "stdout",
          "output_type": "stream",
          "text": [
            "['10909090', '1', '2']\n"
          ]
        }
      ],
      "source": [
        "my_string = 'This string has 10909090 numbers, but it is only 1 string. I hope you solve this 2day'\n",
        "# Output: ['10909090', '1', '2']\n",
        "\n",
        "pat = re.compile('[0-9]+')\n",
        "fnd = pat.findall(my_string)\n",
        "print(fnd)"
      ]
    },
    {
      "attachments": {},
      "cell_type": "markdown",
      "metadata": {
        "id": "h0NrOe0OAZoF"
      },
      "source": [
        "### Escaping Characters"
      ]
    },
    {
      "attachments": {},
      "cell_type": "markdown",
      "metadata": {
        "id": "h4orJZqnAZoF"
      },
      "source": [
        "##### \\w - look for any Unicode character<br/>\\W - look for anything that isnt a Unicode character\n",
        "\n",
        "[History on Unicode](http://unicode.org/standard/WhatIsUnicode.html)\n",
        "\n",
        "[More on Unicode Characters](https://en.wikipedia.org/wiki/List_of_Unicode_characters)"
      ]
    },
    {
      "cell_type": "code",
      "execution_count": 130,
      "metadata": {
        "id": "Plsf-e0bAZoF"
      },
      "outputs": [
        {
          "name": "stdout",
          "output_type": "stream",
          "text": [
            "🔥🔥\n",
            "🔥\n",
            "🔥🔥\n"
          ]
        }
      ],
      "source": [
        "print('\\U0001f525\\U0001f525\\n\\U0001f525')\n",
        "print('\\U0001f525\\U0001f525')"
      ]
    },
    {
      "cell_type": "code",
      "execution_count": 131,
      "metadata": {},
      "outputs": [
        {
          "name": "stdout",
          "output_type": "stream",
          "text": [
            "['This', 'is', 'a', 'sentence', 'With', 'an', 'exclamation', 'mark', 'at', 'the', 'end']\n",
            "[' ', ' ', ' ', '. ', ' ', ', ', ' ', ' ', ' ', ' ', '!']\n"
          ]
        }
      ],
      "source": [
        "# Anything that is a unicode:\n",
        "# Plus means I want everything that follows.\n",
        "pattern_uni = re.compile('[\\w]+')\n",
        "found_uni = pattern_uni.findall('This is a sentence. With an, exclamation mark at the end!')\n",
        "print(found_uni)\n",
        "\n",
        "# Anything that isn't a unicode char:\n",
        "pattern_non_uni = re.compile('[\\W]+')\n",
        "found_non_uni = pattern_non_uni.findall('This is a sentence. With an, exclamation mark at the end!')\n",
        "print(found_non_uni)"
      ]
    },
    {
      "attachments": {},
      "cell_type": "markdown",
      "metadata": {
        "id": "0iUynUmbAZoF"
      },
      "source": [
        "##### \\d - look for any digit 0-9<br/>\\D - look for anything that isnt a digit"
      ]
    },
    {
      "cell_type": "code",
      "execution_count": 168,
      "metadata": {
        "id": "day5uczJAZoF"
      },
      "outputs": [
        {
          "name": "stdout",
          "output_type": "stream",
          "text": [
            "['20th', '11 d', '1st']\n"
          ]
        }
      ],
      "source": [
        "date = 'Today is the 20th. In 11 days, it will be the 1st.'\n",
        "\n",
        "pattern_num = re.compile('\\d{1,2}[\\D]{2}')\n",
        "found_date = pattern_num.findall(date)\n",
        "print(found_date)"
      ]
    },
    {
      "attachments": {},
      "cell_type": "markdown",
      "metadata": {
        "id": "s40MLh_BAZoF"
      },
      "source": [
        "##### \\s - look for any white space<br/>\\S - look for anything that isnt whitespace"
      ]
    },
    {
      "cell_type": "code",
      "execution_count": 133,
      "metadata": {
        "id": "7iygJ50-AZoG"
      },
      "outputs": [
        {
          "name": "stdout",
          "output_type": "stream",
          "text": [
            "['Are', 'you', 'afraid', 'of', 'the', 'dark']\n",
            "[' ', '    ', ' ', ' ', ' ']\n"
          ]
        }
      ],
      "source": [
        "string = 'Are you    afraid of the dark'\n",
        "# Whitespace is any form of space in the string\n",
        "# Pattern with no whitespaces\n",
        "pattern_no_space = re.compile('\\S[a-z]+')\n",
        "found_dark = pattern_no_space.findall(string)\n",
        "print(found_dark)\n",
        "\n",
        "# Pattern with any whitespace\n",
        "pattern_space = re.compile('\\s+')\n",
        "found_space = pattern_space.findall(string)\n",
        "print(found_space)"
      ]
    },
    {
      "attachments": {},
      "cell_type": "markdown",
      "metadata": {
        "id": "ocOxfZxHAZoG"
      },
      "source": [
        "##### \\b - look for boundaries or edges of a word<br/>\\B - look for anything that isnt a boundary"
      ]
    },
    {
      "cell_type": "code",
      "execution_count": 134,
      "metadata": {
        "id": "f_qVKVvsAZoG"
      },
      "outputs": [
        {
          "name": "stdout",
          "output_type": "stream",
          "text": [
            "['TheCodingTemple']\n",
            "[]\n"
          ]
        }
      ],
      "source": [
        "# r means read this as a literal, not as a string\n",
        "pattern_bound = re.compile(r'\\bTheCodingTemple\\b')\n",
        "pattern_found = pattern_bound.findall(\"TheCodingTemple\")\n",
        "print(pattern_found)\n",
        "\n",
        "# Anything that isn't the boundary?\n",
        "pattern_bound_none = re.compile(r'\\BTheCodingTemple\\B')\n",
        "pattern_none = pattern_bound_none.findall(\"TheCodingTemple\")\n",
        "print(pattern_none)"
      ]
    },
    {
      "attachments": {},
      "cell_type": "markdown",
      "metadata": {
        "id": "M69Sj-rDAZoG"
      },
      "source": [
        "### Grouping"
      ]
    },
    {
      "cell_type": "code",
      "execution_count": 207,
      "metadata": {
        "id": "yWMQqGQkAZoG"
      },
      "outputs": [
        {
          "name": "stdout",
          "output_type": "stream",
          "text": [
            "Max Smith\n",
            "Not a Name\n",
            "Sam Darnold\n",
            "LeBron James\n",
            "Michael Jordan\n",
            "Kevin Durant\n",
            "Patrick McCormik\n"
          ]
        }
      ],
      "source": [
        "my_string_again = \"Max Smith, aaron rodgers, Sam Darnold, LeBron James, Michael Jordan, Kevin Durant, Patrick McCormik\"\n",
        "\"\"\"\n",
        "What is this .compile statement doing?\n",
        "\n",
        "We search for patterns matching either pattern in our compile function.\n",
        "The first pattern is handling our name exceptions (ex. LeBron, McCormik), searching for a capital,\n",
        "followed by a lowercase, then another capital.\n",
        "\n",
        "The second pattern searchs for a capital followed by any other non-numeric character.\n",
        "\"\"\"\n",
        "pattern_name = re.compile('([A-Z][a-zA-Z-a-z]+) ([A-Z][A-Za-z]+)')\n",
        "found_names = pattern_name.findall(my_string_again)\n",
        "\n",
        "\n",
        "# What if I want to see when my search is not adding an item to found_names?\n",
        "\"\"\"\n",
        "What is my loop doing?\n",
        "\n",
        "I am splitting each name in the string. Seperating by the comma.\n",
        "Then, I search for all matches with the string and pattern.\n",
        "If it matches any, it will print of the name. .groups takes the number of outputs as an input.\n",
        "\n",
        "\"\"\"\n",
        "for name in my_string_again.split(','):\n",
        "    match = pattern_name.search(name)\n",
        "    if match:\n",
        "        print(f'{match.group(1)} {match.group(2)}')\n",
        "    else:\n",
        "        print('Not a Name')"
      ]
    },
    {
      "attachments": {},
      "cell_type": "markdown",
      "metadata": {
        "id": "_9k6rLgMAZoG"
      },
      "source": [
        "##### In-class Exercise 2:\n",
        "\n",
        "Write a function using regular expressions to find the domain name in the given email addresses (and return None for the invalid email addresses)<br><b>HINT: Use '|' for either or</b>"
      ]
    },
    {
      "cell_type": "code",
      "execution_count": 188,
      "metadata": {
        "id": "H6q94xwIAZoG"
      },
      "outputs": [
        {
          "name": "stdout",
          "output_type": "stream",
          "text": [
            "None\n",
            "pocoh0ntas1776@gmail.com\n",
            "None\n",
            "yourfavoriteband@g6.org\n",
            "None\n"
          ]
        }
      ],
      "source": [
        "my_emails = [\"joRdanw@codingtemple.orgcom\", \"pocoh0ntas1776@gmail.com\", \"helloworld@aol..com\",\n",
        "             \"yourfavoriteband@g6.org\", \"@codingtemple.com\"]\n",
        "\n",
        "# You can also use the $ at the end of your compile expression -- this stops the search\n",
        "\n",
        "#.com OR .org => com|org\n",
        "\n",
        "def validate_email(email):\n",
        "    pattern = re.compile(\"([A-Za-z0-9]+)@([A-Za-z0-9]+).(org$|com)\")\n",
        "    \n",
        "    if pattern.match(email):\n",
        "        return email\n",
        "    else:\n",
        "        return None\n",
        "#Expected output:\n",
        "#None\n",
        "#pocohontas1776@gmail.com\n",
        "#None\n",
        "#yourfavoriteband@g6.org\n",
        "#None\n",
        "\n",
        "for email in my_emails:\n",
        "    print(validate_email(email))\n"
      ]
    },
    {
      "attachments": {},
      "cell_type": "markdown",
      "metadata": {
        "id": "7SvPDEPUAZoH"
      },
      "source": [
        "### Opening a File <br>\n",
        "<p>Python gives us a couple ways to import files, below are the two used most often.</p>"
      ]
    },
    {
      "attachments": {},
      "cell_type": "markdown",
      "metadata": {
        "id": "7NshyCNvAZoH"
      },
      "source": [
        "##### open()"
      ]
    },
    {
      "cell_type": "code",
      "execution_count": 169,
      "metadata": {
        "id": "R06Sh5-FAZoH"
      },
      "outputs": [
        {
          "name": "stdout",
          "output_type": "stream",
          "text": [
            "Abraham Lincoln\n",
            "Andrew P Garfield\n",
            "Connor Milliken\n",
            "Jordan Alexander Williams\n",
            "Madonna\n",
            "programming is cool\n",
            "\n",
            "<class 'str'>\n"
          ]
        }
      ],
      "source": [
        "#Open the file\n",
        "f = open(r'C:\\Users\\Logan\\Documents\\GitHub\\bootcamp\\week_3\\regex_test.txt')\n",
        "\n",
        "# Read in the data\n",
        "data = f.read()\n",
        "\n",
        "# Print the data and type\n",
        "print(data)\n",
        "print(type(data))\n",
        "\n",
        "# ALWAYS CLOSE THE FILE!\n",
        "f.close()"
      ]
    },
    {
      "attachments": {},
      "cell_type": "markdown",
      "metadata": {
        "id": "ACOU8PwzAZoH"
      },
      "source": [
        "##### with open()"
      ]
    },
    {
      "cell_type": "code",
      "execution_count": 182,
      "metadata": {
        "id": "WTo40P6FAZoH"
      },
      "outputs": [
        {
          "name": "stdout",
          "output_type": "stream",
          "text": [
            "Hawkins, Derek\tderek@codingtemple.com\t(555) 555-5555\tTeacher, Coding Temple\t@derekhawkins\n",
            "Zhai, Mo\tmozhai@codingtemple.com\t(555) 555-5554\tTeacher, Coding Temple\n",
            "Johnson, Joe\tjoejohnson@codingtemple.com\t\tJohson, Joe\n",
            "Osterberg, Sven-Erik\tgovernor@norrbotten.co.se\t\tGovernor, Norrbotten\t@sverik\n",
            ", Tim\ttim@killerrabbit.com\t\tEnchanter, Killer Rabbit Cave\n",
            "Butz, Ryan\tryanb@codingtemple.com\t(555) 555-5543\tCEO, Coding Temple\t@ryanbutz\n",
            "Doctor, The\tdoctor+companion@tardis.co.uk\t\tTime Lord, Gallifrey\n",
            "Exampleson, Example\tme@example.com\t555-555-5552\tExample, Example Co.\t@example\n",
            "Pael, Ripal\tripalp@codingtemple.com\t(555) 555-5553\tTeacher, Coding Temple\t@ripalp\n",
            "Vader, Darth\tdarth-vader@empire.gov\t(555) 555-4444\tSith Lord, Galactic Empire\t@darthvader\n",
            "Fernandez de la Vega Sanz, Maria Teresa\tmtfvs@spain.gov\t\tFirst Deputy Prime Minister, Spanish Gov\n",
            "\n"
          ]
        }
      ],
      "source": [
        "with open(r'C:\\Users\\Logan\\Documents\\GitHub\\bootcamp\\week_3\\names.txt', encoding='utf-8') as f:\n",
        "    data = f.read()\n",
        "    print(data)\n",
        "    f.close()"
      ]
    },
    {
      "attachments": {},
      "cell_type": "markdown",
      "metadata": {
        "id": "LeX9ZH_nAZoH"
      },
      "source": [
        "##### re.search()"
      ]
    },
    {
      "cell_type": "code",
      "execution_count": 174,
      "metadata": {
        "id": "UE5h5Z59AZoH"
      },
      "outputs": [
        {
          "data": {
            "text/plain": [
              "<re.Match object; span=(582, 605), match='ripalp@codingtemple.com'>"
            ]
          },
          "execution_count": 174,
          "metadata": {},
          "output_type": "execute_result"
        }
      ],
      "source": [
        "re.search(r'ripalp@codingtemple.com', data)"
      ]
    },
    {
      "attachments": {},
      "cell_type": "markdown",
      "metadata": {
        "id": "89ATa2GmAZoI"
      },
      "source": [
        "##### Store the String to a Variable"
      ]
    },
    {
      "cell_type": "code",
      "execution_count": 175,
      "metadata": {
        "id": "eVZ7Ly1qAZoI"
      },
      "outputs": [
        {
          "name": "stdout",
          "output_type": "stream",
          "text": [
            "['empire']\n",
            "I found your data: ['empire']\n"
          ]
        }
      ],
      "source": [
        "answer = input('What would you like to search for..?')\n",
        "found = re.findall(answer, data)\n",
        "print(found)\n",
        "if found:\n",
        "    print(f'I found your data: {found}')\n",
        "else:\n",
        "    print('Nothing here folks!')\n",
        "    \n",
        "    "
      ]
    },
    {
      "attachments": {},
      "cell_type": "markdown",
      "metadata": {
        "id": "SSiDJtVyAZoI"
      },
      "source": [
        "### In-Class Exercise #3 <br>\n",
        "<p>Print each persons name and twitter handle, using groups, should look like:</p>\n",
        "<p>==============<br>\n",
        "   Full Name / Twitter<br>\n",
        "   ==============</p>\n",
        "Derek Hawkins / @derekhawkins\n",
        "\n",
        " Erik Sven-Osterberg / @sverik\n",
        "\n",
        " Ryan Butz / @ryanbutz\n",
        "\n",
        " Example Exampleson / @example\n",
        "\n",
        " Ripal Pael / @ripalp\n",
        "\n",
        " Darth Vader / @darthvader"
      ]
    },
    {
      "cell_type": "code",
      "execution_count": 200,
      "metadata": {},
      "outputs": [
        {
          "name": "stdout",
          "output_type": "stream",
          "text": [
            "('Hawkins', 'Derek', '@derekhawkins')\n",
            "('Osterberg', 'Sven-Erik', '@sverik')\n",
            "('Butz', 'Ryan', '@ryanbutz')\n",
            "('Exampleson', 'Example', '@example')\n",
            "('Pael', 'Ripal', '@ripalp')\n",
            "('Vader', 'Darth', '@darthvader')\n"
          ]
        }
      ],
      "source": [
        "def accounts(data):\n",
        "    pattern = re.compile(r\"([A-Za-z-]+),([A-Za-z-]+).*([A-Za-z0-9_-]+)$\", re.MULTILINE) #i was wrong\n",
        "    pattern = re.compile(r\"([A-Za-z-]+), ([A-Za-z-]+).*(@[A-Za-z0-9_-]+)$\", re.MULTILINE)\n",
        "    matches = pattern.findall(data)\n",
        "    for match in matches:\n",
        "        print(match)\n",
        "\n",
        "accounts(data)\n",
        "\n"
      ]
    }
  ],
  "metadata": {
    "colab": {
      "provenance": []
    },
    "kernelspec": {
      "display_name": "Python 3",
      "language": "python",
      "name": "python3"
    },
    "language_info": {
      "codemirror_mode": {
        "name": "ipython",
        "version": 3
      },
      "file_extension": ".py",
      "mimetype": "text/x-python",
      "name": "python",
      "nbconvert_exporter": "python",
      "pygments_lexer": "ipython3",
      "version": "3.10.8"
    },
    "vscode": {
      "interpreter": {
        "hash": "26de051ba29f2982a8de78e945f0abaf191376122a1563185a90213a26c5da77"
      }
    }
  },
  "nbformat": 4,
  "nbformat_minor": 0
}
