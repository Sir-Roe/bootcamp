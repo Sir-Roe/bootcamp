{
  "cells": [
    {
      "attachments": {},
      "cell_type": "markdown",
      "metadata": {
        "id": "6CWTVFmn_Mve"
      },
      "source": [
        "# Coding Temple's Data Analytics Program:\n",
        "---\n",
        "## Python II: Map, Filter, Reduce, Lambda & Recursion\n",
        "---"
      ]
    },
    {
      "attachments": {},
      "cell_type": "markdown",
      "metadata": {
        "id": "sBZJzyxj_Mvi"
      },
      "source": [
        "## Tasks Today:\n",
        "\n",
        "1) <b>Lambda Functions</b> <br>\n",
        " &nbsp;&nbsp;&nbsp;&nbsp; a) Syntax <br>\n",
        " &nbsp;&nbsp;&nbsp;&nbsp; b) Saving to a Variable <br>\n",
        " &nbsp;&nbsp;&nbsp;&nbsp; c) Multiple Inputs <br>\n",
        " &nbsp;&nbsp;&nbsp;&nbsp; d) Passing a Lambda into a Function <br>\n",
        " &nbsp;&nbsp;&nbsp;&nbsp; e) Returning a Lambda from a Function <br>\n",
        " &nbsp;&nbsp;&nbsp;&nbsp; f) In-Class Exercise #1 <br>\n",
        "2) <b>Map</b> <br>\n",
        " &nbsp;&nbsp;&nbsp;&nbsp; a) Syntax <br>\n",
        " &nbsp;&nbsp;&nbsp;&nbsp; b) Using Lambda's with Map <br>\n",
        " &nbsp;&nbsp;&nbsp;&nbsp; c) In-Class Exercise #2 <br>\n",
        "3) <b>Filter</b> <br>\n",
        " &nbsp;&nbsp;&nbsp;&nbsp; a) Syntax <br>\n",
        " &nbsp;&nbsp;&nbsp;&nbsp; b) Using Lambda's with Filter <br>\n",
        " &nbsp;&nbsp;&nbsp;&nbsp; c) In-Class Exercise #3 <br>\n",
        "4) <b>Recursion</b> <br>\n",
        " &nbsp;&nbsp;&nbsp;&nbsp; a) Implementing a Base <br>\n",
        " &nbsp;&nbsp;&nbsp;&nbsp; b) Writing a Factorial Function <br>\n",
        " &nbsp;&nbsp;&nbsp;&nbsp; c) In-Class Exercise #4 <br>\n",
        "5) <b>Generators & Iterators</b> <br>\n",
        " &nbsp;&nbsp;&nbsp;&nbsp; a) Yield Keyword <br>\n",
        " &nbsp;&nbsp;&nbsp;&nbsp; c) In-Class Exercise #5 <br>\n",
        "6) <b>Exercises</b> <br>\n",
        " &nbsp;&nbsp;&nbsp;&nbsp; a) Exercise #1 - Filtering Empty Strings <br>\n",
        " &nbsp;&nbsp;&nbsp;&nbsp; b) Exercise #2 - Sorting with Last Name <br>\n",
        " &nbsp;&nbsp;&nbsp;&nbsp; c) Exercise #3 - Conversion to Farhenheit <br>\n",
        " &nbsp;&nbsp;&nbsp;&nbsp; d) Exercise #4 - Fibonacci Sequence <br>"
      ]
    },
    {
      "attachments": {},
      "cell_type": "markdown",
      "metadata": {
        "id": "zv3SnIM0_Mvj"
      },
      "source": [
        "## Lambda Functions <br>\n",
        "<p>Lambda functions... or \"Anonymous Functions\" are referring to inline functions with no name. The keyword lambda denotes the no name function, and executes within a single line. Without saving it to a variable; however, it is not able to be used, unless passed in either as a paramater or within list comprehension.<br>Written as \"(keyword lambda) (one or more inputs) (colon) (function to be executed)\"</p>"
      ]
    },
    {
      "attachments": {},
      "cell_type": "markdown",
      "metadata": {
        "id": "RU6TAdoo_Mvk"
      },
      "source": [
        "#### Syntax"
      ]
    },
    {
      "cell_type": "code",
      "execution_count": null,
      "metadata": {
        "id": "lepRXkqx_Mvk"
      },
      "outputs": [
        {
          "name": "stdout",
          "output_type": "stream",
          "text": [
            "6\n",
            "6\n"
          ]
        }
      ],
      "source": [
        "# lambda >input< x: what we want to do\n",
        "# Let's take a look at how we can create a function to add two to a variable\n",
        "def add_two(x):\n",
        "    return x+2\n",
        "\n",
        "# Then we can test it:\n",
        "print(add_two(4))\n",
        "# This is great if we are looking to reuse this function over and over again.\n",
        "# But what if this was something I only wanted to do once?\n",
        "# Lambda comes into play!\n",
        "a_var = 4\n",
        "print((lambda x: x+2)(a_var))"
      ]
    },
    {
      "attachments": {},
      "cell_type": "markdown",
      "metadata": {},
      "source": [
        "In terms of time and space complexity, they are the same in performance as a normal function, if not worse at times.\n",
        "\n",
        "Again, Lambda should be used when we want to do a single function and not reuse it."
      ]
    },
    {
      "attachments": {},
      "cell_type": "markdown",
      "metadata": {
        "id": "z3yd8V5q_Mvl"
      },
      "source": [
        "#### Saving to a Variable"
      ]
    },
    {
      "cell_type": "code",
      "execution_count": 4,
      "metadata": {
        "id": "PH1dgTHI_Mvl"
      },
      "outputs": [
        {
          "data": {
            "text/plain": [
              "6"
            ]
          },
          "execution_count": 4,
          "metadata": {},
          "output_type": "execute_result"
        }
      ],
      "source": [
        "# We can save a lambda function to a variable for reusability\n",
        "# Do not recommend this as you can write a function to do the same thing.\n",
        "f_test = lambda x: x+2\n",
        "f_test(4)"
      ]
    },
    {
      "cell_type": "code",
      "execution_count": 5,
      "metadata": {},
      "outputs": [
        {
          "data": {
            "text/plain": [
              "80"
            ]
          },
          "execution_count": 5,
          "metadata": {},
          "output_type": "execute_result"
        }
      ],
      "source": [
        "f_test(78)"
      ]
    },
    {
      "attachments": {},
      "cell_type": "markdown",
      "metadata": {
        "id": "LEnhQ206_Mvl"
      },
      "source": [
        "#### Multiple Inputs"
      ]
    },
    {
      "cell_type": "code",
      "execution_count": 7,
      "metadata": {
        "id": "yhz4e8oc_Mvm"
      },
      "outputs": [
        {
          "name": "stdout",
          "output_type": "stream",
          "text": [
            "120\n",
            "120\n"
          ]
        }
      ],
      "source": [
        "# No variable\n",
        "print((lambda x,y,z: x * y * z)(3,5,8))\n",
        "\n",
        "# If we wanted to save the lambda function as a variable, we could as well with multiple inputs:\n",
        "x_test = lambda x,y,z: x * y * z\n",
        "print(x_test(3,5,8))"
      ]
    },
    {
      "attachments": {},
      "cell_type": "markdown",
      "metadata": {
        "id": "0rAdEh_O_Mvm"
      },
      "source": [
        "#### Passing a Lambda into a Function"
      ]
    },
    {
      "cell_type": "code",
      "execution_count": 9,
      "metadata": {
        "id": "YMH292Cx_Mvm"
      },
      "outputs": [
        {
          "data": {
            "text/plain": [
              "16"
            ]
          },
          "execution_count": 9,
          "metadata": {},
          "output_type": "execute_result"
        }
      ],
      "source": [
        "def multiply(function, num):\n",
        "    \"\"\"\n",
        "    f expects to see a function (lambda function) \n",
        "    num expects a single number\n",
        "    \"\"\"\n",
        "    return function(num)\n",
        "\n",
        "multiply(lambda x: x*x, 4)\n",
        "\n",
        "# Not only can we pass lambda functions into another function, but we pass actual functions in as well.\n",
        "def squared_nums(num):\n",
        "    return num ** 2\n",
        "\n",
        "multiply(squared_nums, 4)"
      ]
    },
    {
      "attachments": {},
      "cell_type": "markdown",
      "metadata": {
        "id": "ZLGVscCG_Mvn"
      },
      "source": [
        "#### Returning a Lambda from a Function"
      ]
    },
    {
      "cell_type": "code",
      "execution_count": 5,
      "metadata": {
        "id": "QKwjPC7n_Mvn"
      },
      "outputs": [
        {
          "name": "stdout",
          "output_type": "stream",
          "text": [
            "8\n",
            "<function return_lamb.<locals>.<lambda> at 0x00000215469239A0>\n",
            "23\n"
          ]
        }
      ],
      "source": [
        "def multiply_test(num):\n",
        "    return num * 4\n",
        "\n",
        "# Let's try function inside of another function\n",
        "def return_func():\n",
        "\n",
        "    def multiply(num):\n",
        "        return num*2\n",
        "    return multiply\n",
        "\n",
        "f_return = return_func()\n",
        "print(f_return(4))\n",
        "\n",
        "#print(return_func(4)) #need to list num as an arg IF you do this\n",
        "# What if I wanted to instead return a lambda function from my regular function?\n",
        "def return_lamb(b,c):\n",
        "    return lambda x,a: x+a+b+c\n",
        "\n",
        "r_lamb = return_lamb(4,5)\n",
        "print(r_lamb)\n",
        "print(r_lamb(5,9))"
      ]
    },
    {
      "attachments": {},
      "cell_type": "markdown",
      "metadata": {
        "id": "WGTdhTpo_Mvn"
      },
      "source": [
        "#### If Statements within Lambdas"
      ]
    },
    {
      "cell_type": "code",
      "execution_count": 21,
      "metadata": {
        "id": "TYYHh_mD_Mvn"
      },
      "outputs": [
        {
          "name": "stdout",
          "output_type": "stream",
          "text": [
            "10\n",
            "40\n"
          ]
        }
      ],
      "source": [
        "# Lambdas are set up to be able to take in conditional statements\n",
        "# Lambda x: True if (condition happens) else False\n",
        "# Lambda x: do something if (condition happens) else do something else\n",
        "f_conditional = lambda num: num * 2 if num > 10 else num + 2\n",
        "print(f_conditional(8))\n",
        "print(f_conditional(20))"
      ]
    },
    {
      "cell_type": "code",
      "execution_count": 7,
      "metadata": {},
      "outputs": [
        {
          "ename": "NameError",
          "evalue": "name 'f_conditional' is not defined",
          "output_type": "error",
          "traceback": [
            "\u001b[1;31m---------------------------------------------------------------------------\u001b[0m",
            "\u001b[1;31mNameError\u001b[0m                                 Traceback (most recent call last)",
            "Cell \u001b[1;32mIn[7], line 3\u001b[0m\n\u001b[0;32m      1\u001b[0m lst \u001b[39m=\u001b[39m [\u001b[39m1\u001b[39m,\u001b[39m2\u001b[39m,\u001b[39m3\u001b[39m,\u001b[39m4\u001b[39m,\u001b[39m5\u001b[39m,\u001b[39m6\u001b[39m,\u001b[39m7\u001b[39m,\u001b[39m8\u001b[39m,\u001b[39m9\u001b[39m,\u001b[39m10\u001b[39m,\u001b[39m11\u001b[39m,\u001b[39m12\u001b[39m,\u001b[39m13\u001b[39m]\n\u001b[1;32m----> 3\u001b[0m [f_conditional(num) \u001b[39mfor\u001b[39;00m num \u001b[39min\u001b[39;00m lst]\n",
            "Cell \u001b[1;32mIn[7], line 3\u001b[0m, in \u001b[0;36m<listcomp>\u001b[1;34m(.0)\u001b[0m\n\u001b[0;32m      1\u001b[0m lst \u001b[39m=\u001b[39m [\u001b[39m1\u001b[39m,\u001b[39m2\u001b[39m,\u001b[39m3\u001b[39m,\u001b[39m4\u001b[39m,\u001b[39m5\u001b[39m,\u001b[39m6\u001b[39m,\u001b[39m7\u001b[39m,\u001b[39m8\u001b[39m,\u001b[39m9\u001b[39m,\u001b[39m10\u001b[39m,\u001b[39m11\u001b[39m,\u001b[39m12\u001b[39m,\u001b[39m13\u001b[39m]\n\u001b[1;32m----> 3\u001b[0m [f_conditional(num) \u001b[39mfor\u001b[39;00m num \u001b[39min\u001b[39;00m lst]\n",
            "\u001b[1;31mNameError\u001b[0m: name 'f_conditional' is not defined"
          ]
        }
      ],
      "source": [
        "lst = [1,2,3,4,5,6,7,8,9,10,11,12,13]\n",
        "\n",
        "[f_conditional(num) for num in lst]"
      ]
    },
    {
      "attachments": {},
      "cell_type": "markdown",
      "metadata": {
        "id": "Va27c3uJ_Mvn"
      },
      "source": [
        "#### In-Class Exercise #1 <br>\n",
        "<p>Write an anonymous function that cubes the arguments passed in and assign the anonymous function to a variable 'f'.</p>"
      ]
    },
    {
      "cell_type": "code",
      "execution_count": 6,
      "metadata": {
        "id": "Daf-1bIP_Mvo"
      },
      "outputs": [
        {
          "name": "stdout",
          "output_type": "stream",
          "text": [
            "8\n"
          ]
        }
      ],
      "source": [
        "# Write out a function that cubes any number\n",
        "f= lambda x: x**3\n",
        "\n",
        "print(f(2))"
      ]
    },
    {
      "attachments": {},
      "cell_type": "markdown",
      "metadata": {
        "id": "yJJUgxKC_Mvo"
      },
      "source": [
        "## Map <br>\n",
        "<p>The map function allows you to iterate over an entire list while running a function on each item of the list. This is why the map function works well with lambda's, because it simplifies things and you write less lines of code.<br>The syntax for a map function is \"map(function to be used, list to be used)\"<br>However, you must be careful, as the map function returns a map object, not a list. To turn it into a list we use the list() type conversion.</p>"
      ]
    },
    {
      "attachments": {},
      "cell_type": "markdown",
      "metadata": {
        "id": "Xt_Jq1tZ_Mvo"
      },
      "source": [
        "#### Syntax"
      ]
    },
    {
      "cell_type": "code",
      "execution_count": 9,
      "metadata": {
        "id": "TGgEI05r_Mvo"
      },
      "outputs": [
        {
          "name": "stdout",
          "output_type": "stream",
          "text": [
            "CPU times: total: 0 ns\n",
            "Wall time: 0 ns\n",
            "[16, 121, 400, 9, 225, 400, 121, 4, 9, 36, 25, 1, 1936, 1]\n"
          ]
        }
      ],
      "source": [
        "numbers = [4,11,20,3,15,20,11,2,3,6,5,1,44,1]\n",
        "\n",
        "# Normally, in order to use a function with this, we would iterate through the list!\n",
        "%time\n",
        "def squared_normal(val):\n",
        "    return val **2\n",
        "lst = []\n",
        "for num in numbers:\n",
        "    lst.append(squared_normal(num))\n",
        "\n",
        "print(lst)"
      ]
    },
    {
      "cell_type": "code",
      "execution_count": 16,
      "metadata": {},
      "outputs": [
        {
          "name": "stdout",
          "output_type": "stream",
          "text": [
            "CPU times: total: 0 ns\n",
            "Wall time: 0 ns\n",
            "[(16, 16), (11, 10), (20, 3), (9, 4), (15, 6), (20, 10), (11, 15), (4, 9), (9, 16), (36, 49), (25, 36), (1, 0), (44, 41), (1, 4)]\n",
            "[16, 121, 400, 9, 225, 400, 121, 4, 9, 36, 25, 1, 1936, 1]\n"
          ]
        }
      ],
      "source": [
        "# By using a map function, we can iterate through a list and apply a function without ever having to iterate ourselves.\n",
        "\n",
        "\"\"\"\n",
        "map(function, iterable)\n",
        "An iterable is something we can loop over; such as a list, dict, tuple, set, or a string.\n",
        "Normally, you would use map with a predefined function, but we can use it with a lambda statement.\n",
        "\"\"\"\n",
        "%time\n",
        "def squared_map(num, num2):\n",
        "    if num < 10 and num2 < 10:\n",
        "        return num**2, num2 **2\n",
        "    else:\n",
        "        return num, num2\n",
        "\n",
        "numbers = [4,11,20,3,15,20,11,2,3,6,5,1,44,1]\n",
        "more_nums = [4,10,3,2,6,10,15,3,4,7,6,0,41,2]\n",
        "\n",
        "# In order to use the squared_map function without a map, we would need to iterate through the lists\n",
        "# To do so effectively, we would need to utilize the zip() function, which brings together two iterables\n",
        "# And returns each value in those iterables.\n",
        "#for val1, val2 in zip(numbers, more_nums):\n",
        " #   print(squared_map(val1, val2))\n",
        "\n",
        "''' \n",
        "When we use map against two or more iterable objects, we get returned a list of tuples\n",
        "Each value in the tuple represents a value in the corresponding input list\n",
        "Note: When we use map, a map object is what is returned. To make sure that we are appropriately \n",
        "Displaying the information, we use the list function\n",
        "'''\n",
        "squared_numbers_mapped = list(map(squared_map, numbers, more_nums))\n",
        "print(squared_numbers_mapped)\n",
        "\n",
        "# When we use map against a single iterable object, we will be returned a list of values\n",
        "# Where each value corresponds to the value in the input object.\n",
        "another_squared_nums_mapped = list(map(squared_normal, numbers))\n",
        "print(another_squared_nums_mapped)"
      ]
    },
    {
      "attachments": {},
      "cell_type": "markdown",
      "metadata": {
        "id": "AjWn3RPM_Mvo"
      },
      "source": [
        "#### Using Lambda's with Map"
      ]
    },
    {
      "cell_type": "code",
      "execution_count": 43,
      "metadata": {
        "id": "yKj7455A_Mvp"
      },
      "outputs": [
        {
          "data": {
            "text/plain": [
              "[(16, 16),\n",
              " (11, 10),\n",
              " (20, 3),\n",
              " (9, 4),\n",
              " (15, 6),\n",
              " (20, 10),\n",
              " (11, 15),\n",
              " (4, 9),\n",
              " (9, 16),\n",
              " (36, 49),\n",
              " (25, 36),\n",
              " (1, 0),\n",
              " (44, 41),\n",
              " (1, 4)]"
            ]
          },
          "execution_count": 43,
          "metadata": {},
          "output_type": "execute_result"
        }
      ],
      "source": [
        "\"\"\"\n",
        "Instead of having to build out a function that we plan to use one time,\n",
        "We can use a lambda inside the map function, allowing us to do everything in a single line of code\n",
        "\n",
        "Syntax for this looks like:\n",
        "map(lambda x: do something, iterable)\n",
        "Once more, using lambda in map almost ALWAYS takes place in a single line of code!\n",
        "\"\"\"\n",
        "\n",
        "# Remember that we need to use the list function in conjunction with the map function in order to return the values given\n",
        "# Otherwise, we return the map object, which is useless to us\n",
        "list(map(lambda x,y: (x**2, y**2) if x < 10 and y < 10 else (x,y), numbers, more_nums))"
      ]
    },
    {
      "attachments": {},
      "cell_type": "markdown",
      "metadata": {
        "id": "gwStMhKG_Mvp"
      },
      "source": [
        "#### In-Class Exercise #2 <br>\n",
        "<p>Use the map function to double each number and minus it by one in the list by using a lambda function</p>"
      ]
    },
    {
      "cell_type": "code",
      "execution_count": 26,
      "metadata": {
        "id": "bwnXQjML_Mvp"
      },
      "outputs": [
        {
          "name": "stdout",
          "output_type": "stream",
          "text": [
            "[(7, 7), (21, 19), (39, 5), (5, 3), (29, 11), (39, 19), (21, 29), (3, 5), (5, 7), (11, 13), (9, 11), (1, -1), (87, 81), (1, 3)]\n"
          ]
        },
        {
          "data": {
            "text/plain": [
              "['*****', '*abc*', '*ded*', '*****']"
            ]
          },
          "execution_count": 26,
          "metadata": {},
          "output_type": "execute_result"
        }
      ],
      "source": [
        "\n",
        "print(list(map(lambda x,y: (x*2 -1, y*2 -1), numbers, more_nums)))\n",
        "\n",
        "# Let's reflect back to today's whiteboard:\n",
        "# How could I use a map function to add the asterisks to the string values using a lambda?\n",
        "picture = [ '','abc', 'ded', '']\n",
        "# Using string values inside the lambda function, and applying acrossed a list of strings\n",
        "list(map(lambda x: '*' + x + '*' if len(x) > 1 else '*****', picture))"
      ]
    },
    {
      "attachments": {},
      "cell_type": "markdown",
      "metadata": {
        "id": "1yP5tS-5_Mvp"
      },
      "source": [
        "## Filter() <br>\n",
        "<p>Filter's are similar to the map function, where you're able to pass a function argument and a list argument and filter out something from the list based on the conditions passed. Similar to the map function, it returns a filter object, so you need to type convert it to a list()</p>"
      ]
    },
    {
      "attachments": {},
      "cell_type": "markdown",
      "metadata": {
        "id": "-4E29XVC_Mvp"
      },
      "source": [
        "#### Syntax"
      ]
    },
    {
      "cell_type": "code",
      "execution_count": 51,
      "metadata": {
        "id": "HUjqkTZ2_Mvp"
      },
      "outputs": [
        {
          "data": {
            "text/plain": [
              "['Andy', 'Angela']"
            ]
          },
          "execution_count": 51,
          "metadata": {},
          "output_type": "execute_result"
        }
      ],
      "source": [
        "# Syntax for this looks like:\n",
        "# list(filter(function, iterable(s)))\n",
        "# A lot like a mask\n",
        "names = ['Bob', 'Andy', 'Max', 'Evan', 'Angela']\n",
        "\n",
        "def a_names(name):\n",
        "    # In this function, we will check to see if the first letter of each name begins with 'A'\n",
        "    if name[0].lower() == 'a':\n",
        "        return True\n",
        "    else: # If it is not an 'a'\n",
        "        return False\n",
        "    \n",
        "# Our function returns a boolean value. It will allow our filter() function to return only the names in a list that start with \"A\"\n",
        "list(filter(a_names, names))"
      ]
    },
    {
      "cell_type": "code",
      "execution_count": 68,
      "metadata": {},
      "outputs": [
        {
          "name": "stdout",
          "output_type": "stream",
          "text": [
            "Bob B ob\n",
            "Andy A ndy\n",
            "Max M ax\n",
            "Evan E van\n",
            "Angela A ngela\n"
          ]
        }
      ],
      "source": [
        "# A string is an iterable as well as indexable. So when index the zeroith position of a string value,\n",
        "# we return the very first value in that string\n",
        "for name in names:\n",
        "    print(name, name[0], name[1:])"
      ]
    },
    {
      "attachments": {},
      "cell_type": "markdown",
      "metadata": {
        "id": "OPzBC9Cb_Mvp"
      },
      "source": [
        "#### Using Lambda's with Filter()"
      ]
    },
    {
      "cell_type": "code",
      "execution_count": 72,
      "metadata": {
        "id": "zjxgmw9T_Mvq"
      },
      "outputs": [
        {
          "data": {
            "text/plain": [
              "['Andy', 'Angela']"
            ]
          },
          "execution_count": 72,
          "metadata": {},
          "output_type": "execute_result"
        }
      ],
      "source": [
        "# We can also use Lambdas with the filter function! \n",
        "# This is great if you are looking to filter data with a single-use function instead of having to define\n",
        "# And create another function like we did above\n",
        "\n",
        "# When a lambda, or comprehension, we typicall write out the value we want returned FIRST, then follow up with the if\n",
        "# The best way to think about this is just a reverse loop or reversed if statement\n",
        "list(filter(lambda name: True if name[0].lower() == 'a' else False, names))\n",
        "\n",
        "# Instead of this:\n",
        "for name in names:\n",
        "    if name[0].lower() == 'a':\n",
        "        print(True)\n",
        "    else:\n",
        "        print(False)\n",
        "\n",
        "# We say \n",
        "for name in names:\n",
        "    lambda name: True if name[0].lower == 'a' else False\n",
        "    \n",
        "# List comprehension method:\n",
        "[True if name[0].lower() == 'a' else False for name in names]"
      ]
    },
    {
      "attachments": {},
      "cell_type": "markdown",
      "metadata": {
        "id": "Fih1P0Cy_Mvq"
      },
      "source": [
        "#### In-Class Exercise #3 <br>\n",
        "<p>Filter out all the numbers that are below the mean of the list.<br><b>Hint: Import the 'statistics' module</b></p>"
      ]
    },
    {
      "cell_type": "code",
      "execution_count": 35,
      "metadata": {
        "id": "l4ZWP74-_Mvq"
      },
      "outputs": [
        {
          "name": "stdout",
          "output_type": "stream",
          "text": [
            "10.428571428571429\n",
            "10.428571428571429\n",
            "[11, 20, 15, 20, 11, 44]\n",
            "[11, 20, 15, 20, 11, 44]\n",
            "[11, 20, 15, 20, 11, 44]\n"
          ]
        }
      ],
      "source": [
        "import statistics\n",
        "import numpy as np\n",
        "numbers = [4,11,20,3,15,20,11,2,3,6,5,1,44,1]\n",
        "# Using the statstics module to gather the mean\n",
        "print(statistics.mean(numbers))\n",
        "\n",
        "# Using the numpy library to gather the mean as well\n",
        "print(np.mean(numbers))\n",
        "\n",
        "# There are three ways to go about this.\n",
        "\n",
        "# Number 1: Using vanilla Python\n",
        "print(list(filter(lambda x: True if (sum(numbers)/len(numbers))<x else False,numbers)))\n",
        "\n",
        "# Number 2: Using the numpy library\n",
        "print(list(filter(lambda x: True if (np.mean(numbers))<x else False,numbers)))\n",
        "\n",
        "# Number 3: Using the Statistics module\n",
        "print(list(filter(lambda x: True if (statistics.mean(numbers))<x else False,numbers)))"
      ]
    },
    {
      "attachments": {},
      "cell_type": "markdown",
      "metadata": {
        "id": "wh_Bw27v_Mvr"
      },
      "source": [
        "## Recursion <br>\n",
        "<p>Recursion means that a function is calling itself, so it contanstly executes until a base case is reached. It will then push the returning values back up the chain until the function is complete. A prime example of recursion is computing factorials... such that 5! (factorial) is 5*4*3*2*1 which equals 120.</p>"
      ]
    },
    {
      "attachments": {},
      "cell_type": "markdown",
      "metadata": {},
      "source": [
        "#### Show a way to break the program by creating an infinite loop!"
      ]
    },
    {
      "cell_type": "code",
      "execution_count": 81,
      "metadata": {},
      "outputs": [
        {
          "ename": "RecursionError",
          "evalue": "maximum recursion depth exceeded",
          "output_type": "error",
          "traceback": [
            "\u001b[1;31m---------------------------------------------------------------------------\u001b[0m",
            "\u001b[1;31mRecursionError\u001b[0m                            Traceback (most recent call last)",
            "Cell \u001b[1;32mIn[81], line 10\u001b[0m\n\u001b[0;32m      7\u001b[0m     \u001b[39melse\u001b[39;00m:\n\u001b[0;32m      8\u001b[0m         \u001b[39mreturn\u001b[39;00m num\n\u001b[1;32m---> 10\u001b[0m add_nums_breakable(\u001b[39m5\u001b[39;49m)\n",
            "Cell \u001b[1;32mIn[81], line 6\u001b[0m, in \u001b[0;36madd_nums_breakable\u001b[1;34m(num)\u001b[0m\n\u001b[0;32m      2\u001b[0m \u001b[39mdef\u001b[39;00m \u001b[39madd_nums_breakable\u001b[39m(num):\n\u001b[0;32m      3\u001b[0m     \u001b[39m# Without a base case, we will end up infinitely looping through our program. Luckily, VS code has built in safeguards \u001b[39;00m\n\u001b[0;32m      4\u001b[0m     \u001b[39m# For you!\u001b[39;00m\n\u001b[0;32m      5\u001b[0m     \u001b[39mif\u001b[39;00m num\u001b[39m>\u001b[39m\u001b[39m-\u001b[39m\u001b[39m20000\u001b[39m:\n\u001b[1;32m----> 6\u001b[0m         \u001b[39mreturn\u001b[39;00m num \u001b[39m+\u001b[39m add_nums_breakable(num\u001b[39m-\u001b[39;49m\u001b[39m1\u001b[39;49m)\n\u001b[0;32m      7\u001b[0m     \u001b[39melse\u001b[39;00m:\n\u001b[0;32m      8\u001b[0m         \u001b[39mreturn\u001b[39;00m num\n",
            "Cell \u001b[1;32mIn[81], line 6\u001b[0m, in \u001b[0;36madd_nums_breakable\u001b[1;34m(num)\u001b[0m\n\u001b[0;32m      2\u001b[0m \u001b[39mdef\u001b[39;00m \u001b[39madd_nums_breakable\u001b[39m(num):\n\u001b[0;32m      3\u001b[0m     \u001b[39m# Without a base case, we will end up infinitely looping through our program. Luckily, VS code has built in safeguards \u001b[39;00m\n\u001b[0;32m      4\u001b[0m     \u001b[39m# For you!\u001b[39;00m\n\u001b[0;32m      5\u001b[0m     \u001b[39mif\u001b[39;00m num\u001b[39m>\u001b[39m\u001b[39m-\u001b[39m\u001b[39m20000\u001b[39m:\n\u001b[1;32m----> 6\u001b[0m         \u001b[39mreturn\u001b[39;00m num \u001b[39m+\u001b[39m add_nums_breakable(num\u001b[39m-\u001b[39;49m\u001b[39m1\u001b[39;49m)\n\u001b[0;32m      7\u001b[0m     \u001b[39melse\u001b[39;00m:\n\u001b[0;32m      8\u001b[0m         \u001b[39mreturn\u001b[39;00m num\n",
            "    \u001b[1;31m[... skipping similar frames: add_nums_breakable at line 6 (2971 times)]\u001b[0m\n",
            "Cell \u001b[1;32mIn[81], line 6\u001b[0m, in \u001b[0;36madd_nums_breakable\u001b[1;34m(num)\u001b[0m\n\u001b[0;32m      2\u001b[0m \u001b[39mdef\u001b[39;00m \u001b[39madd_nums_breakable\u001b[39m(num):\n\u001b[0;32m      3\u001b[0m     \u001b[39m# Without a base case, we will end up infinitely looping through our program. Luckily, VS code has built in safeguards \u001b[39;00m\n\u001b[0;32m      4\u001b[0m     \u001b[39m# For you!\u001b[39;00m\n\u001b[0;32m      5\u001b[0m     \u001b[39mif\u001b[39;00m num\u001b[39m>\u001b[39m\u001b[39m-\u001b[39m\u001b[39m20000\u001b[39m:\n\u001b[1;32m----> 6\u001b[0m         \u001b[39mreturn\u001b[39;00m num \u001b[39m+\u001b[39m add_nums_breakable(num\u001b[39m-\u001b[39;49m\u001b[39m1\u001b[39;49m)\n\u001b[0;32m      7\u001b[0m     \u001b[39melse\u001b[39;00m:\n\u001b[0;32m      8\u001b[0m         \u001b[39mreturn\u001b[39;00m num\n",
            "\u001b[1;31mRecursionError\u001b[0m: maximum recursion depth exceeded"
          ]
        }
      ],
      "source": [
        "# Start off with defining a function!\n",
        "def add_nums_breakable(num):\n",
        "    # Without a base case, we will end up infinitely looping through our program. Luckily, VS code has built in safeguards \n",
        "    # For you!\n",
        "    if num>-20000:\n",
        "        return num + add_nums_breakable(num-1)\n",
        "    else:\n",
        "        return num\n",
        "\n",
        "add_nums_breakable(5)"
      ]
    },
    {
      "attachments": {},
      "cell_type": "markdown",
      "metadata": {
        "id": "mB6AfpzO_Mvr"
      },
      "source": [
        "#### Implementing a Base Case"
      ]
    },
    {
      "cell_type": "code",
      "execution_count": 86,
      "metadata": {
        "id": "_Q3YQH6d_Mvr"
      },
      "outputs": [
        {
          "name": "stdout",
          "output_type": "stream",
          "text": [
            "add_nums(5) = 5 + add_nums(4)\n",
            "add_nums(4) = 4 + add_nums(3)\n",
            "add_nums(3) = 3 + add_nums(2)\n",
            "add_nums(2) = 2 + add_nums(1)\n",
            "add_nums(1) = 1\n"
          ]
        },
        {
          "data": {
            "text/plain": [
              "15"
            ]
          },
          "execution_count": 86,
          "metadata": {},
          "output_type": "execute_result"
        }
      ],
      "source": [
        "'''\n",
        "What is a base case?\n",
        "A base case is what cause the function to break out of it's infinite loop!\n",
        "It evaluates the value of the number or string at the moment it recurrs. To stop from going any further.\n",
        "These need to be implemented at the BEGINNING of your function, not after the recursive call.\n",
        "'''\n",
        "\n",
        "def add_nums(num):\n",
        "    # Implement a base case\n",
        "    if num <= 1:\n",
        "        print('add_nums(1) = 1')\n",
        "        return num\n",
        "    else:\n",
        "        print(f'add_nums({num}) = {num} + add_nums({num - 1})')\n",
        "    return num + add_nums(num-1)\n",
        "\n",
        "add_nums(5)"
      ]
    },
    {
      "attachments": {},
      "cell_type": "markdown",
      "metadata": {
        "id": "1DdB7n2q_Mvr"
      },
      "source": [
        "#### Writing a Factorial Function"
      ]
    },
    {
      "cell_type": "code",
      "execution_count": 90,
      "metadata": {
        "id": "LED-YD8u_Mvr"
      },
      "outputs": [
        {
          "name": "stdout",
          "output_type": "stream",
          "text": [
            "factorial(5) = 5 * factorial(4)\n",
            "factorial(4) = 4 * factorial(3)\n",
            "factorial(3) = 3 * factorial(2)\n",
            "factorial(2) = 2 * factorial(1)\n",
            "factorial(1) = 1\n",
            "120\n"
          ]
        },
        {
          "data": {
            "text/plain": [
              "120"
            ]
          },
          "execution_count": 90,
          "metadata": {},
          "output_type": "execute_result"
        }
      ],
      "source": [
        "# 5! = 5 * 4 * 3 * 2 * 1\n",
        "def factorial(num):\n",
        "    # Base case to begin with!\n",
        "    if num <= 1:\n",
        "        print(f'factorial({num}) = {num}')\n",
        "        return 1\n",
        "    else:\n",
        "        print(f'factorial({num}) = {num} * factorial({num - 1})')\n",
        "        return num * factorial(num -1) \n",
        "\n",
        "print(factorial(5))\n",
        "5*4*3*2*1"
      ]
    },
    {
      "attachments": {},
      "cell_type": "markdown",
      "metadata": {
        "id": "gdifMekI_Mvs"
      },
      "source": [
        "#### In-Class Exercise #4 <br>\n",
        "<p>Write a recursive function that subtracts all numbers to the argument given.</p>"
      ]
    },
    {
      "cell_type": "code",
      "execution_count": 51,
      "metadata": {
        "id": "-CjqAPyA_Mvs"
      },
      "outputs": [
        {
          "name": "stdout",
          "output_type": "stream",
          "text": [
            "3\n"
          ]
        }
      ],
      "source": [
        "# How can we use recursion to subtract two numbers from each other?\n",
        "# To start with, we will define a function\n",
        "# should be thought of as num1-num2\n",
        "\n",
        "\n",
        "'''my work'''\n",
        "\n",
        "def two_nums(x,y):\n",
        "    if y==0:\n",
        "        return x     \n",
        "    else:\n",
        "        x -= 1\n",
        "        y -= 1\n",
        "        return two_nums(x,y)\n",
        "\n",
        "print(two_nums(13,10))\n",
        "\n",
        "\n",
        "\n",
        "\n",
        "\n",
        "\n",
        "\n",
        "\n",
        "\n",
        "\n",
        "\n",
        "\n",
        "\n",
        "\n",
        "\n",
        "\n",
        "\n",
        "\n",
        "\n",
        "\n",
        "\n",
        "\n",
        "\n",
        "\n",
        "\n",
        "\n",
        "\n",
        "\n"
      ]
    },
    {
      "attachments": {},
      "cell_type": "markdown",
      "metadata": {
        "id": "6JL8oSYM_Mvs"
      },
      "source": [
        "## Generators <br>\n",
        "<p>Generators are a type of iterable, like lists or tuples. They do not allow indexing, but they can still be iterated through with for loops. They are created using functions and the yield statement.</p>"
      ]
    },
    {
      "attachments": {},
      "cell_type": "markdown",
      "metadata": {
        "id": "FWfVp4Wi_Mvs"
      },
      "source": [
        "#### Yield Keyword <br>\n",
        "<p>The yield keyword denotes a generator, it doesn't return so it won't leave the function and reset all variables in the function scope, instead it yields the number back to the caller.</p>"
      ]
    },
    {
      "cell_type": "code",
      "execution_count": 103,
      "metadata": {
        "id": "JVQbI32I_Mvs"
      },
      "outputs": [
        {
          "name": "stdout",
          "output_type": "stream",
          "text": [
            "[0, 1, 2, 3, 4, 5, 6, 7, 8, 9]\n",
            "[0, 1, 2, 3, 4, 5, 6, 7, 8, 9]\n"
          ]
        }
      ],
      "source": [
        "# Built in Python Generator\n",
        "print([i for i in range(10)])\n",
        "\n",
        "# Generator package up the values and yield them as opposed to returning them. Then, we can iterate through that generator\n",
        "# Object to return each value packaged inside of it.\n",
        "def my_range(stop, start = 0, step = 1):\n",
        "    while start < stop:\n",
        "        yield start # Yield means that is going to be a generator. It will not return anything when the function is run\n",
        "        start += step\n",
        "print([i for i in my_range(10)])"
      ]
    },
    {
      "attachments": {},
      "cell_type": "markdown",
      "metadata": {
        "id": "gybASoTd_Mvt"
      },
      "source": [
        "#### In-Class Exercise #5 <br>\n",
        "<p>Create a generator that takes a number argument and yields that number squared, then prints each number squared until zero is reached.</p>"
      ]
    },
    {
      "cell_type": "code",
      "execution_count": null,
      "metadata": {},
      "outputs": [],
      "source": []
    },
    {
      "cell_type": "code",
      "execution_count": 55,
      "metadata": {
        "id": "VlLNzwSO_Mvt"
      },
      "outputs": [
        {
          "name": "stdout",
          "output_type": "stream",
          "text": [
            "25\n",
            "16\n",
            "9\n",
            "4\n",
            "1\n",
            "[25, 16, 9, 4, 1]\n"
          ]
        }
      ],
      "source": [
        "def squaretill0(num):\n",
        "    while num>0:\n",
        "        yield num**2\n",
        "        print(num**2)\n",
        "        num-=1\n",
        "\n",
        "print([i for i in squaretill0(5)])\n"
      ]
    }
  ],
  "metadata": {
    "colab": {
      "provenance": []
    },
    "kernelspec": {
      "display_name": "Python 3",
      "language": "python",
      "name": "python3"
    },
    "language_info": {
      "codemirror_mode": {
        "name": "ipython",
        "version": 3
      },
      "file_extension": ".py",
      "mimetype": "text/x-python",
      "name": "python",
      "nbconvert_exporter": "python",
      "pygments_lexer": "ipython3",
      "version": "3.10.0"
    },
    "vscode": {
      "interpreter": {
        "hash": "26de051ba29f2982a8de78e945f0abaf191376122a1563185a90213a26c5da77"
      }
    }
  },
  "nbformat": 4,
  "nbformat_minor": 0
}
