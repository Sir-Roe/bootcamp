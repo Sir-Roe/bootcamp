{
  "cells": [
    {
      "attachments": {},
      "cell_type": "markdown",
      "metadata": {
        "id": "ZvNsvUNNlZbi"
      },
      "source": [
        "# Coding Temple's Data Analytics Program  \n",
        "---\n",
        "# Advanced Python - Intro to `numpy`\n",
        "---\n",
        "\n"
      ]
    },
    {
      "attachments": {},
      "cell_type": "markdown",
      "metadata": {
        "id": "xMq6Of2Gt24o"
      },
      "source": [
        "## Part 1: Working with `numpy`\n"
      ]
    },
    {
      "attachments": {},
      "cell_type": "markdown",
      "metadata": {
        "id": "76eJSGb5gwtY"
      },
      "source": [
        "### 1.1 Importing `numpy`\n",
        "\n",
        "We've already used the `numpy` package by importing it and assigning it the standard alias of `np`. Do this again in the following cell - the more you practice typing these lines of code, the easier it will be to remember."
      ]
    },
    {
      "cell_type": "code",
      "execution_count": 187,
      "metadata": {
        "id": "h3r0IvHVuGJb"
      },
      "outputs": [],
      "source": [
        "# Import numpy and assign it the standard alias\n",
        "# YOUR CODE HERE\n",
        "import numpy as np"
      ]
    },
    {
      "attachments": {},
      "cell_type": "markdown",
      "metadata": {},
      "source": [
        "### 1.1 Solution - Run this cell to check your answer in 1.1. Please do not edit the values in this cell!"
      ]
    },
    {
      "cell_type": "code",
      "execution_count": 188,
      "metadata": {},
      "outputs": [],
      "source": [
        "# DO NOT EDIT THIS CELL\n",
        "assert np.__name__ == 'numpy', 'Make sure that you have properly imported numpy and aliased it as np!'"
      ]
    },
    {
      "attachments": {},
      "cell_type": "markdown",
      "metadata": {
        "id": "DvYie7qokbDH"
      },
      "source": [
        "### 1.2 Generate random numbers\n",
        "\n",
        "Create a `(5,3)` `numpy` array of random integer values between 0 and 100.\n",
        "\n",
        "Use the the `random()` method in numpy to generate these integers. Name your new variable `myarray`. You should also print the array to check it's dimensions and values."
      ]
    },
    {
      "cell_type": "code",
      "execution_count": 211,
      "metadata": {},
      "outputs": [],
      "source": [
        "# Generate your random numbers\n",
        "np.random.seed(68) #Seed generated for reproducibility"
      ]
    },
    {
      "cell_type": "code",
      "execution_count": 223,
      "metadata": {
        "colab": {
          "base_uri": "https://localhost:8080/"
        },
        "id": "UNJo_50VktRs",
        "outputId": "201f35e8-cd05-451c-aee4-de9b6e2ad93c"
      },
      "outputs": [
        {
          "name": "stdout",
          "output_type": "stream",
          "text": [
            "Here is a random array:\n",
            " [[63 39 36]\n",
            " [74 28 24]\n",
            " [23 84 79]\n",
            " [12 44 19]\n",
            " [47 19 27]]\n"
          ]
        }
      ],
      "source": [
        "np.random.seed(68)\n",
        "#YOUR CODE HERE\n",
        "myarray = np.random.randint(0,100,(5,3))\n",
        "# Print out the array\n",
        "print(f'Here is a random array:\\n {myarray}')"
      ]
    },
    {
      "attachments": {},
      "cell_type": "markdown",
      "metadata": {},
      "source": [
        "### 1.2 Solution - Run the following cell to check your answer."
      ]
    },
    {
      "cell_type": "code",
      "execution_count": 191,
      "metadata": {},
      "outputs": [],
      "source": [
        "#DO NOT EDIT THIS CELL\n",
        "\n",
        "#Verify the array was created with the correct name and has the proper shape\n",
        "assert myarray.shape == (5,3), 'Make sure you create an array with the proper shape!'"
      ]
    },
    {
      "attachments": {},
      "cell_type": "markdown",
      "metadata": {},
      "source": [
        "### 1.3 Calculate BMI \n",
        "\n",
        "Using the two lists provided, please calculate the BMI(body mass index) of each individual using NDArrays. Save the variable containing your results as `bmi`\n",
        "\n",
        "The formula for BMI in pounds and inches can be defined as: $BMI= \\frac{703 * weight} {(height)^2}$"
      ]
    },
    {
      "cell_type": "code",
      "execution_count": 192,
      "metadata": {},
      "outputs": [
        {
          "name": "stdout",
          "output_type": "stream",
          "text": [
            "[39.50743802  8.7875     16.49012346 14.06      ]\n"
          ]
        }
      ],
      "source": [
        "height = [55, 120, 90, 100]\n",
        "weight = [170, 180, 190, 200]\n",
        "\n",
        "Arr_1 =np.array(height)\n",
        "Arr_2= np.array(weight)\n",
        "\n",
        "bmi= ((Arr_2*703)/(Arr_1**2))\n",
        "\n",
        "print(bmi)"
      ]
    },
    {
      "attachments": {},
      "cell_type": "markdown",
      "metadata": {},
      "source": [
        "### 1.3 Solution: Run the following cell to check your answer."
      ]
    },
    {
      "cell_type": "code",
      "execution_count": 193,
      "metadata": {},
      "outputs": [],
      "source": [
        "assert 'bmi' in dir() , 'Make sure you have saved your results to the proper variable name!'\n",
        "assert type(bmi) == np.ndarray, 'Make sure that you made the calculation using an NDArray for both height and weight!'"
      ]
    },
    {
      "attachments": {},
      "cell_type": "markdown",
      "metadata": {},
      "source": [
        "### 1.4 Create a function \n",
        "\n",
        "Create a function named `my_func` that will take in two parameters and will create a random matrix based off of those parameters. Extra: Have additional parameters taken in that allow the user to choose the shape and data type of the matrix."
      ]
    },
    {
      "cell_type": "code",
      "execution_count": 233,
      "metadata": {},
      "outputs": [
        {
          "name": "stdout",
          "output_type": "stream",
          "text": [
            "[[456 139 443]\n",
            " [181 833 649]\n",
            " [264 438 769]\n",
            " [602 596 907]\n",
            " [853  64 266]]\n"
          ]
        }
      ],
      "source": [
        "def my_func(rows,cols):\n",
        "    return np.random.randint(0,1000,(rows,cols))\n",
        "\n",
        "M = my_func(5,3)\n",
        "\n",
        "print(M)"
      ]
    },
    {
      "attachments": {},
      "cell_type": "markdown",
      "metadata": {
        "id": "CYy4Zp5pk7tS"
      },
      "source": [
        "### 1.5 Array practice\n",
        "\n",
        "Time for some more practice. Run each of these tasks in the separate code cell listed below:\n",
        "\n",
        "1.  Return the first row\n",
        "2.  Return the last column\n",
        "3.  Return the third column values from the 4th and 5th rows\n",
        "4.  Multiply every value in the array by 2\n",
        "5.  Divide every value by 3\n",
        "6.  Increase the values in the first row by 12\n",
        "7. Calculate the mean of the first column\n",
        "8. Calculate the median of the array _after_ removing the 2 smallest values in the array\n",
        "9. Calculate the standard deviation of the first 3 rows\n",
        "10. Return values greater than 25 in the second column\n",
        "11. Return values less than 40 in the array"
      ]
    },
    {
      "cell_type": "code",
      "execution_count": 234,
      "metadata": {
        "colab": {
          "base_uri": "https://localhost:8080/"
        },
        "id": "lIxLoTfGl910",
        "outputId": "126ce770-41b6-42ab-eab5-26071a027979"
      },
      "outputs": [
        {
          "name": "stdout",
          "output_type": "stream",
          "text": [
            "[456 139 443]\n"
          ]
        }
      ],
      "source": [
        "# 1. Return the first row:\n",
        "print(M[0,:])"
      ]
    },
    {
      "cell_type": "code",
      "execution_count": 196,
      "metadata": {
        "colab": {
          "base_uri": "https://localhost:8080/"
        },
        "id": "lMafok6zoGB-",
        "outputId": "df874775-ac9e-42de-c305-fd7e13afc98b"
      },
      "outputs": [
        {
          "name": "stdout",
          "output_type": "stream",
          "text": [
            "[443 649 769 907 266]\n"
          ]
        }
      ],
      "source": [
        "# 2. Return the last column\n",
        "print(M[:,2])\n"
      ]
    },
    {
      "cell_type": "code",
      "execution_count": 197,
      "metadata": {
        "colab": {
          "base_uri": "https://localhost:8080/"
        },
        "id": "TEpRarEbobjz",
        "outputId": "0adb6634-385c-47a4-f01e-1b8add2518d1"
      },
      "outputs": [
        {
          "name": "stdout",
          "output_type": "stream",
          "text": [
            "[[456 139 443]\n",
            " [181 833 649]\n",
            " [264 438 769]\n",
            " [602 596 907]\n",
            " [853  64 266]]\n",
            "---------------------------\n",
            "[907 266]\n"
          ]
        }
      ],
      "source": [
        "# 3. Return the third column values from the 4th and 5th rows\n",
        "print(M)\n",
        "print('---------------------------')# was being annoyed with the poor visibility so I added these\n",
        "print(M[3:5,2])"
      ]
    },
    {
      "cell_type": "code",
      "execution_count": 198,
      "metadata": {
        "colab": {
          "base_uri": "https://localhost:8080/"
        },
        "id": "6nR51YtPpdKo",
        "outputId": "244aec23-e37a-4bca-d8fb-43b3744f3c4d"
      },
      "outputs": [
        {
          "name": "stdout",
          "output_type": "stream",
          "text": [
            "[[ 912  278  886]\n",
            " [ 362 1666 1298]\n",
            " [ 528  876 1538]\n",
            " [1204 1192 1814]\n",
            " [1706  128  532]]\n"
          ]
        }
      ],
      "source": [
        "# 4. Multiply every value in the array by 2\n",
        "M=M*2\n",
        "print(M)"
      ]
    },
    {
      "cell_type": "code",
      "execution_count": 199,
      "metadata": {
        "colab": {
          "base_uri": "https://localhost:8080/"
        },
        "id": "6Nr8BqCVpfr1",
        "outputId": "a3616032-2853-41a8-c941-b5a8be43f70f"
      },
      "outputs": [
        {
          "name": "stdout",
          "output_type": "stream",
          "text": [
            "[[304.  93. 295.]\n",
            " [121. 555. 433.]\n",
            " [176. 292. 513.]\n",
            " [401. 397. 605.]\n",
            " [569.  43. 177.]]\n"
          ]
        }
      ],
      "source": [
        "# 5. Divide every value by 3\n",
        "M= np.round(M/3,0)\n",
        "\n",
        "print(M)"
      ]
    },
    {
      "cell_type": "code",
      "execution_count": 200,
      "metadata": {
        "colab": {
          "base_uri": "https://localhost:8080/"
        },
        "id": "5ejUOn2gptcV",
        "outputId": "921e3aab-2cf7-4a46-8581-5fdb1fb69da1"
      },
      "outputs": [
        {
          "name": "stdout",
          "output_type": "stream",
          "text": [
            "[316. 105. 307.]\n"
          ]
        }
      ],
      "source": [
        "# 6. Increase the values in the first row by 12\n",
        "M[0,:] += 12\n",
        "\n",
        "print(M[0,:])"
      ]
    },
    {
      "cell_type": "code",
      "execution_count": 207,
      "metadata": {
        "colab": {
          "base_uri": "https://localhost:8080/"
        },
        "id": "o-q-n6rzpunI",
        "outputId": "0783e4fc-2bc5-4480-e62d-90fdd33c73e2"
      },
      "outputs": [
        {
          "name": "stdout",
          "output_type": "stream",
          "text": [
            "334.0\n",
            "334.0\n"
          ]
        }
      ],
      "source": [
        "# 7. Calculate the mean of the first column\n",
        "print(np.mean(M[0,:]))\n",
        "#does this matter?\n",
        "print(M[0,:].mean())"
      ]
    },
    {
      "cell_type": "code",
      "execution_count": 246,
      "metadata": {
        "colab": {
          "base_uri": "https://localhost:8080/"
        },
        "id": "izVdnwnLpuuY",
        "outputId": "11965467-d665-416e-a4ec-883745aa668f"
      },
      "outputs": [
        {
          "name": "stdout",
          "output_type": "stream",
          "text": [
            "596.0\n"
          ]
        }
      ],
      "source": [
        "# 8. Calculate the median of the array after removing the 2 smallest values in the array\n",
        "M = np.sort(M.reshape(1,15))\n",
        "print(np.median(M[0,2:]))\n",
        "\n"
      ]
    },
    {
      "cell_type": "code",
      "execution_count": 249,
      "metadata": {},
      "outputs": [
        {
          "name": "stdout",
          "output_type": "stream",
          "text": [
            "[[40 15 72]\n",
            " [22 43 82]\n",
            " [75  7 34]]\n"
          ]
        },
        {
          "data": {
            "text/plain": [
              "25.81128091014125"
            ]
          },
          "execution_count": 249,
          "metadata": {},
          "output_type": "execute_result"
        }
      ],
      "source": [
        "# 9. Calculate the standard deviation of the first 3 rows\n",
        "# Generate a new array to work on\n",
        "np.random.seed(2) # New seed for new array\n",
        "new_arry = np.random.randint(0,100,(5,3))\n",
        "print(new_arry[0:3])\n",
        "np.std(new_arry[0:3,])"
      ]
    },
    {
      "cell_type": "code",
      "execution_count": 261,
      "metadata": {
        "colab": {
          "base_uri": "https://localhost:8080/"
        },
        "id": "zb7aXd3xry3r",
        "outputId": "e6f81b8a-1cb1-4c9f-a734-a8471a8f7961"
      },
      "outputs": [
        {
          "name": "stdout",
          "output_type": "stream",
          "text": [
            "[43 95 47]\n"
          ]
        }
      ],
      "source": [
        "# 10. Return values in the second column greater than 25\n",
        "v=new_arry[:,1]\n",
        "mask = np.where(v >25)\n",
        "print(v[mask])"
      ]
    },
    {
      "cell_type": "code",
      "execution_count": 265,
      "metadata": {
        "colab": {
          "base_uri": "https://localhost:8080/"
        },
        "id": "IZ8HYk95ocDE",
        "outputId": "8d047861-9abd-4138-ce5c-366821ca933c"
      },
      "outputs": [
        {
          "name": "stdout",
          "output_type": "stream",
          "text": [
            "[72 43 82 75 49 95 75 85 47 63]\n"
          ]
        }
      ],
      "source": [
        "# 11. Return values < 40 in the array\n",
        "print(new_arry[np.where(new_arry>40)])"
      ]
    },
    {
      "attachments": {},
      "cell_type": "markdown",
      "metadata": {
        "id": "6Xwf9ZDLX_xp"
      },
      "source": [
        "### Solution 1.5: Run the following cell to view the solution for each of the above tasks.\n",
        "\n",
        "A new array will be generated to demonstrate the solution - the values will not be the same as your array. But the code for each task will still apply."
      ]
    },
    {
      "cell_type": "code",
      "execution_count": 206,
      "metadata": {
        "colab": {
          "base_uri": "https://localhost:8080/"
        },
        "id": "15P0nIbqY8vi",
        "outputId": "f0aa2414-b800-48de-c300-d3763e4eb9fc"
      },
      "outputs": [
        {
          "name": "stdout",
          "output_type": "stream",
          "text": [
            "The generated array: \n",
            " [[31 90 20]\n",
            " [37 39 67]\n",
            " [ 4 42 51]\n",
            " [38 33 58]\n",
            " [67 69 88]]\n",
            "\n",
            "\n",
            "1. The first row:  [31 90 20]\n",
            "\n",
            "\n",
            "2. The last column:  [20 67 51 58 88]\n",
            "\n",
            "\n",
            "3. The 3rd column, 4th & 5th rows:  [58 88]\n",
            "\n",
            "\n",
            "4. Multiply by 2: \n",
            " [[ 62 180  40]\n",
            " [ 74  78 134]\n",
            " [  8  84 102]\n",
            " [ 76  66 116]\n",
            " [134 138 176]]\n",
            "\n",
            "\n",
            "5. Divide by 3: \n",
            " [[10.33333333 30.          6.66666667]\n",
            " [12.33333333 13.         22.33333333]\n",
            " [ 1.33333333 14.         17.        ]\n",
            " [12.66666667 11.         19.33333333]\n",
            " [22.33333333 23.         29.33333333]]\n",
            "\n",
            "\n",
            "6. Add 12 to the first row: \n",
            " [ 43 102  32]\n",
            "\n",
            "\n",
            "7. The mean of the 1st column:  35.4\n",
            "\n",
            "\n",
            "8. The median after removing the 2 smallest values:  51.0\n",
            "\n",
            "\n",
            "9. The standard deviation is:  18.755739862180263\n",
            "\n",
            "\n",
            "10. All values in 2nd column > 25: \n",
            " [[68 46 70]\n",
            " [95 83 31]\n",
            " [66 80 52]\n",
            " [76 50  4]\n",
            " [90 63 79]]\n",
            "\n",
            "\n",
            "11. All values < 40: \n",
            " [31  4]\n"
          ]
        }
      ],
      "source": [
        "# DO NOT EDIT THIS CELL\n",
        "# SOLUTION 1.3\n",
        "\n",
        "# SOLUTION: Make sure you have completed all of the above tasks\n",
        "# Generate your random numbers (NEW ARRAY)\n",
        "myarray = np.random.randint(100, size=(5, 3))\n",
        "print('The generated array: \\n', myarray)\n",
        "print('\\n')\n",
        "\n",
        "# 1. Return the first row:\n",
        "print('1. The first row: ', myarray[0])\n",
        "print('\\n')\n",
        "\n",
        "# 2. Return the last column\n",
        "print('2. The last column: ', myarray[:,-1])\n",
        "print('\\n')\n",
        "\n",
        "# 3. Return the third column values from the 4th and 5th rows\n",
        "print('3. The 3rd column, 4th & 5th rows: ', myarray[3:5,2])\n",
        "print('\\n')\n",
        "\n",
        "# 4. Multiply every value in the array by 2\n",
        "# (operates on the original array)\n",
        "print('4. Multiply by 2: \\n', myarray * 2)\n",
        "print('\\n')\n",
        "\n",
        "# 5. Divide every value by 3\n",
        "# (operates on the original array)\n",
        "print('5. Divide by 3: \\n', myarray / 3)\n",
        "print('\\n')\n",
        "\n",
        "# 6. Increase the values in the first row by 12\n",
        "# (operates on the original array)\n",
        "print('6. Add 12 to the first row: \\n', myarray[0,:] + 12)\n",
        "print('\\n')\n",
        "\n",
        "# 7. Calculate the mean of the first column\n",
        "print('7. The mean of the 1st column: ', myarray[:,0].mean())\n",
        "print('\\n')\n",
        "\n",
        "# 8. Calculate the median of the array after removing the 2 smallest values in the array\n",
        "# flatten and sort (axis=None does the flattening)\n",
        "myarray = np.sort(myarray, axis=None)\n",
        "# remove two smallest values\n",
        "myarray = myarray[2:]\n",
        "# calculate the median\n",
        "print('8. The median after removing the 2 smallest values: ', np.median(myarray))\n",
        "print('\\n')\n",
        "\n",
        "# 9. Calculate the standard deviation of the first 3 rows\n",
        "# Generate new array first:\n",
        "myarray = np.random.randint(100, size=(5, 3))\n",
        "# Then calculate the std:\n",
        "print('9. The standard deviation is: ', np.std(myarray[0:3,:]))\n",
        "print('\\n')\n",
        "\n",
        "# 10. Return values in the second column greater than 25\n",
        "# create a Boolean mask where values in the 2nd column > 25 are True\n",
        "condition = myarray[:,1] > 25\n",
        "# Apply the mask\n",
        "print('10. All values in 2nd column > 25: \\n', myarray[condition])\n",
        "print('\\n')\n",
        "\n",
        "# 11. Return values < 40 in the array\n",
        "# create another Boolean mask for values < 40\n",
        "condition = myarray < 40\n",
        "# apply the mask\n",
        "print('11. All values < 40: \\n', myarray[condition])"
      ]
    }
  ],
  "metadata": {
    "colab": {
      "provenance": []
    },
    "kernelspec": {
      "display_name": "Python 3",
      "language": "python",
      "name": "python3"
    },
    "language_info": {
      "codemirror_mode": {
        "name": "ipython",
        "version": 3
      },
      "file_extension": ".py",
      "mimetype": "text/x-python",
      "name": "python",
      "nbconvert_exporter": "python",
      "pygments_lexer": "ipython3",
      "version": "3.10.0"
    },
    "vscode": {
      "interpreter": {
        "hash": "26de051ba29f2982a8de78e945f0abaf191376122a1563185a90213a26c5da77"
      }
    }
  },
  "nbformat": 4,
  "nbformat_minor": 0
}
