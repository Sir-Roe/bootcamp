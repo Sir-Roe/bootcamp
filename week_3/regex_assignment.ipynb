{
 "cells": [
  {
   "attachments": {},
   "cell_type": "markdown",
   "metadata": {},
   "source": [
    "### Regex project\n",
    "\n",
    "Use python to read the file regex_test.txt and print the last name on each line using regular expressions and groups (return None for names with no first and last name, or names that aren't properly capitalized)\n",
    "##### Hint: use with open() and readlines()\n",
    "\n",
    "**Expected Output:**\n",
    "\n",
    "Abraham Lincoln\n",
    "\n",
    "Andrew P Garfield\n",
    "\n",
    "Connor Milliken\n",
    "\n",
    "Jordan Alexander Williams\n",
    "\n",
    "None\n",
    "\n",
    "None"
   ]
  },
  {
   "cell_type": "code",
   "execution_count": 4,
   "metadata": {},
   "outputs": [
    {
     "name": "stdout",
     "output_type": "stream",
     "text": [
      "Abraham Lincoln\n",
      "Andrew P Garfield\n",
      "Connor Milliken\n",
      "Jordan Alexander Williams\n",
      "None\n",
      "None\n"
     ]
    }
   ],
   "source": [
    "import re\n",
    "\n",
    "with open(r\"C:\\Users\\lmpro\\Documents\\GitHub\\bootcamp\\week_3\\regex_test.txt\") as f:\n",
    "    data = f.read()\n",
    "    f.close()\n",
    "\n",
    "my_list =data.split('\\n')\n",
    "pattern= re.compile('([A-Z][\\w]+)([\\s])(|[A-Z][\\w]+|[A-Z])(|[\\s])([A-Z][\\w]+$)')\n",
    "\n",
    "for name in my_list:\n",
    "    if pattern.match(name):\n",
    "        print(pattern.match(name).group())\n",
    "    else:\n",
    "        print('None')\n"
   ]
  },
  {
   "cell_type": "code",
   "execution_count": null,
   "metadata": {},
   "outputs": [],
   "source": [
    "'''i\n",
    "dont\n",
    "know\n",
    "why\n",
    "this\n",
    "box\n",
    "is\n",
    "here'''"
   ]
  }
 ],
 "metadata": {
  "kernelspec": {
   "display_name": "Python 3",
   "language": "python",
   "name": "python3"
  },
  "language_info": {
   "codemirror_mode": {
    "name": "ipython",
    "version": 3
   },
   "file_extension": ".py",
   "mimetype": "text/x-python",
   "name": "python",
   "nbconvert_exporter": "python",
   "pygments_lexer": "ipython3",
   "version": "3.10.0"
  },
  "orig_nbformat": 4
 },
 "nbformat": 4,
 "nbformat_minor": 2
}
