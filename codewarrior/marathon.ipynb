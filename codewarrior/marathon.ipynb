{
 "cells": [
  {
   "cell_type": "code",
   "execution_count": null,
   "metadata": {},
   "outputs": [],
   "source": [
    "RGB CODE WARS question.\n",
    "10-15 a-f"
   ]
  },
  {
   "cell_type": "code",
   "execution_count": 12,
   "metadata": {},
   "outputs": [
    {
     "data": {
      "text/plain": [
       "'00FF7D'"
      ]
     },
     "execution_count": 12,
     "metadata": {},
     "output_type": "execute_result"
    }
   ],
   "source": [
    "def rgb(r, g, b):\n",
    "    if r < 0:\n",
    "        r=0\n",
    "    if g< 0:\n",
    "        g=0\n",
    "    if b< 0:\n",
    "        b=0\n",
    "    if r > 255:\n",
    "        r=255\n",
    "    if g> 255:\n",
    "        g=255\n",
    "    if b> 255:\n",
    "        b=255\n",
    "    return '{:02X}{:02X}{:02X}'.format(r, g, b)\n",
    "\n",
    "rgb(-20, 275, 125)\n",
    "\n",
    "#------------------ top answer\n",
    "\n",
    "def rgb(r, g, b):\n",
    "    round = lambda x: min(255, max(x, 0))\n",
    "    return (\"{:02X}\" * 3).format(round(r), round(g), round(b))"
   ]
  },
  {
   "cell_type": "markdown",
   "metadata": {},
   "source": [
    "DESCRIPTION:\n",
    "The marketing team is spending way too much time typing in hashtags.\n",
    "Let's help them with our own Hashtag Generator!\n",
    "\n",
    "Here's the deal:\n",
    "\n",
    "It must start with a hashtag (#).\n",
    "All words must have their first letter capitalized.\n",
    "If the final result is longer than 140 chars it must return false.\n",
    "If the input or the result is an empty string it must return false."
   ]
  },
  {
   "cell_type": "code",
   "execution_count": 32,
   "metadata": {},
   "outputs": [
    {
     "name": "stdout",
     "output_type": "stream",
     "text": [
      "False\n"
     ]
    }
   ],
   "source": [
    "def generate_hashtag(s):\n",
    "    ls=s.split(' ')\n",
    "    ss= (\"#\" + ''.join(word.title() for word in ls ))\n",
    "    if len(s)>0 and len(ss)<=140:\n",
    "        return ss\n",
    "    else:\n",
    "        return False\n",
    "    \n",
    "print(generate_hashtag('Loooooooooooooooooooooooooooooooooooooooooooooooooooooooooooooooooooooooooooooooooooooooooooooooooooooooooooooooooooooooooooooooooooooooong Cat'))"
   ]
  },
  {
   "cell_type": "markdown",
   "metadata": {},
   "source": [
    "Write a function that when given a URL as a string, parses out just the domain name and returns it as a string. For example:\n",
    "test.assert_equals(domain_name(\"http://google.com\"), \"google\")\n",
    "test.assert_equals(domain_name(\"http://google.co.jp\"), \"google\")\n",
    "test.assert_equals(domain_name(\"www.xakep.ru\"), \"xakep\")\n",
    "test.assert_equals(domain_name(\"https://youtube.com\"), \"youtube\")\n"
   ]
  },
  {
   "cell_type": "code",
   "execution_count": 14,
   "metadata": {},
   "outputs": [
    {
     "name": "stdout",
     "output_type": "stream",
     "text": [
      "zombie-bites\n"
     ]
    }
   ],
   "source": [
    "def domain_name(url):\n",
    "    url= url.replace('http://','').replace('https://','').replace('www.','')\n",
    "    str1=url.split('.')\n",
    "    return str1[0]\n",
    "\n",
    "\n",
    "################ top answer\n",
    "\n",
    "def domain_name(url):\n",
    "    return url.split(\"//\")[-1].split(\"www.\")[-1].split(\".\")[0]"
   ]
  },
  {
   "cell_type": "markdown",
   "metadata": {},
   "source": [
    "Complete the function scramble(str1, str2) that returns true if a portion of str1 characters can be rearranged to match str2, otherwise returns false.\n",
    "\n",
    "scramble('rkqodlw', 'world') ==> True"
   ]
  },
  {
   "cell_type": "code",
   "execution_count": 34,
   "metadata": {},
   "outputs": [
    {
     "name": "stdout",
     "output_type": "stream",
     "text": [
      "2\n"
     ]
    }
   ],
   "source": [
    "def scramble(s1, s2):\n",
    "    for c in set(s2):\n",
    "            if s1.count(c) < s2.count(c):\n",
    "                return False\n",
    "    return True\n",
    "\n",
    "\n",
    "############answer I liked\n",
    "\n",
    "from collections import Counter\n",
    "def scramble(s1,s2):\n",
    "    # Counter basically creates a dictionary of counts and letters\n",
    "    # Using set subtraction, we know that if anything is left over,\n",
    "    # something exists in s2 that doesn't exist in s1\n",
    "    return len(Counter(s2)- Counter(s1)) == 0\n",
    "\n",
    "\n",
    "\n",
    "\n",
    "print( sum([1 for val in Counter('abbcdeaa').values() if val>1]))"
   ]
  }
 ],
 "metadata": {
  "kernelspec": {
   "display_name": "Python 3",
   "language": "python",
   "name": "python3"
  },
  "language_info": {
   "codemirror_mode": {
    "name": "ipython",
    "version": 3
   },
   "file_extension": ".py",
   "mimetype": "text/x-python",
   "name": "python",
   "nbconvert_exporter": "python",
   "pygments_lexer": "ipython3",
   "version": "3.10.0"
  },
  "orig_nbformat": 4
 },
 "nbformat": 4,
 "nbformat_minor": 2
}
