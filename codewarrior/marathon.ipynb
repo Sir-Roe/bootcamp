{
 "cells": [
  {
   "cell_type": "code",
   "execution_count": null,
   "metadata": {},
   "outputs": [],
   "source": [
    "RGB CODE WARS question.\n",
    "10-15 a-f"
   ]
  },
  {
   "cell_type": "code",
   "execution_count": 12,
   "metadata": {},
   "outputs": [
    {
     "data": {
      "text/plain": [
       "'00FF7D'"
      ]
     },
     "execution_count": 12,
     "metadata": {},
     "output_type": "execute_result"
    }
   ],
   "source": [
    "def rgb(r, g, b):\n",
    "    if r < 0:\n",
    "        r=0\n",
    "    if g< 0:\n",
    "        g=0\n",
    "    if b< 0:\n",
    "        b=0\n",
    "    if r > 255:\n",
    "        r=255\n",
    "    if g> 255:\n",
    "        g=255\n",
    "    if b> 255:\n",
    "        b=255\n",
    "    return '{:02X}{:02X}{:02X}'.format(r, g, b)\n",
    "\n",
    "rgb(-20, 275, 125)\n",
    "\n",
    "#------------------ top answer\n",
    "\n",
    "def rgb(r, g, b):\n",
    "    round = lambda x: min(255, max(x, 0))\n",
    "    return (\"{:02X}\" * 3).format(round(r), round(g), round(b))"
   ]
  },
  {
   "cell_type": "markdown",
   "metadata": {},
   "source": [
    "DESCRIPTION:\n",
    "The marketing team is spending way too much time typing in hashtags.\n",
    "Let's help them with our own Hashtag Generator!\n",
    "\n",
    "Here's the deal:\n",
    "\n",
    "It must start with a hashtag (#).\n",
    "All words must have their first letter capitalized.\n",
    "If the final result is longer than 140 chars it must return false.\n",
    "If the input or the result is an empty string it must return false."
   ]
  },
  {
   "cell_type": "code",
   "execution_count": 32,
   "metadata": {},
   "outputs": [
    {
     "name": "stdout",
     "output_type": "stream",
     "text": [
      "False\n"
     ]
    }
   ],
   "source": [
    "def generate_hashtag(s):\n",
    "    ls=s.split(' ')\n",
    "    ss= (\"#\" + ''.join(word.title() for word in ls ))\n",
    "    if len(s)>0 and len(ss)<=140:\n",
    "        return ss\n",
    "    else:\n",
    "        return False\n",
    "    \n",
    "print(generate_hashtag('Loooooooooooooooooooooooooooooooooooooooooooooooooooooooooooooooooooooooooooooooooooooooooooooooooooooooooooooooooooooooooooooooooooooooong Cat'))"
   ]
  },
  {
   "cell_type": "markdown",
   "metadata": {},
   "source": [
    "Write a function that when given a URL as a string, parses out just the domain name and returns it as a string. For example:\n",
    "test.assert_equals(domain_name(\"http://google.com\"), \"google\")\n",
    "test.assert_equals(domain_name(\"http://google.co.jp\"), \"google\")\n",
    "test.assert_equals(domain_name(\"www.xakep.ru\"), \"xakep\")\n",
    "test.assert_equals(domain_name(\"https://youtube.com\"), \"youtube\")\n"
   ]
  },
  {
   "cell_type": "code",
   "execution_count": 14,
   "metadata": {},
   "outputs": [
    {
     "name": "stdout",
     "output_type": "stream",
     "text": [
      "zombie-bites\n"
     ]
    }
   ],
   "source": [
    "def domain_name(url):\n",
    "    url= url.replace('http://','').replace('https://','').replace('www.','')\n",
    "    str1=url.split('.')\n",
    "    return str1[0]\n",
    "\n",
    "\n",
    "################ top answer\n",
    "\n",
    "def domain_name(url):\n",
    "    return url.split(\"//\")[-1].split(\"www.\")[-1].split(\".\")[0]"
   ]
  },
  {
   "cell_type": "markdown",
   "metadata": {},
   "source": [
    "Complete the function scramble(str1, str2) that returns true if a portion of str1 characters can be rearranged to match str2, otherwise returns false.\n",
    "\n",
    "scramble('rkqodlw', 'world') ==> True"
   ]
  },
  {
   "cell_type": "code",
   "execution_count": 16,
   "metadata": {},
   "outputs": [
    {
     "name": "stdout",
     "output_type": "stream",
     "text": [
      "2\n"
     ]
    }
   ],
   "source": [
    "def scramble(s1, s2):\n",
    "    for c in set(s2):\n",
    "            if s1.count(c) < s2.count(c):\n",
    "                return False\n",
    "    return True\n",
    "\n",
    "\n",
    "############answer I liked\n",
    "\n",
    "from collections import Counter\n",
    "def scramble(s1,s2):\n",
    "    # Counter basically creates a dictionary of counts and letters\n",
    "    # Using set subtraction, we know that if anything is left over,\n",
    "    # something exists in s2 that doesn't exist in s1\n",
    "    return len(Counter(s2)- Counter(s1)) == 0\n",
    "\n",
    "\n",
    "\n",
    "\n",
    "print( sum([1 for val in Counter('abbcdeaa').values() if val>1]))"
   ]
  },
  {
   "cell_type": "markdown",
   "metadata": {},
   "source": [
    "# You found directions to hidden treasure only written in words. The possible directions are \"NORTH\", \"SOUTH\",\"WEST\",\"EAST\".\n",
    "# \"NORTH\" and \"SOUTH\" are opposite directions, as are \"EAST\" and \"WEST\". Going one direction and coming back in the opposite direction leads to going nowhere. Someone else also has these directions to the treasure and you need to get there first. Since the directions are long, you decide to write a program to figure out the fastest and most direct route to the treasure.\n",
    "# Write a function that will take a list of strings and will return a list of strings with the unneeded directions removed (NORTH<->SOUTH or EAST<->WEST side by side).\n",
    "# Example 1:\n",
    "# input: ['NORTH','EAST','WEST','SOUTH','WEST','SOUTH','NORTH','WEST']\n",
    "# output:['WEST','WEST']\n",
    "# In ['NORTH','EAST','WEST','SOUTH','WEST','SOUTH','NORTH','WEST'] 'NORTH' and 'SOUTH' are not directly opposite but they become directly opposite after reduction of 'EAST' and 'WEST'. The whole path can be reduced to ['WEST','WEST'].\n",
    "# Example 2:\n",
    "# input: ['EAST','NORTH','WEST','SOUTH']\n",
    "# output:['EAST','NORTH','WEST','SOUTH']\n",
    "# Not all paths are reducible. The path ['EAST','NORTH','WEST','SOUTH'] is not reducible. 'EAST' and 'NORTH', 'NORTH' and 'WEST', 'WEST' and 'SOUTH' are not directly opposite of each other and thus can't be reduced. The resulting path has not changed from the original path: ['EAST','NORTH','WEST','SOUTH']"
   ]
  },
  {
   "cell_type": "code",
   "execution_count": 38,
   "metadata": {},
   "outputs": [
    {
     "name": "stdout",
     "output_type": "stream",
     "text": [
      "[]\n",
      "['East', 'North', 'West', 'South']\n"
     ]
    }
   ],
   "source": [
    "from collections import Counter\n",
    "def whereto(s1):\n",
    "    opps={'NORTH':'SOUTH','EAST':'WEST','WEST':'EAST','SOUTH':'NORTH'}\n",
    "    ls=[]\n",
    "    for i in s1:\n",
    "        if s1.count(i) > s1.count(opps[i]) :\n",
    "             for val in range((s1.count(i) - s1.count(opps[i]))):\n",
    "                ls.append(i)\n",
    "    return ls\n",
    "\n",
    "\n",
    "print(whereto(['EAST','NORTH','WEST','SOUTH']))\n",
    "\n",
    "\n",
    "##########################\n",
    "def solution(a_list:list):\n",
    "    card= {\"North\":\"South\",'East':'West','South':'North','West':'East'}\n",
    "    e_list = []\n",
    "    for d in a_list:\n",
    "        if e_list and card[e_list[-1]] == d.title():\n",
    "            e_list.pop()\n",
    "        else:\n",
    "            e_list.append(d.title())\n",
    "    return e_list\n",
    "print(solution(['EAST','NORTH','WEST','SOUTH']))"
   ]
  },
  {
   "cell_type": "code",
   "execution_count": 47,
   "metadata": {},
   "outputs": [
    {
     "data": {
      "text/plain": [
       "1"
      ]
     },
     "execution_count": 47,
     "metadata": {},
     "output_type": "execute_result"
    }
   ],
   "source": [
    "if b>=0:\n",
    "    return sum([i for i in range(a,b+1,1)])\n",
    "else:\n",
    "    return sum([i for i in range(a,b-1,-1)])\n",
    "\n",
    "    "
   ]
  },
  {
   "cell_type": "code",
   "execution_count": null,
   "metadata": {},
   "outputs": [],
   "source": [
    "# Given two stings ransomNote and magazine, return true if ransomNote can be constructed from magazine and false otherwise.\n",
    "# Each letter in magazine can only be used once in ransomNote.\n",
    "# Example 1:\n",
    "# Input: ransomNote = \"a\", magazine = \"b\"\n",
    "# Output: false\n",
    "# Example 2:\n",
    "# Input: ransomNote = \"aa\", magazine = \"ab\"\n",
    "# Output: false\n",
    "# Example 3:\n",
    "# Input: ransomNote = \"aa\", magazine = \"aab\"\n",
    "# Output: true\n"
   ]
  },
  {
   "cell_type": "code",
   "execution_count": null,
   "metadata": {},
   "outputs": [],
   "source": []
  },
  {
   "cell_type": "code",
   "execution_count": 13,
   "metadata": {},
   "outputs": [
    {
     "name": "stdout",
     "output_type": "stream",
     "text": [
      "[-1, 150, 160, 170, -1, -1, 180, 190]\n"
     ]
    }
   ],
   "source": [
    "#Some people are standing in a row in a park. There are trees \n",
    "#between them which cannot be moved. Your task is to rearrange \n",
    "#the people by their heights in a non-descending order without\n",
    "# moving the trees. People can be very tall!\n",
    "#Example\n",
    "#For a = [-1, 150, 190, 170, -1, -1, 160, 180], the output should be\n",
    "#solution(a) = [-1, 150, 160, 170, -1, -1, 180, 190].\n",
    "\n",
    "def solution(a):\n",
    "   place= sorted([i for i in a if i>0])\n",
    "   for j,i in enumerate(a):\n",
    "        if i == -1:\n",
    "                place.insert(j,i)\n",
    "   return place\n",
    "a = [-1, 150, 190, 170, -1, -1, 160, 180]\n",
    "\n"
   ]
  },
  {
   "cell_type": "code",
   "execution_count": 12,
   "metadata": {},
   "outputs": [
    {
     "name": "stdout",
     "output_type": "stream",
     "text": [
      "[1, 2, 3]\n",
      "[[1, 2, 3], [8, 9, 4], [7, 6, 5]]\n",
      "[1, 2, 3, 4]\n",
      "[[8, 9, 4], [7, 6, 5]]\n",
      "[1, 2, 3, 4, 5]\n",
      "[[8, 9], [7, 6, 5]]\n",
      "[1, 2, 3, 4, 5, 6, 7]\n",
      "[[8, 9], [7, 6]]\n",
      "[1, 2, 3, 4, 5, 6, 7, 8]\n",
      "[[8, 9]]\n",
      "[1, 2, 3, 4, 5, 6, 7, 8, 9]\n",
      "[[9]]\n"
     ]
    }
   ],
   "source": [
    "import numpy as np\n",
    "array = [[1,2,3],\n",
    "         [8,9,4],\n",
    "         [7,6,5]]\n",
    "\n",
    "results = []\n",
    "while len(array) > 0:\n",
    "        # go right\n",
    "        results += array[0]\n",
    "        print(results)\n",
    "        print(array)\n",
    "        del array[0]\n",
    "\n",
    "        if len(array) > 0:\n",
    "            # go down\n",
    "            for i in array:\n",
    "                results += [i[-1]]\n",
    "                print(results)\n",
    "                print(array)\n",
    "                del i[-1]\n",
    "\n",
    "            # go left\n",
    "            if array[-1]:\n",
    "                results += array[-1][::-1]\n",
    "                print(results)\n",
    "                print(array)\n",
    "                del array[-1]\n",
    "\n",
    "            # go top\n",
    "            for i in reversed(array):\n",
    "                results += [i[0]]\n",
    "                print(results)\n",
    "                print(array)\n",
    "                del i[0]\n"
   ]
  },
  {
   "cell_type": "code",
   "execution_count": null,
   "metadata": {},
   "outputs": [],
   "source": []
  }
 ],
 "metadata": {
  "kernelspec": {
   "display_name": "Python 3",
   "language": "python",
   "name": "python3"
  },
  "language_info": {
   "codemirror_mode": {
    "name": "ipython",
    "version": 3
   },
   "file_extension": ".py",
   "mimetype": "text/x-python",
   "name": "python",
   "nbconvert_exporter": "python",
   "pygments_lexer": "ipython3",
   "version": "3.11.4"
  },
  "orig_nbformat": 4
 },
 "nbformat": 4,
 "nbformat_minor": 2
}
