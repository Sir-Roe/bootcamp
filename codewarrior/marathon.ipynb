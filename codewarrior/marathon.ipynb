{
 "cells": [
  {
   "cell_type": "code",
   "execution_count": null,
   "metadata": {},
   "outputs": [],
   "source": [
    "RGB CODE WARS question.\n",
    "10-15 a-f"
   ]
  },
  {
   "cell_type": "code",
   "execution_count": 12,
   "metadata": {},
   "outputs": [
    {
     "data": {
      "text/plain": [
       "'00FF7D'"
      ]
     },
     "execution_count": 12,
     "metadata": {},
     "output_type": "execute_result"
    }
   ],
   "source": [
    "def rgb(r, g, b):\n",
    "    if r < 0:\n",
    "        r=0\n",
    "    if g< 0:\n",
    "        g=0\n",
    "    if b< 0:\n",
    "        b=0\n",
    "    if r > 255:\n",
    "        r=255\n",
    "    if g> 255:\n",
    "        g=255\n",
    "    if b> 255:\n",
    "        b=255\n",
    "    return '{:02X}{:02X}{:02X}'.format(r, g, b)\n",
    "\n",
    "rgb(-20, 275, 125)\n",
    "\n",
    "#------------------ top answer\n",
    "\n",
    "def rgb(r, g, b):\n",
    "    round = lambda x: min(255, max(x, 0))\n",
    "    return (\"{:02X}\" * 3).format(round(r), round(g), round(b))"
   ]
  },
  {
   "cell_type": "markdown",
   "metadata": {},
   "source": [
    "DESCRIPTION:\n",
    "The marketing team is spending way too much time typing in hashtags.\n",
    "Let's help them with our own Hashtag Generator!\n",
    "\n",
    "Here's the deal:\n",
    "\n",
    "It must start with a hashtag (#).\n",
    "All words must have their first letter capitalized.\n",
    "If the final result is longer than 140 chars it must return false.\n",
    "If the input or the result is an empty string it must return false."
   ]
  },
  {
   "cell_type": "code",
   "execution_count": 32,
   "metadata": {},
   "outputs": [
    {
     "name": "stdout",
     "output_type": "stream",
     "text": [
      "False\n"
     ]
    }
   ],
   "source": [
    "def generate_hashtag(s):\n",
    "    ls=s.split(' ')\n",
    "    ss= (\"#\" + ''.join(word.title() for word in ls ))\n",
    "    if len(s)>0 and len(ss)<=140:\n",
    "        return ss\n",
    "    else:\n",
    "        return False\n",
    "    \n",
    "print(generate_hashtag('Loooooooooooooooooooooooooooooooooooooooooooooooooooooooooooooooooooooooooooooooooooooooooooooooooooooooooooooooooooooooooooooooooooooooong Cat'))"
   ]
  }
 ],
 "metadata": {
  "kernelspec": {
   "display_name": "Python 3",
   "language": "python",
   "name": "python3"
  },
  "language_info": {
   "codemirror_mode": {
    "name": "ipython",
    "version": 3
   },
   "file_extension": ".py",
   "mimetype": "text/x-python",
   "name": "python",
   "nbconvert_exporter": "python",
   "pygments_lexer": "ipython3",
   "version": "3.10.0"
  },
  "orig_nbformat": 4
 },
 "nbformat": 4,
 "nbformat_minor": 2
}
