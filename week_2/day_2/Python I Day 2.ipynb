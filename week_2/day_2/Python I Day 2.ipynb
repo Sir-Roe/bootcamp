{
  "cells": [
    {
      "attachments": {},
      "cell_type": "markdown",
      "metadata": {
        "id": "9bJtKniLrs8X"
      },
      "source": [
        "# Coding Temple's Data Analytics Course\n",
        "---\n",
        "## Python I: Functions, Scoping, Data Collections 1 & List Comprehensions\n",
        "---"
      ]
    },
    {
      "attachments": {},
      "cell_type": "markdown",
      "metadata": {
        "id": "qbED-38grs8a"
      },
      "source": [
        "### Tasks Today:\n",
        "\n",
        "<i>Monday Additions (or, and ... if statements)</i>\n",
        "\n",
        "1) String Manipulation <br>\n",
        " &nbsp;&nbsp;&nbsp;&nbsp; a) strip() <br>\n",
        " &nbsp;&nbsp;&nbsp;&nbsp; b) title() <br>\n",
        "2) Working With Lists <br>\n",
        " &nbsp;&nbsp;&nbsp;&nbsp; a) min() <br>\n",
        " &nbsp;&nbsp;&nbsp;&nbsp; b) max() <br>\n",
        " &nbsp;&nbsp;&nbsp;&nbsp; c) sum() <br>\n",
        " &nbsp;&nbsp;&nbsp;&nbsp; d) sort() <br>\n",
        " &nbsp;&nbsp;&nbsp;&nbsp; e) Copying a List <br>\n",
        " &nbsp;&nbsp;&nbsp;&nbsp; f) 'in' keyword <br>\n",
        " &nbsp;&nbsp;&nbsp;&nbsp; g) 'not in' keyword <br>\n",
        " &nbsp;&nbsp;&nbsp;&nbsp; i) Checking an Empty List <br>\n",
        " &nbsp;&nbsp;&nbsp;&nbsp; j) Removing Instances with a Loop <br>\n",
        "3) List Comprehensions <br>\n",
        "4) Tuples <br>\n",
        " &nbsp;&nbsp;&nbsp;&nbsp; a) sorted() <br>\n",
        "5) Functions <br>\n",
        " &nbsp;&nbsp;&nbsp;&nbsp; a) User-Defined vs. Built-In Functions <br>\n",
        " &nbsp;&nbsp;&nbsp;&nbsp; b) Accepting Parameters <br>\n",
        " &nbsp;&nbsp;&nbsp;&nbsp; c) Default Parameters <br>\n",
        " &nbsp;&nbsp;&nbsp;&nbsp; d) Making an Argument Optional <br>\n",
        " &nbsp;&nbsp;&nbsp;&nbsp; e) Keyword Arguments <br>\n",
        " &nbsp;&nbsp;&nbsp;&nbsp; f) Returning Values <br>\n",
        " &nbsp;&nbsp;&nbsp;&nbsp; g) *args <br>\n",
        " &nbsp;&nbsp;&nbsp;&nbsp; h) Docstring <br>\n",
        " &nbsp;&nbsp;&nbsp;&nbsp; i) Using a User Function in a Loop <br>\n",
        "6) Scope"
      ]
    },
    {
      "attachments": {},
      "cell_type": "markdown",
      "metadata": {
        "id": "WaEiK5Mxrs8b"
      },
      "source": [
        "### String Manipulation"
      ]
    },
    {
      "attachments": {},
      "cell_type": "markdown",
      "metadata": {
        "id": "oAHRIMwirs8c"
      },
      "source": [
        "##### .lstrip()"
      ]
    },
    {
      "cell_type": "code",
      "execution_count": 2,
      "metadata": {
        "id": "67XdgYVYrs8c"
      },
      "outputs": [
        {
          "name": "stdout",
          "output_type": "stream",
          "text": [
            "John Smith\n"
          ]
        }
      ],
      "source": [
        "# string.lstrip()\n",
        "# Removes whitespace from the lefthand side of a string\n",
        "name = '          hJohn Smith'\n",
        "print(name.lstrip(\" \" \"h\"))"
      ]
    },
    {
      "attachments": {},
      "cell_type": "markdown",
      "metadata": {
        "id": "SqdqgTi7rs8d"
      },
      "source": [
        "##### .rstrip()"
      ]
    },
    {
      "cell_type": "code",
      "execution_count": 3,
      "metadata": {
        "id": "W4KfZlUdrs8e"
      },
      "outputs": [
        {
          "name": "stdout",
          "output_type": "stream",
          "text": [
            "Bob Ross\n"
          ]
        }
      ],
      "source": [
        "#string.rstrip()\n",
        "# Removes whitespace from the righthand side of a string\n",
        "\n",
        "name = 'Bob Ross        th'\n",
        "print(name.rstrip(\" \" \"th\"))"
      ]
    },
    {
      "attachments": {},
      "cell_type": "markdown",
      "metadata": {
        "id": "gnyAnkkLrs8e"
      },
      "source": [
        "##### .strip()"
      ]
    },
    {
      "cell_type": "code",
      "execution_count": 4,
      "metadata": {
        "id": "ee-X-fZurs8f"
      },
      "outputs": [
        {
          "name": "stdout",
          "output_type": "stream",
          "text": [
            "John Smith\n"
          ]
        }
      ],
      "source": [
        "# string.strip()\n",
        "name = '      John Smith          '\n",
        "\n",
        "print(name.strip())"
      ]
    },
    {
      "attachments": {},
      "cell_type": "markdown",
      "metadata": {},
      "source": [
        "#### .upper()\n",
        "#### .lower()"
      ]
    },
    {
      "cell_type": "code",
      "execution_count": 5,
      "metadata": {},
      "outputs": [
        {
          "name": "stdout",
          "output_type": "stream",
          "text": [
            "john smith\n",
            "JOHN SMITH\n"
          ]
        }
      ],
      "source": [
        "# string.lower()\n",
        "name = 'John Smith'\n",
        "\n",
        "print(name.lower())\n",
        "\n",
        "#string.upper()\n",
        "\n",
        "print(name.upper())"
      ]
    },
    {
      "attachments": {},
      "cell_type": "markdown",
      "metadata": {
        "id": "MiAFvZdPrs8f"
      },
      "source": [
        "##### .title()"
      ]
    },
    {
      "cell_type": "code",
      "execution_count": 6,
      "metadata": {
        "id": "6d21S6C6rs8f"
      },
      "outputs": [
        {
          "name": "stdout",
          "output_type": "stream",
          "text": [
            "Joe Biden\n"
          ]
        }
      ],
      "source": [
        "# string.title()\n",
        "president = 'joe biden'\n",
        "print(president.title())"
      ]
    },
    {
      "attachments": {},
      "cell_type": "markdown",
      "metadata": {
        "id": "D80meSR5rs8g"
      },
      "source": [
        "### String Exercise <br>\n",
        "<p>Strip all white space and capitalize every name in the list given</p>"
      ]
    },
    {
      "cell_type": "code",
      "execution_count": 7,
      "metadata": {
        "id": "wPiqY8qFrs8g"
      },
      "outputs": [
        {
          "name": "stdout",
          "output_type": "stream",
          "text": [
            "['Connor', 'Max', 'Evan', 'Jordan']\n",
            "['Connor', 'Max', 'Evan', 'Jordan']\n"
          ]
        }
      ],
      "source": [
        "names = ['    coNNor', 'max', ' EVan ', 'JORDAN']\n",
        "# HINT: You will need to use a for loop for iteration\n",
        "lst_1 = []\n",
        "for name in names:\n",
        "    lst_1.append(name.strip().title())\n",
        "print(lst_1)\n",
        "\n",
        "# Using list comprehension\n",
        "lst = [name.strip().title() for name in names]\n",
        "print(lst)"
      ]
    },
    {
      "attachments": {},
      "cell_type": "markdown",
      "metadata": {
        "id": "OaW8hdDnrs8g"
      },
      "source": [
        "### Working With Lists"
      ]
    },
    {
      "attachments": {},
      "cell_type": "markdown",
      "metadata": {
        "id": "lsl3saTtrs8g"
      },
      "source": [
        "##### min()"
      ]
    },
    {
      "cell_type": "code",
      "execution_count": 8,
      "metadata": {
        "id": "DfUyTjiUrs8h"
      },
      "outputs": [
        {
          "name": "stdout",
          "output_type": "stream",
          "text": [
            "2\n",
            "<class 'int'>\n"
          ]
        }
      ],
      "source": [
        "# min(list)\n",
        "numbers = [4,2,97,54,16]\n",
        "print(min(numbers))\n",
        "print(type(min(numbers)))"
      ]
    },
    {
      "attachments": {},
      "cell_type": "markdown",
      "metadata": {
        "id": "56woj1myrs8h"
      },
      "source": [
        "##### max()"
      ]
    },
    {
      "cell_type": "code",
      "execution_count": 9,
      "metadata": {
        "id": "4ifb__khrs8h"
      },
      "outputs": [
        {
          "name": "stdout",
          "output_type": "stream",
          "text": [
            "97\n"
          ]
        }
      ],
      "source": [
        "# max(list)\n",
        "print(max(numbers))"
      ]
    },
    {
      "attachments": {},
      "cell_type": "markdown",
      "metadata": {
        "id": "Q_LhnHozrs8h"
      },
      "source": [
        "##### sum()"
      ]
    },
    {
      "cell_type": "code",
      "execution_count": 10,
      "metadata": {
        "id": "MNBLfI57rs8i"
      },
      "outputs": [
        {
          "name": "stdout",
          "output_type": "stream",
          "text": [
            "173\n"
          ]
        }
      ],
      "source": [
        "#sum(list)\n",
        "print(sum(numbers))"
      ]
    },
    {
      "attachments": {},
      "cell_type": "markdown",
      "metadata": {
        "id": "Pmkxsqcwrs8i"
      },
      "source": [
        "##### sorted()"
      ]
    },
    {
      "cell_type": "code",
      "execution_count": 11,
      "metadata": {
        "id": "_LpP0pYlrs8i"
      },
      "outputs": [
        {
          "name": "stdout",
          "output_type": "stream",
          "text": [
            "[4, 2, 97, 54, 16]\n",
            "[2, 4, 16, 54, 97]\n"
          ]
        }
      ],
      "source": [
        "# print(numbers)\n",
        "\n",
        "sorted_numbers = sorted(numbers)\n",
        "print(numbers)\n",
        "print(sorted_numbers)"
      ]
    },
    {
      "attachments": {},
      "cell_type": "markdown",
      "metadata": {
        "id": "WUUKnCRHrs8i"
      },
      "source": [
        "##### .sort() <br>\n",
        "<p>Difference between sort and sorted, is that sorted doesn't change original list it returns a copy, while .sort changes the original list</p>"
      ]
    },
    {
      "cell_type": "code",
      "execution_count": 12,
      "metadata": {
        "id": "8easNUqGrs8j"
      },
      "outputs": [
        {
          "name": "stdout",
          "output_type": "stream",
          "text": [
            "Before Sorting: [4, 2, 97, 54, 16]\n",
            "After Sorting: [2, 4, 16, 54, 97]\n"
          ]
        }
      ],
      "source": [
        "# list.sort()\n",
        "print(f'Before Sorting: {numbers}')\n",
        "numbers.sort()\n",
        "print(f'After Sorting: {numbers}')"
      ]
    },
    {
      "attachments": {},
      "cell_type": "markdown",
      "metadata": {
        "id": "Zk7lrB7qrs8j"
      },
      "source": [
        "##### Copying a List"
      ]
    },
    {
      "cell_type": "code",
      "execution_count": 13,
      "metadata": {
        "id": "XPnSFoGMrs8j"
      },
      "outputs": [
        {
          "name": "stdout",
          "output_type": "stream",
          "text": [
            "[2, 4, 16, 54, 97]\n"
          ]
        }
      ],
      "source": [
        "# [:] copies the list, doesn't do anything to the original.\n",
        "list_1 = numbers[:]\n",
        "print(list_1)"
      ]
    },
    {
      "attachments": {},
      "cell_type": "markdown",
      "metadata": {
        "id": "RxI0RzOgrs8j"
      },
      "source": [
        "##### 'in' keyword"
      ]
    },
    {
      "cell_type": "code",
      "execution_count": 14,
      "metadata": {
        "id": "kodTed97rs8j"
      },
      "outputs": [
        {
          "name": "stdout",
          "output_type": "stream",
          "text": [
            "Coding Temple Instructor\n"
          ]
        }
      ],
      "source": [
        "ct_teachers = ['Alex', 'Branden','Conner', 'Brian', 'Ryan']\n",
        "\n",
        "if 'Ryan' in ct_teachers:\n",
        "    print('Coding Temple Instructor')\n",
        "else: print(\"Not an Instructor\")"
      ]
    },
    {
      "cell_type": "code",
      "execution_count": 15,
      "metadata": {},
      "outputs": [
        {
          "name": "stdout",
          "output_type": "stream",
          "text": [
            "Not Found\n",
            "Not Found\n",
            "Found\n",
            "Conner\n",
            "Not Found\n",
            "Not Found\n"
          ]
        }
      ],
      "source": [
        "# Looking inside the list for specific characters\n",
        "\n",
        "for name in ct_teachers:\n",
        "    if 'C' in name[0]:\n",
        "        print('Found')\n",
        "        print(name)\n",
        "    else:\n",
        "        print('Not Found')"
      ]
    },
    {
      "attachments": {},
      "cell_type": "markdown",
      "metadata": {
        "id": "FxrCx1KNrs8j"
      },
      "source": [
        "##### 'not in' keyword"
      ]
    },
    {
      "cell_type": "code",
      "execution_count": 16,
      "metadata": {
        "id": "xNtSNQiJrs8j"
      },
      "outputs": [
        {
          "name": "stdout",
          "output_type": "stream",
          "text": [
            "He is a student\n",
            "Found Alex\n",
            "Not Found\n",
            "Not Found\n",
            "Not Found\n",
            "Not Found\n"
          ]
        }
      ],
      "source": [
        "if 'Noki' not in ct_teachers:\n",
        "    print(\"He is a student\")\n",
        "    \n",
        "\n",
        "for name in ct_teachers:\n",
        "    if 'A' not in name[0]:\n",
        "        print('Not Found')\n",
        "    else:\n",
        "        print('Found', name)"
      ]
    },
    {
      "attachments": {},
      "cell_type": "markdown",
      "metadata": {
        "id": "BUZcIm0jrs8k"
      },
      "source": [
        "##### Checking an Empty List"
      ]
    },
    {
      "cell_type": "code",
      "execution_count": 17,
      "metadata": {
        "id": "0hRGfavzrs8k"
      },
      "outputs": [
        {
          "name": "stdout",
          "output_type": "stream",
          "text": [
            "Empty\n"
          ]
        }
      ],
      "source": [
        "l_2 = []\n",
        "\n",
        "if not l_2:\n",
        "    print('Empty')"
      ]
    },
    {
      "cell_type": "code",
      "execution_count": 18,
      "metadata": {},
      "outputs": [
        {
          "name": "stdout",
          "output_type": "stream",
          "text": [
            "Has items\n"
          ]
        }
      ],
      "source": [
        "l_3 = [1,2,3]\n",
        "\n",
        "if l_3:\n",
        "    print('Has items')"
      ]
    },
    {
      "attachments": {},
      "cell_type": "markdown",
      "metadata": {
        "id": "sYkofVKHrs8k"
      },
      "source": [
        "##### Removing Instances with a Loop"
      ]
    },
    {
      "cell_type": "code",
      "execution_count": 19,
      "metadata": {
        "id": "9enOHbb4rs8k"
      },
      "outputs": [
        {
          "name": "stdout",
          "output_type": "stream",
          "text": [
            "['Connor', 'Joel', 'Max', 'Steven', 'Rob']\n",
            "['Connor', 'Joel', 'Max', 'Steven', 'Rob']\n"
          ]
        }
      ],
      "source": [
        "names = ['Connor', 'Joel', 'Max', 'Evan', 'Steven', 'Rob', 'Evan']\n",
        "\n",
        "while 'Evan' in names:\n",
        "    names.remove('Evan')\n",
        "print(names)\n",
        "\n",
        "for name in names:\n",
        "    if name == 'Evan':\n",
        "        names.remove('Evan')\n",
        "print(names)"
      ]
    },
    {
      "attachments": {},
      "cell_type": "markdown",
      "metadata": {
        "id": "S-x8E0cDrs8k"
      },
      "source": [
        "### List Exercise <br>\n",
        "<p>Remove all duplicates<br><b>Extra: Create a program that will remove any duplicates from a given list</b></p>"
      ]
    },
    {
      "cell_type": "code",
      "execution_count": 20,
      "metadata": {
        "id": "BlrVsVUprs8k"
      },
      "outputs": [
        {
          "data": {
            "text/plain": [
              "['connor', 'bob', 'evan', 'max', 2, 3, 4, 'kevin']"
            ]
          },
          "execution_count": 20,
          "metadata": {},
          "output_type": "execute_result"
        }
      ],
      "source": [
        "names = ['connor', 'connor', 'bob', 'connor', 'evan', 'max', 'evan', 2, 2, 2, 3, 3, 4, 'bob', 'kevin']\n",
        "# Hint 1: You will need an append\n",
        "# Hint 2: Using an empty list will make life easier\n",
        "def new_list(existing_list: list):\n",
        "\n",
        "    new_names = []\n",
        "\n",
        "    for name in names:\n",
        "        if name not in new_names:\n",
        "            new_names.append(name)\n",
        "    # print(f'New list after removing all duplicates: {new_names}')\n",
        "    return new_names\n",
        "\n",
        "new_list(names)"
      ]
    },
    {
      "attachments": {},
      "cell_type": "markdown",
      "metadata": {
        "id": "6Ci7F4P2rs8k"
      },
      "source": [
        "### List Comprehensions <br>\n",
        "<p>Creating a quickly generated list to work with<br>*result*  = [*transform*    *iteration*         *filter*     ]</p>"
      ]
    },
    {
      "attachments": {},
      "cell_type": "markdown",
      "metadata": {
        "id": "ZnDqczhXrs8l"
      },
      "source": [
        "##### In a list comprehension we have a few pieces:\n",
        "1. The first is the counter/ variable - IN this the variable is x\n",
        "2. then we have a transform for the variable\n",
        "3. The finale part of a list comp is called the condition\n",
        "\n",
        "```python\n",
        "    [variable, transform, condition]\n",
        "```"
      ]
    },
    {
      "cell_type": "code",
      "execution_count": 21,
      "metadata": {
        "id": "2fHFPjOOrs8l"
      },
      "outputs": [
        {
          "name": "stdout",
          "output_type": "stream",
          "text": [
            "[0, 1, 2, 3, 4, 5, 6, 7, 8, 9, 10, 11, 12, 13, 14, 15, 16, 17, 18, 19, 20, 21, 22, 23, 24, 25, 26, 27, 28, 29, 30, 31, 32, 33, 34, 35, 36, 37, 38, 39, 40, 41, 42, 43, 44, 45, 46, 47, 48, 49, 50, 51, 52, 53, 54, 55, 56, 57, 58, 59, 60, 61, 62, 63, 64, 65, 66, 67, 68, 69, 70, 71, 72, 73, 74, 75, 76, 77, 78, 79, 80, 81, 82, 83, 84, 85, 86, 87, 88, 89, 90, 91, 92, 93, 94, 95, 96, 97, 98, 99]\n"
          ]
        },
        {
          "data": {
            "text/plain": [
              "[0,\n",
              " 1,\n",
              " 2,\n",
              " 3,\n",
              " 4,\n",
              " 5,\n",
              " 6,\n",
              " 7,\n",
              " 8,\n",
              " 9,\n",
              " 10,\n",
              " 11,\n",
              " 12,\n",
              " 13,\n",
              " 14,\n",
              " 15,\n",
              " 16,\n",
              " 17,\n",
              " 18,\n",
              " 19,\n",
              " 20,\n",
              " 21,\n",
              " 22,\n",
              " 23,\n",
              " 24,\n",
              " 25,\n",
              " 26,\n",
              " 27,\n",
              " 28,\n",
              " 29,\n",
              " 30,\n",
              " 31,\n",
              " 32,\n",
              " 33,\n",
              " 34,\n",
              " 35,\n",
              " 36,\n",
              " 37,\n",
              " 38,\n",
              " 39,\n",
              " 40,\n",
              " 41,\n",
              " 42,\n",
              " 43,\n",
              " 44,\n",
              " 45,\n",
              " 46,\n",
              " 47,\n",
              " 48,\n",
              " 49,\n",
              " 50,\n",
              " 51,\n",
              " 52,\n",
              " 53,\n",
              " 54,\n",
              " 55,\n",
              " 56,\n",
              " 57,\n",
              " 58,\n",
              " 59,\n",
              " 60,\n",
              " 61,\n",
              " 62,\n",
              " 63,\n",
              " 64,\n",
              " 65,\n",
              " 66,\n",
              " 67,\n",
              " 68,\n",
              " 69,\n",
              " 70,\n",
              " 71,\n",
              " 72,\n",
              " 73,\n",
              " 74,\n",
              " 75,\n",
              " 76,\n",
              " 77,\n",
              " 78,\n",
              " 79,\n",
              " 80,\n",
              " 81,\n",
              " 82,\n",
              " 83,\n",
              " 84,\n",
              " 85,\n",
              " 86,\n",
              " 87,\n",
              " 88,\n",
              " 89,\n",
              " 90,\n",
              " 91,\n",
              " 92,\n",
              " 93,\n",
              " 94,\n",
              " 95,\n",
              " 96,\n",
              " 97,\n",
              " 98,\n",
              " 99]"
            ]
          },
          "execution_count": 21,
          "metadata": {},
          "output_type": "execute_result"
        }
      ],
      "source": [
        "# Number comprehension\n",
        "nums = []\n",
        "\n",
        "for value in range(100):\n",
        "    nums.append(value)\n",
        "print(nums)\n",
        "\n",
        "# in list comprehension there are a few different pieces,\n",
        "# The is variable, counter, whatever instance you are trying to access from an iterable.\n",
        "# Then transformation to the variable\n",
        "# Final part is the condition\n",
        "\n",
        "# [variable, transform, condition]\n",
        "\n",
        "# List Comprehension\n",
        "[value for value in range(100)]"
      ]
    },
    {
      "cell_type": "code",
      "execution_count": null,
      "metadata": {},
      "outputs": [],
      "source": []
    },
    {
      "attachments": {},
      "cell_type": "markdown",
      "metadata": {
        "id": "3ls5g5A2rs8l"
      },
      "source": [
        "There are a few benefits to using List comprehensions. The most obvious would be that we now have shorter code to work with instead of using 3+ lines of code in the for loop variant.\n",
        "\n",
        "Another is an added benefit to memory usage. Since the list's memory is allocated first before adding elements to it, we don't have to resize the list once we add elements to it.\n",
        "\n",
        "Lastly, list comprehensions are considered the \"pythonic\" way to write code by the PEP8 standards (Python Style Guide)"
      ]
    },
    {
      "cell_type": "code",
      "execution_count": 22,
      "metadata": {
        "id": "CPIujsPPrs8l"
      },
      "outputs": [
        {
          "data": {
            "text/plain": [
              "[0, 1, 4, 9, 16, 25, 36, 49, 64, 81]"
            ]
          },
          "execution_count": 22,
          "metadata": {},
          "output_type": "execute_result"
        }
      ],
      "source": [
        "# Square number comprehension\n",
        "squared = [value**2 for value in range(10)]\n",
        "squared"
      ]
    },
    {
      "cell_type": "code",
      "execution_count": 23,
      "metadata": {
        "id": "DDWwxsJhrs8l"
      },
      "outputs": [
        {
          "name": "stdout",
          "output_type": "stream",
          "text": [
            "['C', 'M', 'E', 'R']\n",
            "['C', 'M', 'E', 'R']\n"
          ]
        }
      ],
      "source": [
        "# String comprehension\n",
        "names = ['Connor', 'Max', 'Evan' , 'Rob']\n",
        "first_letter = [name[0] for name in names] # get first letter of every name\n",
        "print(first_letter)\n",
        "\n",
        "first_letter_1 = []\n",
        "for name in names:\n",
        "    first_letter_1.append(name[0])\n",
        "    \n",
        "print(first_letter_1\n",
        "      )"
      ]
    },
    {
      "cell_type": "code",
      "execution_count": 24,
      "metadata": {
        "id": "afJhTL0Ars8m"
      },
      "outputs": [
        {
          "name": "stdout",
          "output_type": "stream",
          "text": [
            "['Connor']\n"
          ]
        }
      ],
      "source": [
        "# For loop\n",
        "c_reg = []\n",
        "\n",
        "for first_name in names:\n",
        "    if first_name[0] == 'C':\n",
        "        c_reg.append(first_name)\n",
        "print(c_reg)        "
      ]
    },
    {
      "cell_type": "code",
      "execution_count": 25,
      "metadata": {
        "id": "QhyfY60Lrs8m"
      },
      "outputs": [
        {
          "data": {
            "text/plain": [
              "['Connor']"
            ]
          },
          "execution_count": 25,
          "metadata": {},
          "output_type": "execute_result"
        }
      ],
      "source": [
        "# List comprehension\n",
        "[first_name for first_name in names if first_name[0] == 'C']"
      ]
    },
    {
      "attachments": {},
      "cell_type": "markdown",
      "metadata": {
        "id": "l0OZFm-nrs8m"
      },
      "source": [
        "### Tuples <br>\n",
        "<p><b>Defined as an immutable list</b></p><br>Seperated by commas using parenthesis"
      ]
    },
    {
      "cell_type": "code",
      "execution_count": 26,
      "metadata": {
        "id": "qzrkcZvArs8m"
      },
      "outputs": [
        {
          "name": "stdout",
          "output_type": "stream",
          "text": [
            "1\n",
            "2\n",
            "3\n"
          ]
        }
      ],
      "source": [
        "tup_1 = 1,2,3 # One way of creating a tuple\n",
        "tup_2 = (1,2,3) # Another way of creating a tuple\n",
        "\n",
        "# print(tup_1)\n",
        "# print(type(tup_1))\n",
        "\n",
        "# # Loop over a tuple\n",
        "# for value in tup_1:\n",
        "#     print(value)\n",
        "    \n",
        "# Loop over a tuple with an index using range\n",
        "for index_position in range(len(tup_2)):\n",
        "    print(tup_2[index_position])"
      ]
    },
    {
      "attachments": {},
      "cell_type": "markdown",
      "metadata": {
        "id": "HyW7twHCrs8m"
      },
      "source": [
        "##### sorted()"
      ]
    },
    {
      "cell_type": "code",
      "execution_count": 1,
      "metadata": {
        "id": "806UVJgFrs8m"
      },
      "outputs": [
        {
          "name": "stdout",
          "output_type": "stream",
          "text": [
            "[1, 3, 5, 9, 20, 45]\n",
            "<class 'list'>\n",
            "(20, 5, 1, 3, 9, 45)\n",
            "<class 'tuple'>\n",
            "(1, 3, 3, 4, 5, 9, 20, 33, 45, 66, 77)\n",
            "<class 'tuple'>\n"
          ]
        }
      ],
      "source": [
        "tup_3 = (20,5,1,3,9,45)\n",
        "\n",
        "sorted_tup = sorted(tup_3)\n",
        "print(sorted_tup)\n",
        "print(type(sorted_tup))\n",
        "print(tup_3)\n",
        "print(type(tup_3))\n",
        "\n",
        "rand_list = [3,4,66,77,33]\n",
        "combined = tuple(sorted(sorted_tup + rand_list))\n",
        "print(combined)\n",
        "print(type(combined))"
      ]
    },
    {
      "attachments": {},
      "cell_type": "markdown",
      "metadata": {
        "id": "obuFNiIErs8m"
      },
      "source": [
        "##### Adding values to a Tuple"
      ]
    },
    {
      "cell_type": "code",
      "execution_count": 28,
      "metadata": {
        "id": "ZPkUYr2Trs8m"
      },
      "outputs": [
        {
          "name": "stdout",
          "output_type": "stream",
          "text": [
            "(1, 2, 3, 5, 4)\n",
            "<class 'tuple'>\n"
          ]
        }
      ],
      "source": [
        "tup_1 = tup_1 + (5,4,)\n",
        "print(tup_1)\n",
        "print(type(tup_1))"
      ]
    },
    {
      "attachments": {},
      "cell_type": "markdown",
      "metadata": {
        "id": "QX0j43L6rs8m"
      },
      "source": [
        "## Functions"
      ]
    },
    {
      "attachments": {},
      "cell_type": "markdown",
      "metadata": {
        "id": "RDYcwCvVrs8n"
      },
      "source": [
        "##### User-Defined vs. Built-In Functions"
      ]
    },
    {
      "cell_type": "code",
      "execution_count": 10,
      "metadata": {
        "id": "z6z8tJiqrs8n"
      },
      "outputs": [
        {
          "name": "stdout",
          "output_type": "stream",
          "text": [
            "Hello World!\n",
            "<class 'str'>\n"
          ]
        }
      ],
      "source": [
        "def say_hello():\n",
        "    return 'Hello World!'\n",
        "\n",
        "print(say_hello())\n",
        "\n",
        "var2= say_hello()\n",
        "print(type(var2))"
      ]
    },
    {
      "attachments": {},
      "cell_type": "markdown",
      "metadata": {
        "id": "3EK6Bb7Xrs8n"
      },
      "source": [
        "##### Accepting Parameters"
      ]
    },
    {
      "cell_type": "code",
      "execution_count": 15,
      "metadata": {
        "id": "NkgHjPLRrs8n"
      },
      "outputs": [
        {
          "name": "stdout",
          "output_type": "stream",
          "text": [
            "Hello 4 Lucchesi*3\n"
          ]
        }
      ],
      "source": [
        "def print_full_name(first_name: str, last_name: str):\n",
        "    return f'Hello {first_name} {last_name}'\n",
        "\n",
        "print(print_full_name(1*4,'Lucchesi'))"
      ]
    },
    {
      "attachments": {},
      "cell_type": "markdown",
      "metadata": {
        "id": "pZtz8D3ors8n"
      },
      "source": [
        "##### Default Parameters"
      ]
    },
    {
      "cell_type": "code",
      "execution_count": 31,
      "metadata": {
        "id": "mqOXoR2Zrs8n"
      },
      "outputs": [
        {
          "name": "stdout",
          "output_type": "stream",
          "text": [
            "The name is... Bond... James Bond\n",
            "The name is... Bond... James Bond\n",
            "The name is... Bond... James Bond\n",
            "The name is... Miyagi... Mr. Miyagi\n",
            "The name is... Miyagi... Mr. Miyagi\n"
          ]
        }
      ],
      "source": [
        "def print_agent_name(first_name, last_name = 'Bond'):\n",
        "    return f'The name is... {last_name}... {first_name} {last_name}'\n",
        "\n",
        "print(print_agent_name('James'))\n",
        "print(print_agent_name(first_name='James'))\n",
        "print(print_agent_name(first_name='James', last_name= 'Bond'))\n",
        "\n",
        "print(print_agent_name('Mr.', 'Miyagi'))\n",
        "print(print_agent_name(first_name='Mr.', last_name='Miyagi'))"
      ]
    },
    {
      "attachments": {},
      "cell_type": "markdown",
      "metadata": {
        "id": "4OlHa3j3rs8n"
      },
      "source": [
        "##### Making an Argument Optional"
      ]
    },
    {
      "cell_type": "code",
      "execution_count": 16,
      "metadata": {
        "id": "v4IqqRW8rs8n"
      },
      "outputs": [
        {
          "data": {
            "text/plain": [
              "'Hello Mr Ed'"
            ]
          },
          "execution_count": 16,
          "metadata": {},
          "output_type": "execute_result"
        }
      ],
      "source": [
        "def print_horse_name(first, middle = '', last='Ed'):\n",
        "    \n",
        "    if middle == '':\n",
        "        return f'Hello {first} {last}'\n",
        "    \n",
        "    return f'Hello {first} {middle} {last}'\n",
        "\n",
        "print_horse_name('Mr')"
      ]
    },
    {
      "attachments": {},
      "cell_type": "markdown",
      "metadata": {
        "id": "sJvg1qE3rs8n"
      },
      "source": [
        "##### Keyword Arguments"
      ]
    },
    {
      "cell_type": "code",
      "execution_count": 33,
      "metadata": {
        "id": "IazE0eWYrs8o"
      },
      "outputs": [
        {
          "data": {
            "text/plain": [
              "['__add__',\n",
              " '__class__',\n",
              " '__contains__',\n",
              " '__delattr__',\n",
              " '__dir__',\n",
              " '__doc__',\n",
              " '__eq__',\n",
              " '__format__',\n",
              " '__ge__',\n",
              " '__getattribute__',\n",
              " '__getitem__',\n",
              " '__getnewargs__',\n",
              " '__gt__',\n",
              " '__hash__',\n",
              " '__init__',\n",
              " '__init_subclass__',\n",
              " '__iter__',\n",
              " '__le__',\n",
              " '__len__',\n",
              " '__lt__',\n",
              " '__mod__',\n",
              " '__mul__',\n",
              " '__ne__',\n",
              " '__new__',\n",
              " '__reduce__',\n",
              " '__reduce_ex__',\n",
              " '__repr__',\n",
              " '__rmod__',\n",
              " '__rmul__',\n",
              " '__setattr__',\n",
              " '__sizeof__',\n",
              " '__str__',\n",
              " '__subclasshook__',\n",
              " 'capitalize',\n",
              " 'casefold',\n",
              " 'center',\n",
              " 'count',\n",
              " 'encode',\n",
              " 'endswith',\n",
              " 'expandtabs',\n",
              " 'find',\n",
              " 'format',\n",
              " 'format_map',\n",
              " 'index',\n",
              " 'isalnum',\n",
              " 'isalpha',\n",
              " 'isascii',\n",
              " 'isdecimal',\n",
              " 'isdigit',\n",
              " 'isidentifier',\n",
              " 'islower',\n",
              " 'isnumeric',\n",
              " 'isprintable',\n",
              " 'isspace',\n",
              " 'istitle',\n",
              " 'isupper',\n",
              " 'join',\n",
              " 'ljust',\n",
              " 'lower',\n",
              " 'lstrip',\n",
              " 'maketrans',\n",
              " 'partition',\n",
              " 'removeprefix',\n",
              " 'removesuffix',\n",
              " 'replace',\n",
              " 'rfind',\n",
              " 'rindex',\n",
              " 'rjust',\n",
              " 'rpartition',\n",
              " 'rsplit',\n",
              " 'rstrip',\n",
              " 'split',\n",
              " 'splitlines',\n",
              " 'startswith',\n",
              " 'strip',\n",
              " 'swapcase',\n",
              " 'title',\n",
              " 'translate',\n",
              " 'upper',\n",
              " 'zfill']"
            ]
          },
          "execution_count": 33,
          "metadata": {},
          "output_type": "execute_result"
        }
      ],
      "source": [
        "henry = print_horse_name('Henry')\n",
        "\n",
        "dir(henry)"
      ]
    },
    {
      "attachments": {},
      "cell_type": "markdown",
      "metadata": {
        "id": "YVE6ZfCtrs8o"
      },
      "source": [
        "# Creating a start, stop, step function"
      ]
    },
    {
      "cell_type": "code",
      "execution_count": 34,
      "metadata": {
        "id": "WrVaUO6Nrs8o"
      },
      "outputs": [
        {
          "data": {
            "text/plain": [
              "[1, 2, 3, 4, 5, 6, 7, 8, 9, 10, 11, 12, 13, 14, 15, 16, 17, 18, 19]"
            ]
          },
          "execution_count": 34,
          "metadata": {},
          "output_type": "execute_result"
        }
      ],
      "source": [
        "def my_range(stop, start=0, step=1):\n",
        "    return [i for i in range(start, stop, step)]\n",
        "    # lst = []\n",
        "    # for i in range(start, stop, step):\n",
        "    #     lst.append(i)\n",
        "    # return lst\n",
        "        \n",
        "my_range(20,1)"
      ]
    },
    {
      "attachments": {},
      "cell_type": "markdown",
      "metadata": {
        "id": "X9Ec0fiKrs8o"
      },
      "source": [
        "##### Returning Values"
      ]
    },
    {
      "cell_type": "code",
      "execution_count": 35,
      "metadata": {
        "id": "tRxhyCRVrs8o"
      },
      "outputs": [],
      "source": [
        "#see above"
      ]
    },
    {
      "attachments": {},
      "cell_type": "markdown",
      "metadata": {
        "id": "Ar3s_91Vrs8o"
      },
      "source": [
        "##### *args"
      ]
    },
    {
      "cell_type": "code",
      "execution_count": 36,
      "metadata": {
        "id": "FOKAMCwprs8o"
      },
      "outputs": [
        {
          "name": "stdout",
          "output_type": "stream",
          "text": [
            "36\n",
            "('DragonZord', 'peanut', 2, 3)\n",
            "DragonZord\n",
            "peanut\n",
            "2\n",
            "3\n",
            "testing\n",
            "favorite_color\n"
          ]
        }
      ],
      "source": [
        "#stands for arguments. They take any number of arguments\n",
        "# must also be LAST if multiple parameters are present.\n",
        "\n",
        "def print_args(num1, *args, **kwargs):\n",
        "    print(num1)\n",
        "    print(args)\n",
        "    \n",
        "    for arg in args:\n",
        "        print(arg)\n",
        "        \n",
        "    for kwarg in kwargs:\n",
        "        print(kwarg)\n",
        "        \n",
        "print_args(36, 'DragonZord', 'peanut', 2,3, testing='Alex', favorite_color = 'Green')"
      ]
    },
    {
      "attachments": {},
      "cell_type": "markdown",
      "metadata": {
        "id": "twSjhVegrs8o"
      },
      "source": [
        "##### Docstring"
      ]
    },
    {
      "cell_type": "code",
      "execution_count": 37,
      "metadata": {
        "id": "YqowH4COrs8p"
      },
      "outputs": [
        {
          "name": "stdout",
          "output_type": "stream",
          "text": [
            "Bobby\n",
            "George\n",
            "Ramon\n",
            "Help on function print_names in module __main__:\n",
            "\n",
            "print_names(list_1: list)\n",
            "    print_names takes a single list as an input\n",
            "    Function requrires list as parameter\n",
            "    Prints contents of the list and \n",
            "    Expects a list of names(as strings) to be passed.\n",
            "\n"
          ]
        }
      ],
      "source": [
        "def print_names(list_1: list):\n",
        "    '''\n",
        "    print_names takes a single list as an input\n",
        "    Function requrires list as parameter\n",
        "    Prints contents of the list and \n",
        "    Expects a list of names(as strings) to be passed.\n",
        "    '''\n",
        "    for name in list_1:\n",
        "        print(name)\n",
        "        \n",
        "print_names(['Bobby' ,'George', 'Ramon'])\n",
        "help(print_names)"
      ]
    },
    {
      "attachments": {},
      "cell_type": "markdown",
      "metadata": {
        "id": "EkymtL8Brs8p"
      },
      "source": [
        "##### Using a User Function in a Loop"
      ]
    },
    {
      "cell_type": "code",
      "execution_count": 1,
      "metadata": {
        "id": "CX21hhzhrs8p"
      },
      "outputs": [],
      "source": [
        "# any function that expects an input from a user!\n",
        "def print_input(answer):\n",
        "    \"\"\"\n",
        "    Print input expects the user to input a string value\n",
        "    Function will ask three questions, and quit when \n",
        "    a user responds with the 'quit' option.\n",
        "    \"\"\"\n",
        "    \n",
        "    response = input('Are you ready to quit??')\n",
        "    \n",
        "    while True:\n",
        "        ask = input(\"What do you want to do?\")\n",
        "        \n",
        "        print_input(ask)\n",
        "        \n",
        "        response = input('Ready Yet?')\n",
        "        if response.lower() == 'quit':\n",
        "            break\n",
        "        \n",
        "print_input('Hiking')"
      ]
    },
    {
      "attachments": {},
      "cell_type": "markdown",
      "metadata": {
        "id": "V7gH_UuPrs8p"
      },
      "source": [
        "## Function Exercise <br>\n",
        "<p>Write a function that loops through a list of first_names and a list of last_names, combines the two and return a list of full_names</p>"
      ]
    },
    {
      "cell_type": "code",
      "execution_count": null,
      "metadata": {},
      "outputs": [],
      "source": []
    },
    {
      "cell_type": "code",
      "execution_count": 19,
      "metadata": {
        "id": "ogvq6xo-rs8p"
      },
      "outputs": [
        {
          "data": {
            "text/plain": [
              "['John Smith', 'Evan Smith', 'Jordan Williams', 'Max Bell']"
            ]
          },
          "execution_count": 19,
          "metadata": {},
          "output_type": "execute_result"
        }
      ],
      "source": [
        "first_name = ['John', 'Evan', 'Jordan', 'Max']\n",
        "last_name = ['Smith', 'Smith', 'Williams', 'Bell']\n",
        "\n",
        "# Output: ['John Smith', 'Evan Smith', 'Jordan Williams', 'Max Bell']\n",
        "\n",
        "def name_generator(first_name: list, last_name:list):\n",
        "    lst = []\n",
        "    for index_position in range(len(first_name)):\n",
        "        new_name = first_name[index_position] + ' ' + last_name[index_position]\n",
        "        lst.append(new_name)\n",
        "    return lst\n",
        "name_generator(first_name, last_name)"
      ]
    },
    {
      "attachments": {},
      "cell_type": "markdown",
      "metadata": {
        "id": "yOjmLQ7Wrs8p"
      },
      "source": [
        "## Scope <br>\n",
        "<p>Scope refers to the ability to access variables, different types of scope include:<br>a) Global<br>b) Function (local)<br>c) Class (local)</p>"
      ]
    },
    {
      "cell_type": "code",
      "execution_count": null,
      "metadata": {
        "id": "Gnb7C0-4rs8p"
      },
      "outputs": [
        {
          "name": "stdout",
          "output_type": "stream",
          "text": [
            "6\n",
            "3\n"
          ]
        }
      ],
      "source": [
        "number = 3\n",
        "\n",
        "def my_func():\n",
        "    doubled_number = 6\n",
        "    return doubled_number\n",
        "my_func()\n",
        "print(my_func())\n",
        "print(number)\n"
      ]
    },
    {
      "cell_type": "code",
      "execution_count": null,
      "metadata": {},
      "outputs": [],
      "source": []
    }
  ],
  "metadata": {
    "colab": {
      "provenance": []
    },
    "kernelspec": {
      "display_name": "Python 3",
      "language": "python",
      "name": "python3"
    },
    "language_info": {
      "codemirror_mode": {
        "name": "ipython",
        "version": 3
      },
      "file_extension": ".py",
      "mimetype": "text/x-python",
      "name": "python",
      "nbconvert_exporter": "python",
      "pygments_lexer": "ipython3",
      "version": "3.10.0"
    },
    "vscode": {
      "interpreter": {
        "hash": "26de051ba29f2982a8de78e945f0abaf191376122a1563185a90213a26c5da77"
      }
    }
  },
  "nbformat": 4,
  "nbformat_minor": 0
}
