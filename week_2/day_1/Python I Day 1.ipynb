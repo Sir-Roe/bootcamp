{
  "cells": [
    {
      "attachments": {},
      "cell_type": "markdown",
      "metadata": {
        "id": "57xaaz1EpigH"
      },
      "source": [
        "# Coding Temple's Data Analytics Course\n",
        "---\n",
        "## Python I: Variable Assignment, Loops, Lists\n",
        "---"
      ]
    },
    {
      "attachments": {},
      "cell_type": "markdown",
      "metadata": {
        "id": "DEMU__ZTpigK"
      },
      "source": [
        "## Tasks Today:\n",
        "\n",
        "1) Int & Float assignments <br>\n",
        " &nbsp;&nbsp;&nbsp;&nbsp; a) Assigning int <br>\n",
        " &nbsp;&nbsp;&nbsp;&nbsp; b) Assigning float <br>\n",
        " &nbsp;&nbsp;&nbsp;&nbsp; c) Performing Calculations on ints and floats <br>\n",
        " &nbsp;&nbsp;&nbsp;&nbsp;&nbsp;&nbsp;&nbsp;&nbsp; - Addition <br>\n",
        " &nbsp;&nbsp;&nbsp;&nbsp;&nbsp;&nbsp;&nbsp;&nbsp; - Subtraction <br>\n",
        " &nbsp;&nbsp;&nbsp;&nbsp;&nbsp;&nbsp;&nbsp;&nbsp; - Multiplication <br>\n",
        " &nbsp;&nbsp;&nbsp;&nbsp;&nbsp;&nbsp;&nbsp;&nbsp; - Division <br>\n",
        " &nbsp;&nbsp;&nbsp;&nbsp;&nbsp;&nbsp;&nbsp;&nbsp; - Floor Division <br>\n",
        " &nbsp;&nbsp;&nbsp;&nbsp;&nbsp;&nbsp;&nbsp;&nbsp; - Modulo <br>\n",
        " &nbsp;&nbsp;&nbsp;&nbsp;&nbsp;&nbsp;&nbsp;&nbsp; - Exponential <br>\n",
        "2) String Input-Output <br>\n",
        " &nbsp;&nbsp;&nbsp;&nbsp; a) String Assignment <br>\n",
        " &nbsp;&nbsp;&nbsp;&nbsp; b) print() <br>\n",
        " &nbsp;&nbsp;&nbsp;&nbsp; c) String Concatenation <br>\n",
        " &nbsp;&nbsp;&nbsp;&nbsp; d) Type Conversion <br>\n",
        " &nbsp;&nbsp;&nbsp;&nbsp; e) input() <br>\n",
        " &nbsp;&nbsp;&nbsp;&nbsp; f) format() <br>\n",
        " &nbsp;&nbsp;&nbsp;&nbsp; g) Old Way (python 2) <br>\n",
        "3) <b>In-Class Exercise #1</b> <br>\n",
        "4) If Statements <br>\n",
        " &nbsp;&nbsp;&nbsp;&nbsp; a) 'is' keyword <br>\n",
        " &nbsp;&nbsp;&nbsp;&nbsp; b) 'in' keyword <br>\n",
        " &nbsp;&nbsp;&nbsp;&nbsp; c) 'not in' keyword <br>\n",
        "5) <b>In-Class Exercise #2</b> <br>\n",
        "6) Elif Statements <br>\n",
        "7) Else Statements <br>\n",
        "8) <b>In-Class Exercise #3</b> <br>\n",
        "9) For Loops <br>\n",
        " &nbsp;&nbsp;&nbsp;&nbsp; a) Using 'in' keyword <br>\n",
        " &nbsp;&nbsp;&nbsp;&nbsp; b) Continue Statement <br>\n",
        " &nbsp;&nbsp;&nbsp;&nbsp; c) Break Statement <br>\n",
        " &nbsp;&nbsp;&nbsp;&nbsp; d) Pass Statement <br>\n",
        " &nbsp;&nbsp;&nbsp;&nbsp; e) Double For Loops <br>\n",
        "10) While Loops <br>\n",
        " &nbsp;&nbsp;&nbsp;&nbsp; a) Looping 'While True' <br>\n",
        " &nbsp;&nbsp;&nbsp;&nbsp; b) While and For Loops Used Together <br>\n",
        "11) Built-In Functions <br>\n",
        " &nbsp;&nbsp;&nbsp;&nbsp; a) range() <br>\n",
        " &nbsp;&nbsp;&nbsp;&nbsp; b) len() <br>\n",
        " &nbsp;&nbsp;&nbsp;&nbsp; c) help() <br>\n",
        " &nbsp;&nbsp;&nbsp;&nbsp; d) isinstance() <br>\n",
        " &nbsp;&nbsp;&nbsp;&nbsp; e) abs() <br>\n",
        "12) Try and Except <br>\n",
        "13) Lists <br>\n",
        " &nbsp;&nbsp;&nbsp;&nbsp; a) Declaring Lists <br>\n",
        " &nbsp;&nbsp;&nbsp;&nbsp; b) Indexing a List <br>\n",
        " &nbsp;&nbsp;&nbsp;&nbsp; c) .append() <br>\n",
        " &nbsp;&nbsp;&nbsp;&nbsp; d) .insert() <br>\n",
        " &nbsp;&nbsp;&nbsp;&nbsp; e) .pop() <br>\n",
        " &nbsp;&nbsp;&nbsp;&nbsp; f) .remove() <br>\n",
        " &nbsp;&nbsp;&nbsp;&nbsp; g) del() <br>\n",
        " &nbsp;&nbsp;&nbsp;&nbsp; h) Concatenating Two Lists <br>\n",
        " &nbsp;&nbsp;&nbsp;&nbsp; i) Lists Within Lists <br>\n",
        " &nbsp;&nbsp;&nbsp;&nbsp; j) Looping Through Lists <br>"
      ]
    },
    {
      "attachments": {},
      "cell_type": "markdown",
      "metadata": {
        "id": "9AQEnYwJpigM"
      },
      "source": [
        "### Int & Float Assignments"
      ]
    },
    {
      "attachments": {},
      "cell_type": "markdown",
      "metadata": {
        "id": "WbMsgFCDpigM"
      },
      "source": [
        "##### Assigning int"
      ]
    },
    {
      "cell_type": "code",
      "execution_count": 6,
      "metadata": {
        "id": "if4FWmqWpigN"
      },
      "outputs": [
        {
          "name": "stdout",
          "output_type": "stream",
          "text": [
            "6\n"
          ]
        }
      ],
      "source": [
        "number = 6\n",
        "print(number)"
      ]
    },
    {
      "attachments": {},
      "cell_type": "markdown",
      "metadata": {
        "id": "BBX5w1FfpigO"
      },
      "source": [
        "##### Assinging float"
      ]
    },
    {
      "cell_type": "code",
      "execution_count": 7,
      "metadata": {
        "id": "w0KpCCeXpigO"
      },
      "outputs": [
        {
          "name": "stdout",
          "output_type": "stream",
          "text": [
            "2.3\n"
          ]
        }
      ],
      "source": [
        "number_float=2.3\n",
        "\n",
        "print(number_float)"
      ]
    },
    {
      "attachments": {},
      "cell_type": "markdown",
      "metadata": {
        "id": "hZkNTUDApigO"
      },
      "source": [
        "#### Performing Calculations on ints and floats"
      ]
    },
    {
      "attachments": {},
      "cell_type": "markdown",
      "metadata": {
        "id": "0OJrZLB_pigP"
      },
      "source": [
        "##### Addition"
      ]
    },
    {
      "cell_type": "code",
      "execution_count": 8,
      "metadata": {
        "id": "ZplFGDG-pigP"
      },
      "outputs": [
        {
          "name": "stdout",
          "output_type": "stream",
          "text": [
            "8.4\n"
          ]
        }
      ],
      "source": [
        "num1= 5.4\n",
        "num2=3\n",
        "result =num1+num2\n",
        "print(num1+num2)"
      ]
    },
    {
      "attachments": {},
      "cell_type": "markdown",
      "metadata": {
        "id": "XpRbDiqapigQ"
      },
      "source": [
        "##### Subtraction"
      ]
    },
    {
      "cell_type": "code",
      "execution_count": 9,
      "metadata": {
        "id": "4ty9SIlqpigQ"
      },
      "outputs": [],
      "source": [
        "result_diff = num1-num2\n",
        "\n",
        "result_diff -= 1"
      ]
    },
    {
      "attachments": {},
      "cell_type": "markdown",
      "metadata": {
        "id": "2l8PJyt1pigQ"
      },
      "source": [
        "##### Multiplication"
      ]
    },
    {
      "cell_type": "code",
      "execution_count": null,
      "metadata": {
        "id": "ihgp2XUCpigQ"
      },
      "outputs": [],
      "source": [
        "result_mul= num1*num2\n",
        "result_mul*= 2"
      ]
    },
    {
      "attachments": {},
      "cell_type": "markdown",
      "metadata": {
        "id": "BX9eRTAtpigQ"
      },
      "source": [
        "##### Division"
      ]
    },
    {
      "cell_type": "code",
      "execution_count": null,
      "metadata": {
        "id": "xmH2irBvpigR"
      },
      "outputs": [],
      "source": [
        "result_div = num2/num1\n",
        "result_div /= 2\n"
      ]
    },
    {
      "attachments": {},
      "cell_type": "markdown",
      "metadata": {
        "id": "wRDQbO74pigR"
      },
      "source": [
        "##### Floor Division"
      ]
    },
    {
      "cell_type": "code",
      "execution_count": 16,
      "metadata": {
        "id": "ug00LrlRpigR"
      },
      "outputs": [
        {
          "name": "stdout",
          "output_type": "stream",
          "text": [
            "11\n"
          ]
        }
      ],
      "source": [
        "result_floor= 35//3\n",
        "print(result_floor)"
      ]
    },
    {
      "attachments": {},
      "cell_type": "markdown",
      "metadata": {
        "id": "xrF0YNLRpigR"
      },
      "source": [
        "##### Modulo"
      ]
    },
    {
      "cell_type": "code",
      "execution_count": 17,
      "metadata": {
        "id": "KJbeV5W8pigR"
      },
      "outputs": [
        {
          "name": "stdout",
          "output_type": "stream",
          "text": [
            "2\n"
          ]
        }
      ],
      "source": [
        "result_mod= 35%3\n",
        "print(result_mod)"
      ]
    },
    {
      "attachments": {},
      "cell_type": "markdown",
      "metadata": {
        "id": "mV3tz9_4pigS"
      },
      "source": [
        "##### Exponential"
      ]
    },
    {
      "cell_type": "code",
      "execution_count": 18,
      "metadata": {
        "id": "HkDfvywxpigS"
      },
      "outputs": [
        {
          "name": "stdout",
          "output_type": "stream",
          "text": [
            "25\n",
            "2.23606797749979\n"
          ]
        }
      ],
      "source": [
        "square = 5**2\n",
        "square_root = 5**(1/2)\n",
        "\n",
        "print(square)\n",
        "print(square_root)"
      ]
    },
    {
      "attachments": {},
      "cell_type": "markdown",
      "metadata": {
        "id": "dryy0pBFpigS"
      },
      "source": [
        "### String Input-Output"
      ]
    },
    {
      "attachments": {},
      "cell_type": "markdown",
      "metadata": {
        "id": "Xjfphv3UpigS"
      },
      "source": [
        "##### String Assignment"
      ]
    },
    {
      "cell_type": "code",
      "execution_count": 23,
      "metadata": {
        "id": "QQA_K7eppigS"
      },
      "outputs": [
        {
          "name": "stdout",
          "output_type": "stream",
          "text": [
            "the number of students squared in our class is : 81\n",
            "this is my first name Logan\n",
            "this is my first name LoganRoe"
          ]
        }
      ],
      "source": [
        "print(f'the number of students squared in our class is : {9**2}')\n",
        "name = 'Logan'\n",
        "print('this is my first name',name)\n",
        "\n"
      ]
    },
    {
      "attachments": {},
      "cell_type": "markdown",
      "metadata": {
        "id": "x6Fx1auepigS"
      },
      "source": [
        "##### print() <br>\n",
        "<p>Don't forget about end=' '</p>"
      ]
    },
    {
      "cell_type": "code",
      "execution_count": null,
      "metadata": {
        "id": "Z4SCUqIVpigS"
      },
      "outputs": [],
      "source": [
        "print('this is my first name',name, end ='Roe')"
      ]
    },
    {
      "attachments": {},
      "cell_type": "markdown",
      "metadata": {
        "id": "0rvl648hpigT"
      },
      "source": [
        "##### String Concatenation"
      ]
    },
    {
      "cell_type": "code",
      "execution_count": null,
      "metadata": {
        "id": "S3Y5p6N8pigT"
      },
      "outputs": [],
      "source": []
    },
    {
      "attachments": {},
      "cell_type": "markdown",
      "metadata": {
        "id": "XlQAnJBbpigT"
      },
      "source": [
        "##### Type Conversion"
      ]
    },
    {
      "cell_type": "code",
      "execution_count": null,
      "metadata": {
        "id": "LczVxyFmpigT"
      },
      "outputs": [],
      "source": []
    },
    {
      "attachments": {},
      "cell_type": "markdown",
      "metadata": {
        "id": "D5r5bba4pigT"
      },
      "source": [
        "##### input()"
      ]
    },
    {
      "cell_type": "code",
      "execution_count": null,
      "metadata": {
        "id": "93t1CFRdpigT"
      },
      "outputs": [],
      "source": []
    },
    {
      "attachments": {},
      "cell_type": "markdown",
      "metadata": {
        "id": "TkEhAU61pigT"
      },
      "source": [
        "##### format()"
      ]
    },
    {
      "cell_type": "code",
      "execution_count": null,
      "metadata": {
        "id": "T656F6u4pigU"
      },
      "outputs": [],
      "source": []
    },
    {
      "attachments": {},
      "cell_type": "markdown",
      "metadata": {
        "id": "7IOvBGXapigU"
      },
      "source": [
        "##### Old Way (python 2)"
      ]
    },
    {
      "cell_type": "code",
      "execution_count": null,
      "metadata": {
        "id": "x1NsLPo6pigU"
      },
      "outputs": [],
      "source": []
    },
    {
      "attachments": {},
      "cell_type": "markdown",
      "metadata": {
        "id": "Jfh2Y6qwpigU"
      },
      "source": [
        "# In-Class Exercise 1 <br>\n",
        "<p>Create a format statement that asks for color, year, make, model and prints out the results</p>"
      ]
    },
    {
      "cell_type": "code",
      "execution_count": 27,
      "metadata": {
        "id": "XEkCn2tHpigU"
      },
      "outputs": [
        {
          "name": "stdout",
          "output_type": "stream",
          "text": [
            "Your car us a Red 2015 Nissan Rogue\n",
            "Your car us a Red 2015 Nissan Rogue\n"
          ]
        }
      ],
      "source": [
        "# Uses input function to ask for color, year, make, and model of vehicle.\n",
        "# Then, you will use a .format() or f-string to print those values back to your user.\n",
        "# Example: Your vehicle is a blue 2020 nissan frontier\n",
        "color_i = \"What kind of rental car would you like? \"\n",
        "year_i = \"What year would you like? \"\n",
        "make_i= \"What Make would you like? \"\n",
        "model_i= \"Which Model would you like? \"\n",
        "\n",
        "color =input(color_i).title()\n",
        "year = input(year_i)\n",
        "make= input(make_i).title()\n",
        "model= input(model_i).title()\n",
        "\n",
        "print(\"Your car us a {} {} {} {}\".format(color,year,make,model))\n",
        "print(f\"Your car us a {color} {year} {make} {model}\")"
      ]
    },
    {
      "attachments": {},
      "cell_type": "markdown",
      "metadata": {
        "id": "7rBu-8S0pigU"
      },
      "source": [
        "### If Statements"
      ]
    },
    {
      "cell_type": "code",
      "execution_count": null,
      "metadata": {
        "id": "mbHj2C8QpigV"
      },
      "outputs": [],
      "source": []
    },
    {
      "attachments": {},
      "cell_type": "markdown",
      "metadata": {
        "id": "qkYer6qtpigV"
      },
      "source": [
        "##### 'is' keyword"
      ]
    },
    {
      "cell_type": "code",
      "execution_count": null,
      "metadata": {
        "id": "FHbOkfRJpigV",
        "scrolled": true
      },
      "outputs": [],
      "source": []
    },
    {
      "attachments": {},
      "cell_type": "markdown",
      "metadata": {
        "id": "GYrLnQv3pigW"
      },
      "source": [
        "##### 'in' keyword"
      ]
    },
    {
      "cell_type": "code",
      "execution_count": null,
      "metadata": {
        "id": "0LglfRfDpigW"
      },
      "outputs": [],
      "source": []
    },
    {
      "attachments": {},
      "cell_type": "markdown",
      "metadata": {
        "id": "O3YwJKEgpigW"
      },
      "source": [
        "##### 'not in' keyword'"
      ]
    },
    {
      "cell_type": "code",
      "execution_count": null,
      "metadata": {
        "id": "sgIzj-vopigW"
      },
      "outputs": [],
      "source": []
    },
    {
      "attachments": {},
      "cell_type": "markdown",
      "metadata": {
        "id": "U064bQXGpigW"
      },
      "source": [
        "# In-Class Exercise 2 <br>\n",
        "<p>Ask a user for input, check to see if the letter 'p' is in the input</p>"
      ]
    },
    {
      "cell_type": "code",
      "execution_count": 29,
      "metadata": {
        "id": "IW9tVkRYpigW"
      },
      "outputs": [
        {
          "name": "stdout",
          "output_type": "stream",
          "text": [
            "True\n"
          ]
        }
      ],
      "source": [
        "is_p =input('type p or somethin idc my bff jill? ')\n",
        "check_p =False\n",
        "\n",
        "for c in is_p.lower():\n",
        "    if c == 'p':\n",
        "        check_p = True\n",
        "\n",
        "print(check_p)"
      ]
    },
    {
      "attachments": {},
      "cell_type": "markdown",
      "metadata": {
        "id": "5-UuzohapigW"
      },
      "source": [
        "## Using 'and'/'or' with If Statements"
      ]
    },
    {
      "cell_type": "code",
      "execution_count": null,
      "metadata": {
        "id": "LnxGb7aQpigW"
      },
      "outputs": [],
      "source": []
    },
    {
      "attachments": {},
      "cell_type": "markdown",
      "metadata": {
        "id": "whxY1xwwpigX"
      },
      "source": [
        "### Elif Statements"
      ]
    },
    {
      "cell_type": "code",
      "execution_count": null,
      "metadata": {
        "id": "Td62fi2FpigX"
      },
      "outputs": [],
      "source": [
        "\n"
      ]
    },
    {
      "attachments": {},
      "cell_type": "markdown",
      "metadata": {
        "id": "ASN3ooropigX"
      },
      "source": [
        "### Else Statements"
      ]
    },
    {
      "cell_type": "code",
      "execution_count": null,
      "metadata": {
        "id": "PFNuu-vupigX"
      },
      "outputs": [],
      "source": []
    },
    {
      "attachments": {},
      "cell_type": "markdown",
      "metadata": {
        "id": "Ck0z9vNipigX"
      },
      "source": [
        "### For Loops"
      ]
    },
    {
      "cell_type": "code",
      "execution_count": null,
      "metadata": {
        "id": "d39ZrrARpigX"
      },
      "outputs": [],
      "source": []
    },
    {
      "attachments": {},
      "cell_type": "markdown",
      "metadata": {
        "id": "5S0I8aINpigY"
      },
      "source": [
        "##### Continue Statement"
      ]
    },
    {
      "cell_type": "code",
      "execution_count": null,
      "metadata": {
        "id": "J_kRqgj5pigY"
      },
      "outputs": [],
      "source": []
    },
    {
      "attachments": {},
      "cell_type": "markdown",
      "metadata": {
        "id": "ayhahusHpigY"
      },
      "source": [
        "##### Break Statement"
      ]
    },
    {
      "cell_type": "code",
      "execution_count": null,
      "metadata": {
        "id": "rVZD2dL1pigY"
      },
      "outputs": [],
      "source": []
    },
    {
      "attachments": {},
      "cell_type": "markdown",
      "metadata": {
        "id": "TNq5R0MJpigY"
      },
      "source": [
        "##### Pass Statement"
      ]
    },
    {
      "cell_type": "code",
      "execution_count": null,
      "metadata": {
        "id": "Z8IVvwtdpigY"
      },
      "outputs": [],
      "source": []
    },
    {
      "cell_type": "code",
      "execution_count": null,
      "metadata": {
        "id": "Xax_pgBDpigZ"
      },
      "outputs": [],
      "source": []
    },
    {
      "attachments": {},
      "cell_type": "markdown",
      "metadata": {
        "id": "aiccDYGIpigZ"
      },
      "source": [
        "##### Double For Loops"
      ]
    },
    {
      "cell_type": "code",
      "execution_count": null,
      "metadata": {
        "id": "AfOZQ6CPpigZ"
      },
      "outputs": [],
      "source": []
    },
    {
      "attachments": {},
      "cell_type": "markdown",
      "metadata": {
        "id": "YSJaEYX8pigZ"
      },
      "source": [
        "### While Loops"
      ]
    },
    {
      "cell_type": "code",
      "execution_count": null,
      "metadata": {
        "id": "AanJpMEOpigZ"
      },
      "outputs": [],
      "source": []
    },
    {
      "attachments": {},
      "cell_type": "markdown",
      "metadata": {
        "id": "lKGkgn6npigZ"
      },
      "source": [
        "##### Looping 'While True'"
      ]
    },
    {
      "cell_type": "code",
      "execution_count": null,
      "metadata": {
        "id": "q_7GHK21pigZ"
      },
      "outputs": [],
      "source": []
    },
    {
      "attachments": {},
      "cell_type": "markdown",
      "metadata": {
        "id": "mIR2glbrpigZ"
      },
      "source": [
        "##### While & For Loops Used Together"
      ]
    },
    {
      "cell_type": "code",
      "execution_count": null,
      "metadata": {
        "id": "xVRDp4cspigZ"
      },
      "outputs": [],
      "source": []
    },
    {
      "attachments": {},
      "cell_type": "markdown",
      "metadata": {
        "id": "mdZEfa2ppiga"
      },
      "source": [
        "### Built-In Functions"
      ]
    },
    {
      "attachments": {},
      "cell_type": "markdown",
      "metadata": {
        "id": "TePeW8K4piga"
      },
      "source": [
        "##### range()"
      ]
    },
    {
      "cell_type": "code",
      "execution_count": null,
      "metadata": {
        "id": "ic7Mz-e1piga"
      },
      "outputs": [],
      "source": []
    },
    {
      "attachments": {},
      "cell_type": "markdown",
      "metadata": {
        "id": "A_grIbGIpiga"
      },
      "source": [
        "##### len()"
      ]
    },
    {
      "cell_type": "code",
      "execution_count": null,
      "metadata": {
        "id": "s2CBPduMpiga"
      },
      "outputs": [],
      "source": []
    },
    {
      "attachments": {},
      "cell_type": "markdown",
      "metadata": {
        "id": "dFyB7vgSpiga"
      },
      "source": [
        "##### help()"
      ]
    },
    {
      "cell_type": "code",
      "execution_count": null,
      "metadata": {
        "id": "AEMbQIlCpiga"
      },
      "outputs": [],
      "source": []
    },
    {
      "attachments": {},
      "cell_type": "markdown",
      "metadata": {
        "id": "9OWMPi2cpiga"
      },
      "source": [
        "##### isinstance()"
      ]
    },
    {
      "cell_type": "code",
      "execution_count": null,
      "metadata": {
        "id": "hdt_QRVlpigb"
      },
      "outputs": [],
      "source": []
    },
    {
      "attachments": {},
      "cell_type": "markdown",
      "metadata": {
        "id": "pFWkGjappigb"
      },
      "source": [
        "##### abs()"
      ]
    },
    {
      "cell_type": "code",
      "execution_count": null,
      "metadata": {
        "id": "_--tP9mppigb"
      },
      "outputs": [],
      "source": []
    },
    {
      "cell_type": "code",
      "execution_count": null,
      "metadata": {},
      "outputs": [],
      "source": [
        "\n"
      ]
    },
    {
      "attachments": {},
      "cell_type": "markdown",
      "metadata": {
        "id": "BBW-bZlMpigb"
      },
      "source": [
        "### Try and Except"
      ]
    },
    {
      "cell_type": "code",
      "execution_count": null,
      "metadata": {
        "id": "1D69EKPDpigb"
      },
      "outputs": [],
      "source": []
    },
    {
      "attachments": {},
      "cell_type": "markdown",
      "metadata": {
        "id": "KfNu45y9pigb"
      },
      "source": [
        "### Lists"
      ]
    },
    {
      "attachments": {},
      "cell_type": "markdown",
      "metadata": {
        "id": "_pQYGjf-pigb"
      },
      "source": [
        "##### Declaring Lists"
      ]
    },
    {
      "cell_type": "code",
      "execution_count": null,
      "metadata": {
        "id": "DfaAbDkupigb"
      },
      "outputs": [],
      "source": []
    },
    {
      "attachments": {},
      "cell_type": "markdown",
      "metadata": {
        "id": "FRrW8cwkpigb"
      },
      "source": [
        "##### Indexing a List"
      ]
    },
    {
      "cell_type": "code",
      "execution_count": null,
      "metadata": {
        "id": "G7dNYCC7pigc"
      },
      "outputs": [],
      "source": []
    },
    {
      "attachments": {},
      "cell_type": "markdown",
      "metadata": {
        "id": "t__TV9J3pigc"
      },
      "source": [
        "##### .append()"
      ]
    },
    {
      "cell_type": "code",
      "execution_count": null,
      "metadata": {
        "id": "WYNIdv2ppigc"
      },
      "outputs": [],
      "source": []
    },
    {
      "attachments": {},
      "cell_type": "markdown",
      "metadata": {
        "id": "JqK9rNXipigc"
      },
      "source": [
        "##### .insert()"
      ]
    },
    {
      "cell_type": "code",
      "execution_count": null,
      "metadata": {
        "id": "CUBDbaxHpigc"
      },
      "outputs": [],
      "source": []
    },
    {
      "attachments": {},
      "cell_type": "markdown",
      "metadata": {
        "id": "wrykYThKpigc"
      },
      "source": [
        "##### .pop()"
      ]
    },
    {
      "cell_type": "code",
      "execution_count": null,
      "metadata": {
        "id": "M2vsYThtpigc"
      },
      "outputs": [],
      "source": []
    },
    {
      "attachments": {},
      "cell_type": "markdown",
      "metadata": {
        "id": "f7HSgrpBpigc"
      },
      "source": [
        "\n",
        "##### .remove()"
      ]
    },
    {
      "cell_type": "code",
      "execution_count": null,
      "metadata": {
        "id": "Yy1Fntqfpigc"
      },
      "outputs": [],
      "source": []
    },
    {
      "attachments": {},
      "cell_type": "markdown",
      "metadata": {
        "id": "lQmj8afmpigc"
      },
      "source": [
        "##### del()"
      ]
    },
    {
      "cell_type": "code",
      "execution_count": null,
      "metadata": {
        "id": "bNzO04zgpigd"
      },
      "outputs": [],
      "source": []
    },
    {
      "attachments": {},
      "cell_type": "markdown",
      "metadata": {
        "id": "gBmrIDmEpigd"
      },
      "source": [
        "##### Concatenating Two Lists"
      ]
    },
    {
      "cell_type": "code",
      "execution_count": null,
      "metadata": {
        "id": "EhY6ViTgpigd"
      },
      "outputs": [],
      "source": []
    },
    {
      "attachments": {},
      "cell_type": "markdown",
      "metadata": {
        "id": "qFFI7yWvpigd"
      },
      "source": [
        "##### Lists Within Lists"
      ]
    },
    {
      "cell_type": "code",
      "execution_count": null,
      "metadata": {
        "id": "kEdQnK2dpigd"
      },
      "outputs": [],
      "source": []
    },
    {
      "attachments": {},
      "cell_type": "markdown",
      "metadata": {
        "id": "WtbhHB8Dpigd"
      },
      "source": [
        "##### Looping Through Lists"
      ]
    },
    {
      "cell_type": "code",
      "execution_count": null,
      "metadata": {
        "id": "l-8Lv_6ipigd"
      },
      "outputs": [],
      "source": []
    },
    {
      "cell_type": "code",
      "execution_count": null,
      "metadata": {},
      "outputs": [],
      "source": []
    },
    {
      "cell_type": "code",
      "execution_count": null,
      "metadata": {},
      "outputs": [],
      "source": [
        "\n"
      ]
    },
    {
      "cell_type": "code",
      "execution_count": null,
      "metadata": {},
      "outputs": [],
      "source": []
    }
  ],
  "metadata": {
    "colab": {
      "provenance": []
    },
    "kernelspec": {
      "display_name": "Python 3",
      "language": "python",
      "name": "python3"
    },
    "language_info": {
      "codemirror_mode": {
        "name": "ipython",
        "version": 3
      },
      "file_extension": ".py",
      "mimetype": "text/x-python",
      "name": "python",
      "nbconvert_exporter": "python",
      "pygments_lexer": "ipython3",
      "version": "3.10.0"
    },
    "vscode": {
      "interpreter": {
        "hash": "26de051ba29f2982a8de78e945f0abaf191376122a1563185a90213a26c5da77"
      }
    }
  },
  "nbformat": 4,
  "nbformat_minor": 0
}
