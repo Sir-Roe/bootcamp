{
 "cells": [
  {
   "attachments": {},
   "cell_type": "markdown",
   "metadata": {},
   "source": [
    "# Coding Temple's Data Analytics Program\n",
    "---\n",
    "## Python Basics Assignment 4\n",
    "---"
   ]
  },
  {
   "attachments": {},
   "cell_type": "markdown",
   "metadata": {},
   "source": [
    "### **Task 1: Update Shopping Cart**\n",
    "Using the shopping cart you created yesterday as a blueprint, create a shopping cart using object-oriented programming. This shopping cart should maintain all functionality that you currently have in your blueprint."
   ]
  },
  {
   "cell_type": "code",
   "execution_count": 162,
   "metadata": {},
   "outputs": [
    {
     "name": "stdout",
     "output_type": "stream",
     "text": [
      "QTY MUST be a Positive Integer\n",
      "\n",
      "\n",
      "-------Cart---------\n",
      "('Cat Litter 4lb', 1)\n",
      "('Aeron Chair Replacement Piston', 2)\n",
      "('Whole Grain Oats 2qts', 1)\n",
      "('Metropolitan Coffee 1lb bag', 3)\n",
      "\n",
      "-------------\n",
      "Item not Found! Please view your cart!\n",
      "\n",
      "\n",
      "-------Cart---------\n",
      "('Aeron Chair Replacement Piston', 2)\n",
      "('Whole Grain Oats 2qts', 1)\n",
      "('Metropolitan Coffee 1lb bag', 3)\n",
      "\n",
      "\n",
      "-------Checkout!---------\n",
      "|---Aeron Chair Replacement Piston qty: 2\n",
      "|---Whole Grain Oats 2qts qty: 1\n",
      "|---Metropolitan Coffee 1lb bag qty: 3\n"
     ]
    },
    {
     "data": {
      "text/plain": [
       "'6 total Items Purchased!'"
      ]
     },
     "execution_count": 162,
     "metadata": {},
     "output_type": "execute_result"
    }
   ],
   "source": [
    "from IPython.display import clear_output\n",
    "'''\n",
    "This digital shopping cart will have only items and their qty's placed inside\n",
    "\n",
    "Attributes for this class:\n",
    "    -items: the items and its qty are placed as list \n",
    "\n",
    "Methods for this Class:\n",
    "    -Initialize, just asks for the name of the cart (I use amazon for my example)\n",
    "    -add_to_cart: add item and its qty to the cart\n",
    "    -remove_from_cart: remove item and its qty to the cart\n",
    "    -clear_cart: empty's the cart\n",
    "    -view_cart: see the cart\n",
    "    -checkout: prints the existing cart and totals the qty ordered\n",
    "    \n",
    "\n",
    "'''\n",
    "# YOUR CODE HERE\n",
    "class DigitalShoppingCart:\n",
    "    def __init__(self):\n",
    "        self.items = []\n",
    "\n",
    "    def add_to_cart(self, item_name:str, qty:int):\n",
    "        'tries to add items only if qty is a positve int'\n",
    "        try:\n",
    "            if int(qty)>0:\n",
    "                item = (item_name, qty)\n",
    "                self.items.append(item)\n",
    "            else:\n",
    "                print(\"QTY MUST be a Positive Integer\")\n",
    "        except:\n",
    "            print(\"QTY MUST be a Positive Integer\")\n",
    "\n",
    "    def remove_from_cart(self, item_name):\n",
    "        'removes item if found, otherwise informs user to check cart '\n",
    "        if item_name not in [item[0] for item in self.items]:\n",
    "            print(\"\\n-------------\\nItem not Found! Please view your cart!\")\n",
    "        for item in self.items:\n",
    "            if item[0] == item_name:\n",
    "                self.items.remove(item)\n",
    "                self.view_cart()\n",
    "                break\n",
    "         \n",
    "    def clear_cart(self):      \n",
    "        'emptys the cart'  \n",
    "        self.items.clear()\n",
    "    \n",
    "    def view_cart(self):\n",
    "        'quick check of the cart'\n",
    "        print('\\n\\n-------Cart---------')\n",
    "        for items in self.items:\n",
    "            print(items)\n",
    "        \n",
    "    def checkout(self):\n",
    "        'closes out the cart and prints out items ordered and the total qty'\n",
    "        print('\\n\\n-------Checkout!---------')\n",
    "        for items in self.items:\n",
    "            print('|---' + str(items[0]) +' qty: ' + str(items[1]))\n",
    "        return str(sum([qty[1] for qty in self.items])) + ' total Items Purchased!'  \n",
    "        \n",
    "\n",
    "#TEST DATA FOR OBJECT\n",
    "clear_output()\n",
    "amazon_cart = DigitalShoppingCart()\n",
    "amazon_cart.add_to_cart('Cat Litter 4lb',1)\n",
    "amazon_cart.add_to_cart('Aeron Chair Replacement Piston','cheese')\n",
    "amazon_cart.add_to_cart('Aeron Chair Replacement Piston',2)\n",
    "amazon_cart.add_to_cart('Whole Grain Oats 2qts',1)\n",
    "amazon_cart.add_to_cart('Metropolitan Coffee 1lb bag', 3)\n",
    "amazon_cart.view_cart()\n",
    "amazon_cart.remove_from_cart('Cat Ltter 4lb')\n",
    "amazon_cart.remove_from_cart('Cat Litter 4lb')\n",
    "amazon_cart.checkout()\n",
    "\n"
   ]
  },
  {
   "attachments": {},
   "cell_type": "markdown",
   "metadata": {},
   "source": [
    "### **Task 2: String Class**\n",
    "Write a class which has the following two methods:\n",
    "* `get_string`: Accepts a string input from the user\n",
    "* `print_string`: Prints the string all in upper-case"
   ]
  },
  {
   "cell_type": "code",
   "execution_count": 86,
   "metadata": {},
   "outputs": [
    {
     "name": "stdout",
     "output_type": "stream",
     "text": [
      "BIG STEAKS\n",
      "CHEDDA\n"
     ]
    }
   ],
   "source": [
    "# YOUR CODE HERE\n",
    "class TxtBoxer():\n",
    "    def __init__(self) -> None:\n",
    "        self.txt =''\n",
    "    \n",
    "    def get_string(self):\n",
    "    #decided on input box because wanted to do something different than just passing the string\n",
    "        self.txt= str(input('input a string'))\n",
    "\n",
    "    def print_string(self):\n",
    "    #print txt to upper\n",
    "        print(self.txt.upper())\n",
    "\n",
    "    def string_pass(self,str1):\n",
    "    #different string method\n",
    "        self.txt = str(str1)\n",
    "\n",
    "mytext = TxtBoxer()\n",
    "\n",
    "mytext.get_string()\n",
    "mytext.print_string()\n",
    "mytext.string_pass('chedda')\n",
    "mytext.print_string()"
   ]
  },
  {
   "attachments": {},
   "cell_type": "markdown",
   "metadata": {},
   "source": [
    "### **Task 3: Activities**\n",
    "Create a class that depicts your favorite activity. Add in attributes that are associated with that activity in you `__init__` call. Also, create three functions that are associated with the activity.\n",
    "\n",
    "**Example:**\n",
    "If I chose football, I may have a FootballPlayer class with attributes such as:\n",
    "* `self.speed`\n",
    "* `self.strength`\n",
    "* `self.position`\n",
    "\n",
    "and methods such as:\n",
    "* `def pass_ball`\n",
    "* `def run`\n",
    "* `def faster_than_x`"
   ]
  },
  {
   "cell_type": "code",
   "execution_count": 158,
   "metadata": {},
   "outputs": [],
   "source": [
    "class character():\n",
    "    #listed these Attributes , generally to create a list of the static possible stats allocations of a character\n",
    "    #likely in this example  it wouldn't be needed but wanted practice calling variables from within the class\n",
    "    Attributes= ['constitution','intelligence','wisdom','strength','dexterity']\n",
    "    def __init__(self) -> None:\n",
    "        self.constitution = 10\n",
    "        self.intelligence = 10\n",
    "        self.wisdom = 10\n",
    "        self.strength = 10\n",
    "        self.dexterity= 10\n",
    "        self.hpmax = self.constitution*5\n",
    "        self.hp = self.hpmax\n",
    "        self.fpmax = self.intelligence*2.5\n",
    "        self.fp = self.fpmax\n",
    "        self.level = 5\n",
    "        self.experience = 0\n",
    "        self.items =[]\n",
    "    \n",
    "    def take_damage(self,dmg:int):\n",
    "    #take damage, see if you die?   \n",
    "        self.hp -= int(dmg)\n",
    "        print(f'You have taken {dmg} points of damage, you have {self.hp} health remaining!')\n",
    "        if self.hp < 1:\n",
    "            print('You Have Been Slain!')\n",
    "        \n",
    "            \n",
    "\n",
    "    def heal(self,heal:int):\n",
    "        #be healed, no overhealing allowed.\n",
    "        self.hp += int(heal)\n",
    "        if self.hp > self.hpmax:\n",
    "            self.hp = self.hpmax\n",
    "        print(f'You have been healed for {heal} points, you have {self.hp} healh remaining')\n",
    "            \n",
    "       \n",
    "    \n",
    "    def gain_exp(self,exp:int):\n",
    "        #level up if you gain too much exp\n",
    "        #one thing I would change is maybe a while loop to level up UNTIL all excess exp is spent if you had somehow gained that much exp but \n",
    "        #not necessary since I would not have mobs grant so much exp for multi level anyways.\n",
    "        self.experience += int(exp)\n",
    "        print(f'You have gained {[exp]} experience points!')\n",
    "        if self.experience> (self.level *1.15*10):\n",
    "            self.level_up()\n",
    "        \n",
    "    \n",
    "    def level_up(self):\n",
    "        print(f'You have leveled up to level {(self.level + 1)}')\n",
    "        while True:\n",
    "            spend= input(f'enter the stat name you want to increase by 1 from :{self.Attributes}') \n",
    "            if spend in self.Attributes:\n",
    "                setattr(self,spend,(getattr(self,spend) +1)) \n",
    "                print(f'Your {spend} is now at: {getattr(self,spend)}')\n",
    "                #common video game practice to restore all resources when you level (could be a sep function like rest function\n",
    "                # but will save for a future game project?)\n",
    "                self.hpmax = self.constitution*5\n",
    "                self.fpmax = self.intelligence*2.5\n",
    "                self.hp = self.hpmax\n",
    "                self.fp = self.fpmax\n",
    "\n",
    "                #subtract exp spent\n",
    "                self.experience -= (self.level*1.15*10)\n",
    "                print(f'You have spent {(self.level*1.15*10)} experience points!')\n",
    "                #increase overall level after calcs\n",
    "                self.level += 1\n",
    "                break\n"
   ]
  },
  {
   "attachments": {},
   "cell_type": "markdown",
   "metadata": {},
   "source": [
    "### **Task 4: Test Your Class!**\n",
    "Now that you created your class, let's create an instance of your class. In the cell below, instantiate a Class Object, then test each of your class methods on that object."
   ]
  },
  {
   "cell_type": "code",
   "execution_count": 161,
   "metadata": {},
   "outputs": [
    {
     "name": "stdout",
     "output_type": "stream",
     "text": [
      "You have taken 36 points of damage, you have 14 health remaining!\n",
      "You have been healed for 25 points, you have 39 healh remaining\n",
      "You have been healed for 25 points, you have 50 healh remaining\n",
      "You have taken 45 points of damage, you have 5 health remaining!\n",
      "You have gained [65] experience points!\n",
      "You have leveled up to level 6\n",
      "Your constitution is now at: 11\n",
      "You have spent 57.5 experience points!\n",
      "You have taken 200 points of damage, you have -145 health remaining!\n",
      "You Have Been Slain!\n"
     ]
    }
   ],
   "source": [
    "knight = character()\n",
    "knight.take_damage(36)\n",
    "knight.heal(25)\n",
    "knight.heal(25)\n",
    "knight.take_damage(45)\n",
    "#enemy dies knight gains exp\n",
    "knight.gain_exp(65)\n",
    "#it was a enough to level\n",
    "#the knight is ambushed by a fierce dragon\n",
    "knight.take_damage(200)\n"
   ]
  }
 ],
 "metadata": {
  "kernelspec": {
   "display_name": "Python 3",
   "language": "python",
   "name": "python3"
  },
  "language_info": {
   "codemirror_mode": {
    "name": "ipython",
    "version": 3
   },
   "file_extension": ".py",
   "mimetype": "text/x-python",
   "name": "python",
   "nbconvert_exporter": "python",
   "pygments_lexer": "ipython3",
   "version": "3.10.0"
  },
  "orig_nbformat": 4,
  "vscode": {
   "interpreter": {
    "hash": "26de051ba29f2982a8de78e945f0abaf191376122a1563185a90213a26c5da77"
   }
  }
 },
 "nbformat": 4,
 "nbformat_minor": 2
}
