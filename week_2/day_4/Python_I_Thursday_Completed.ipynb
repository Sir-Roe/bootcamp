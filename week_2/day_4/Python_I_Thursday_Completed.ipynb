{
  "cells": [
    {
      "attachments": {},
      "cell_type": "markdown",
      "metadata": {
        "id": "4cW5wCk-FSwj"
      },
      "source": [
        "# Coding Temple's Data Analytics Course\n",
        "---\n",
        "## Python I: Object-Oriented-Programming (OOP)\n",
        "---"
      ]
    },
    {
      "attachments": {},
      "cell_type": "markdown",
      "metadata": {
        "id": "Vv6UjBaqFSwm"
      },
      "source": [
        "## Tasks Today:\n",
        "\n",
        "   \n",
        "\n",
        "1) <b>Creating a Class (Initializing/Declaring)</b> <br>\n",
        "2) <b>Using a Class (Instantiating)</b> <br>\n",
        " &nbsp;&nbsp;&nbsp;&nbsp; a) Creating One Instance <br>\n",
        " &nbsp;&nbsp;&nbsp;&nbsp; b) Creating Multiple Instances <br>\n",
        " &nbsp;&nbsp;&nbsp;&nbsp; c) In-Class Exercise #1 - Create a Class 'Car' and instantiate three different makes of cars <br>\n",
        "3) <b>The \\__init\\__() Method</b> <br>\n",
        " &nbsp;&nbsp;&nbsp;&nbsp; a) The 'self' Attribute <br>\n",
        "4) <b>Class Attributes</b> <br>\n",
        " &nbsp;&nbsp;&nbsp;&nbsp; a) Initializing Attributes <br>\n",
        " &nbsp;&nbsp;&nbsp;&nbsp; b) Setting an Attribute Outside of the \\__init\\__() Method <br>\n",
        " &nbsp;&nbsp;&nbsp;&nbsp; c) Setting Defaults for Attributes <br>\n",
        " &nbsp;&nbsp;&nbsp;&nbsp; d) Accessing Class Attributes <br>\n",
        " &nbsp;&nbsp;&nbsp;&nbsp; e) Changing Class Attributes <br>\n",
        " &nbsp;&nbsp;&nbsp;&nbsp; f) In-Class Exercise #2 - Add a color and wheels attribute to your 'Car' class <br>\n",
        "5) <b>Class Methods</b> <br>\n",
        " &nbsp;&nbsp;&nbsp;&nbsp; a) Creating <br>\n",
        " &nbsp;&nbsp;&nbsp;&nbsp; b) Calling <br>\n",
        " &nbsp;&nbsp;&nbsp;&nbsp; c) Modifying an Attribute's Value Through a Method <br>\n",
        " &nbsp;&nbsp;&nbsp;&nbsp; d) Incrementing an Attribute's Value Through a Method <br>\n",
        " &nbsp;&nbsp;&nbsp;&nbsp; e) In-Class Exercise #3 - Add a method that prints the cars color and wheel number, then call them <br>"
      ]
    },
    {
      "attachments": {},
      "cell_type": "markdown",
      "metadata": {
        "id": "jtjN0a_DFSwn"
      },
      "source": [
        "## Creating a Class (Initializing/Declaring)\n",
        "<p>When creating a class, function, or even a variable you are initializing that object. Initializing and Declaring occur at the same time in Python, whereas in lower level languages you have to declare an object before initializing it. This is the first step in the process of using a class.</p>"
      ]
    },
    {
      "cell_type": "code",
      "execution_count": 1,
      "metadata": {
        "id": "CRsXsk2uFSwn"
      },
      "outputs": [],
      "source": [
        "class Car():\n",
        "    wheels = 4\n",
        "    color = 'blue'"
      ]
    },
    {
      "attachments": {},
      "cell_type": "markdown",
      "metadata": {
        "id": "CHZCbYxLFSwo"
      },
      "source": [
        "## Using a Class (Instantiating)\n",
        "<p>The process of creating a class is called <i>Instantiating</i>. Each time you create a variable of that type of class, it is referred to as an <i>Instance</i> of that class. This is the second step in the process of using a class.</p>"
      ]
    },
    {
      "attachments": {},
      "cell_type": "markdown",
      "metadata": {
        "id": "rs7CEdlNFSwp"
      },
      "source": [
        "##### Creating One Instance"
      ]
    },
    {
      "cell_type": "code",
      "execution_count": 2,
      "metadata": {
        "id": "xg6N_Lm8FSwp",
        "outputId": "942c295e-3ca4-4880-f2ec-69c6aa455191"
      },
      "outputs": [
        {
          "name": "stdout",
          "output_type": "stream",
          "text": [
            "blue\n"
          ]
        }
      ],
      "source": [
        "ford = Car()\n",
        "\n",
        "print(ford.color)"
      ]
    },
    {
      "attachments": {},
      "cell_type": "markdown",
      "metadata": {
        "id": "mDDiUUFIFSwq"
      },
      "source": [
        "##### Creating Multiple Instances"
      ]
    },
    {
      "cell_type": "code",
      "execution_count": 3,
      "metadata": {
        "id": "cGZDQ-IjFSwq",
        "outputId": "c6cac77b-d335-4478-ca12-101e0aa53b50"
      },
      "outputs": [
        {
          "name": "stdout",
          "output_type": "stream",
          "text": [
            "<class 'str'>\n"
          ]
        },
        {
          "ename": "AttributeError",
          "evalue": "'Car' object has no attribute 'bumper'",
          "output_type": "error",
          "traceback": [
            "\u001b[1;31m---------------------------------------------------------------------------\u001b[0m",
            "\u001b[1;31mAttributeError\u001b[0m                            Traceback (most recent call last)",
            "Cell \u001b[1;32mIn[3], line 6\u001b[0m\n\u001b[0;32m      3\u001b[0m porsche \u001b[39m=\u001b[39m Car()\n\u001b[0;32m      5\u001b[0m \u001b[39mprint\u001b[39m(\u001b[39mtype\u001b[39m(porsche\u001b[39m.\u001b[39mcolor))\n\u001b[1;32m----> 6\u001b[0m \u001b[39mprint\u001b[39m(porsche\u001b[39m.\u001b[39;49mbumper)\n",
            "\u001b[1;31mAttributeError\u001b[0m: 'Car' object has no attribute 'bumper'"
          ]
        }
      ],
      "source": [
        "chevy = Car()\n",
        "honda = Car()\n",
        "porsche = Car()\n",
        "\n",
        "print(type(porsche.color))\n",
        "print(porsche.bumper)"
      ]
    },
    {
      "attachments": {},
      "cell_type": "markdown",
      "metadata": {
        "id": "r8DhdYheFSwq"
      },
      "source": [
        "##### In-Class Exercise #1 - Create a Class 'Car' and Instantiate three different makes of cars"
      ]
    },
    {
      "cell_type": "code",
      "execution_count": 4,
      "metadata": {
        "id": "wQTudohYFSwr",
        "outputId": "5675fd00-604e-44f6-8c94-5bd2fdcbfc55"
      },
      "outputs": [
        {
          "name": "stdout",
          "output_type": "stream",
          "text": [
            "red\n",
            "4\n"
          ]
        }
      ],
      "source": [
        "class Car():\n",
        "    doors = 4\n",
        "    color = \"green\"\n",
        "    wheels = 4\n",
        "    trunk = \"hatchback\"\n",
        "    \n",
        "    def __init__(self,brand,model,color,fuel):\n",
        "                  self.brand=brand\n",
        "                  self.model=model\n",
        "                  self.color=color\n",
        "                  self.fuel=fuel\n",
        "    def start(self):\n",
        "                  pass\n",
        "    def halt(self):\n",
        "                  pass\n",
        "    def drift(self):\n",
        "                  pass\n",
        "    def speedup(self):\n",
        "                  pass\n",
        "    def turn(self):\n",
        "                  pass\n",
        "\n",
        "    \n",
        "merc = Car()\n",
        "bmw = Car()\n",
        "audi = Car()\n",
        "\n",
        "print(audi.color)\n",
        "print(bmw.wheels)\n",
        "print(merc.trunk)\n"
      ]
    },
    {
      "attachments": {},
      "cell_type": "markdown",
      "metadata": {
        "id": "10xR5zylFSwr"
      },
      "source": [
        "## The \\__init\\__() Method <br>\n",
        "<p>This method is used in almost every created class, and called only once upon the creation of the class instance. This method will initialize all variables needed for the object.</p>"
      ]
    },
    {
      "cell_type": "code",
      "execution_count": 11,
      "metadata": {
        "id": "MSHlAzN6FSwr",
        "outputId": "e9517628-6fbe-4483-d2b3-9a6531c304d5"
      },
      "outputs": [
        {
          "name": "stdout",
          "output_type": "stream",
          "text": [
            "4\n",
            "6\n"
          ]
        }
      ],
      "source": [
        "class Car():\n",
        "    engine = '4.7L' # constant-attribute\n",
        "    \n",
        "    def __init__(self,wheels,color):\n",
        "        self.wheels = wheels\n",
        "        self.color = color\n",
        "        \n",
        "ford = Car(4,'red')\n",
        "chevy = Car(6, 'black')\n",
        "merc = Car(8,'blue')\n",
        "\n",
        "print(ford.wheels)\n",
        "print(chevy.wheels)"
      ]
    },
    {
      "attachments": {},
      "cell_type": "markdown",
      "metadata": {
        "id": "Ac15BS0EFSwr"
      },
      "source": [
        "##### The 'self' Attribute <br>\n",
        "<p>This attribute is required to keep track of specific instance's attributes. Without the self attribute, the program would not know how to reference or keep track of an instance's attributes.</p>"
      ]
    },
    {
      "cell_type": "code",
      "execution_count": null,
      "metadata": {
        "id": "1B_lboQvFSws"
      },
      "outputs": [],
      "source": [
        "# see above"
      ]
    },
    {
      "attachments": {},
      "cell_type": "markdown",
      "metadata": {
        "id": "AmQNhbcrFSws"
      },
      "source": [
        "## Class Attributes <br>\n",
        "<p>While variables are inside of a class, they are referred to as attributes and not variables. When someone says 'attribute' you know they're speaking about a class. Attributes can be initialized through the init method, or outside of it.</p>"
      ]
    },
    {
      "attachments": {},
      "cell_type": "markdown",
      "metadata": {
        "id": "hVMd6z_fFSws"
      },
      "source": [
        "##### Initializing Attributes"
      ]
    },
    {
      "cell_type": "code",
      "execution_count": 6,
      "metadata": {
        "id": "uD-pxyE4FSws"
      },
      "outputs": [],
      "source": [
        "# see above\n",
        "\n",
        "class Toy():\n",
        "    kind = \"car\" # Constant - DOES NOT CHANGE FREQUENTLY\n",
        "    \n",
        "    def __init__(self,rooftop,horn,wheels):\n",
        "        self.rooftop = rooftop\n",
        "        self.horn = horn\n",
        "        self.wheels = wheels\n",
        "        \n",
        "tanka_truck = Toy(1,1,4) # 1 rooftop, 1 horn, 4 wheels\n",
        "hotwheels_car = Toy(2, 3, 8) # 2 rooftops, 3 horns, 8 wheels"
      ]
    },
    {
      "attachments": {},
      "cell_type": "markdown",
      "metadata": {
        "id": "QeuZrubqFSws"
      },
      "source": [
        "##### Accessing Class Attributes"
      ]
    },
    {
      "cell_type": "code",
      "execution_count": 7,
      "metadata": {
        "id": "sLUhqsWqFSwt",
        "outputId": "03652ced-93f5-41ba-bcb4-6f21f3a4b88e",
        "scrolled": true
      },
      "outputs": [
        {
          "data": {
            "text/plain": [
              "1"
            ]
          },
          "execution_count": 7,
          "metadata": {},
          "output_type": "execute_result"
        }
      ],
      "source": [
        "# See Above\n",
        "tanka_truck.rooftop"
      ]
    },
    {
      "attachments": {},
      "cell_type": "markdown",
      "metadata": {
        "id": "JtIK0_jxFSwt"
      },
      "source": [
        "##### Setting Defaults for Attributes"
      ]
    },
    {
      "cell_type": "code",
      "execution_count": null,
      "metadata": {
        "id": "WNVwBKkNFSwt"
      },
      "outputs": [],
      "source": [
        "class Car():\n",
        "    engine = '4.7L'\n",
        "    \n",
        "    def __init__(self,wheels):\n",
        "        self.wheels = wheels\n",
        "        self.color = 'Blue' # Default Attribute\n",
        "        \n",
        "honda = Car(4)\n",
        "jeep = Car(8)"
      ]
    },
    {
      "attachments": {},
      "cell_type": "markdown",
      "metadata": {
        "id": "qZFV3xUXFSwt"
      },
      "source": [
        "##### Changing Class Attributes <br>\n",
        "<p>Keep in mind there are global class attributes and then there are attributes only available to each class instance which won't effect other classes.</p>"
      ]
    },
    {
      "cell_type": "code",
      "execution_count": null,
      "metadata": {
        "id": "lIesneFvFSwv",
        "outputId": "31975dca-e431-439a-8430-a426a7a0d658"
      },
      "outputs": [
        {
          "name": "stdout",
          "output_type": "stream",
          "text": [
            "BEFORE CHANGE: White\n",
            "\n",
            " AFTER CHANGE: White\n"
          ]
        }
      ],
      "source": [
        "# Changing the Default Attribute for this example\n",
        "print(f'BEFORE CHANGE: {jeep.color}')\n",
        "\n",
        "jeep.color = 'White'\n",
        "\n",
        "print(f'\\n AFTER CHANGE: {jeep.color}')\n"
      ]
    },
    {
      "attachments": {},
      "cell_type": "markdown",
      "metadata": {
        "id": "SQW-pdB6FSwv"
      },
      "source": [
        "##### In-Class Exercise #2 - Add a doors and seats attribute to your 'Car' class then print out two different instances with different doors and seats"
      ]
    },
    {
      "cell_type": "code",
      "execution_count": 12,
      "metadata": {
        "id": "NK-8N8XWFSwv",
        "outputId": "e5191cd7-fb40-4787-8c84-dc6164ab8ffb"
      },
      "outputs": [
        {
          "name": "stdout",
          "output_type": "stream",
          "text": [
            "Jeep seats: 4 and Jeep doors: 4 \n",
            "Honda seats: 2 and Honda doors: 2\n"
          ]
        }
      ],
      "source": [
        "# Jeep seats: 4 and Jeep doors: 4 \n",
        "# Honda seats: 2 and Honda doors: 2\n",
        "\n",
        "class Car():\n",
        "    speed = \"30MPH\"\n",
        "    \n",
        "    def __init__(self,doors,seats = 4):\n",
        "        self.doors = doors\n",
        "        self.seats = seats\n",
        "    \n",
        "        \n",
        "honda = Car(2,2)\n",
        "jeep = Car(4,4)\n",
        "\n",
        "print(f\"Jeep seats: {jeep.seats} and Jeep doors: {jeep.doors} \")\n",
        "print(f\"Honda seats: {honda.seats} and Honda doors: {honda.doors}\")"
      ]
    },
    {
      "attachments": {},
      "cell_type": "markdown",
      "metadata": {
        "id": "7SmPwI7oFSwv"
      },
      "source": [
        "## Class Methods <br>\n",
        "<p>While inside of a class, functions are referred to as 'methods'. If you hear someone mention methods, they're speaking about classes. Methods are essentially functions, but only callable on the instances of a class.</p>"
      ]
    },
    {
      "attachments": {},
      "cell_type": "markdown",
      "metadata": {
        "id": "wbRN8YuUFSwv"
      },
      "source": [
        "##### Creating"
      ]
    },
    {
      "cell_type": "code",
      "execution_count": null,
      "metadata": {
        "id": "LG8kbs1oFSwv"
      },
      "outputs": [],
      "source": [
        "class ShoppingBag():\n",
        "    \"\"\"\n",
        "        The ShoppingBag Class will have handles, capacity and items\n",
        "        to place inside.\n",
        "        \n",
        "        Attributes for the class:\n",
        "        - handles: expected to be an integer\n",
        "        - capacity: expected to be a string OR an integer\n",
        "        - items: expected to be a list\n",
        "    \"\"\"\n",
        "    \n",
        "    def __init__(self,handles,capacity,items):\n",
        "        self.handles = handles\n",
        "        self.capacity = capacity\n",
        "        self.items = items\n",
        "        \n",
        "    # Method that shows the shoppingBag items\n",
        "    def showShoppingBag(self):\n",
        "        print(\"You Have items in your bag!!!\")\n",
        "        for item in self.items:\n",
        "            print(item)\n",
        "    \n",
        "    # Show capacity of shoppingBag\n",
        "    def showCapacity(self):\n",
        "        print(f'Your Capacity is: {self.capacity}')\n",
        "        \n",
        "    # Add Item(s) to the items list for the shoppingBag\n",
        "    def addToShoppingBag(self):\n",
        "        products = input('What would you like to add? ')\n",
        "        self.items.append(products)\n",
        "        \n",
        "    # Change the capacity of the shoppingBag (dynamically)\n",
        "    def changeBagCapacity(self, capacity):\n",
        "        self.capacity = capacity\n",
        "        \n",
        "    # Increase Capacity of the shoppingBag by 10 -- default\n",
        "    def increaseCapacity(self, changed_capacity = 10):\n",
        "        if self.capacity == isinstance(self.capacity, str):\n",
        "            print(\"We can't do that here boss...\")\n",
        "        else:\n",
        "            self.capacity += changed_capacity"
      ]
    },
    {
      "attachments": {},
      "cell_type": "markdown",
      "metadata": {
        "id": "caVz4owCFSww"
      },
      "source": [
        "##### Calling"
      ]
    },
    {
      "cell_type": "code",
      "execution_count": null,
      "metadata": {
        "id": "2m2HabXMFSww",
        "outputId": "d733d0a9-a676-4f9d-bb12-d1c317710416"
      },
      "outputs": [
        {
          "name": "stdout",
          "output_type": "stream",
          "text": [
            "What do you want to do? add/show/ or quitadd\n",
            "What would you like to add? bread\n",
            "What do you want to do? add/show/ or quitshow\n",
            "You Have items in your bag!!!\n",
            "bread\n",
            "What do you want to do? add/show/ or quitquit\n",
            "You Have items in your bag!!!\n",
            "bread\n",
            "Thanks for shopping\n"
          ]
        }
      ],
      "source": [
        "# See Above\n",
        "# Created and instance of the ShoppingBag Class\n",
        "wholeFoods_bag = ShoppingBag(2,10,[])\n",
        "\n",
        "# Create Function to run the shoppingBag(wholeFoods_bag) methods\n",
        "\n",
        "def run():\n",
        "    while True:\n",
        "        response = input('What do you want to do? add/show/ or quit')\n",
        "        \n",
        "        if response.lower() == 'quit':\n",
        "            wholeFoods_bag.showShoppingBag()\n",
        "            print('Thanks for shopping')\n",
        "            break\n",
        "        elif response.lower() == 'add':\n",
        "            wholeFoods_bag.addToShoppingBag()\n",
        "            \n",
        "        elif response.lower() == 'show':\n",
        "            wholeFoods_bag.showShoppingBag()\n",
        "            \n",
        "run()"
      ]
    },
    {
      "attachments": {},
      "cell_type": "markdown",
      "metadata": {
        "id": "4dEdW1AcFSww"
      },
      "source": [
        "##### Modifying an Attribute's Value Through a Method"
      ]
    },
    {
      "cell_type": "code",
      "execution_count": null,
      "metadata": {
        "id": "mhjfz7uyFSww",
        "outputId": "6b72c587-4754-4b7a-8e09-892305904c0f"
      },
      "outputs": [
        {
          "name": "stdout",
          "output_type": "stream",
          "text": [
            "Your Capacity is: 10\n",
            "Capacity AFTER the change...\n",
            "Your Capacity is: 40\n"
          ]
        }
      ],
      "source": [
        "# Show Capacity\n",
        "wholeFoods_bag.showCapacity()\n",
        "print('Capacity AFTER the change...')\n",
        "wholeFoods_bag.changeBagCapacity(40)\n",
        "wholeFoods_bag.showCapacity()"
      ]
    },
    {
      "attachments": {},
      "cell_type": "markdown",
      "metadata": {
        "id": "2QNONL0wFSwx"
      },
      "source": [
        "##### Incrementing an Attribute's Value Through a Method"
      ]
    },
    {
      "cell_type": "code",
      "execution_count": null,
      "metadata": {
        "id": "8LVU1lF_FSwx",
        "outputId": "2b40d4d7-6670-41bb-f8ff-28d995f9d81b"
      },
      "outputs": [
        {
          "name": "stdout",
          "output_type": "stream",
          "text": [
            "Your Capacity is: 40\n",
            "After Increase\n",
            "Your Capacity is: 50\n"
          ]
        }
      ],
      "source": [
        "wholeFoods_bag.showCapacity()\n",
        "print('After Increase')\n",
        "wholeFoods_bag.increaseCapacity()\n",
        "wholeFoods_bag.showCapacity()"
      ]
    },
    {
      "attachments": {},
      "cell_type": "markdown",
      "metadata": {
        "id": "syZRA78VFSwx"
      },
      "source": [
        "##### In-Class Exercise #3 - Add a method that takes in three parameters of year, doors and seats and prints out a formatted print statement with make, model, year, seats, and doors"
      ]
    },
    {
      "cell_type": "code",
      "execution_count": 13,
      "metadata": {
        "id": "AIrywo0HFSwx",
        "outputId": "ad9b2c36-faf9-4eab-e959-11e4feeaf984"
      },
      "outputs": [
        {
          "name": "stdout",
          "output_type": "stream",
          "text": [
            "This car is a 2015 Ford Focus with 5 doors and 4 seats\n",
            "this car has been updated with a Spoiler status= True,rims=Stock Rims,lightkit = Green Underglow LED\n"
          ]
        }
      ],
      "source": [
        "# Create class with 2 paramters inside of the __init__ which are make and model\n",
        "\n",
        "# Inside of the Car class create a method that has 4 parameter in total (self,year,door,seats)\n",
        "\n",
        "# Output: This car is from 2019 and is a Ford Expolorer and has 4 doors and 5 seats\n",
        "class Car():\n",
        "    def __init__(self,make,model):\n",
        "        self.make = make\n",
        "        self.model = model\n",
        "        \n",
        "    \n",
        "    def addDetails(self,year,doors,seats):\n",
        "        print(f'This car is a {year} {self.make} {self.model} with {doors} doors and {seats} seats')\n",
        "    def addExtras(self,spoiler:bool,rims:str,Lightkit: str):\n",
        "        print(f'this car has been updated with a Spoiler status= {spoiler},rims={rims},lightkit = {Lightkit}')\n",
        "        \n",
        "#     def addDetails(self,year,doors,seats):\n",
        "#         self.year = year\n",
        "#         self.doors = doors\n",
        "#         self.seats = seats\n",
        "#         print(f\"This car is a {self.year} {self.make} {self.model} with {self.doors} doors and {self.seats} seats.\")\n",
        "\n",
        "    \n",
        "        \n",
        "my_car = Car('Ford','Focus')\n",
        "my_car.addDetails(2015,5,4)\n",
        "my_car.addExtras(True,'Stock Rims','Green Underglow LED')\n"
      ]
    },
    {
      "attachments": {},
      "cell_type": "markdown",
      "metadata": {},
      "source": [
        "## Inheritance <br>\n",
        "<p>You can create a child-parent relationship between two classes by using inheritance. What this allows you to do is have overriding methods, but also inherit traits from the parent class. Think of it as an actual parent and child, the child will inherit the parent's genes, as will the classes in OOP</p>"
      ]
    },
    {
      "cell_type": "code",
      "execution_count": 16,
      "metadata": {},
      "outputs": [
        {
          "name": "stdout",
          "output_type": "stream",
          "text": [
            "Buster\n",
            "Bark\n",
            "None\n",
            "The Dog has 15mph in speed and 9.8 in acceleration\n",
            "Lassie\n",
            "Help on class Mut in module __main__:\n",
            "\n",
            "class Mut(Dog)\n",
            " |  Mut(name, species, color, legs=4)\n",
            " |  \n",
            " |  Method resolution order:\n",
            " |      Mut\n",
            " |      Dog\n",
            " |      Animal\n",
            " |      builtins.object\n",
            " |  \n",
            " |  Methods defined here:\n",
            " |  \n",
            " |  __init__(self, name, species, color, legs=4)\n",
            " |      Initialize self.  See help(type(self)) for accurate signature.\n",
            " |  \n",
            " |  makeSound(self)\n",
            " |  \n",
            " |  ----------------------------------------------------------------------\n",
            " |  Data and other attributes defined here:\n",
            " |  \n",
            " |  color = 'black & brown'\n",
            " |  \n",
            " |  ----------------------------------------------------------------------\n",
            " |  Methods inherited from Dog:\n",
            " |  \n",
            " |  printInfo(self)\n",
            " |  \n",
            " |  ----------------------------------------------------------------------\n",
            " |  Data and other attributes inherited from Dog:\n",
            " |  \n",
            " |  speed = 15\n",
            " |  \n",
            " |  ----------------------------------------------------------------------\n",
            " |  Data descriptors inherited from Animal:\n",
            " |  \n",
            " |  __dict__\n",
            " |      dictionary for instance variables (if defined)\n",
            " |  \n",
            " |  __weakref__\n",
            " |      list of weak references to the object (if defined)\n",
            " |  \n",
            " |  ----------------------------------------------------------------------\n",
            " |  Data and other attributes inherited from Animal:\n",
            " |  \n",
            " |  acceleration = 9.8\n",
            "\n"
          ]
        }
      ],
      "source": [
        "# Creation of Parent Class\n",
        "class Animal():\n",
        "    acceleration = 9.8\n",
        "    \n",
        "    def __init__(self,name,species,legs=4):\n",
        "        self.name = name\n",
        "        self.species = species\n",
        "        self.legs = legs\n",
        "        \n",
        "    def makeSound(self):\n",
        "        print(\"Some Generic Sound\")\n",
        "        \n",
        "# Creation of Child Class\n",
        "class Dog(Animal):\n",
        "    speed = 15\n",
        "    \n",
        "    def printInfo(self):\n",
        "        print(f\"The Dog has {self.speed}mph in speed and {self.acceleration} in acceleration\")\n",
        "\n",
        "        \n",
        "        \n",
        "class Mut(Dog):\n",
        "    color = 'black & brown'\n",
        "    \n",
        "    # Constructor Overide inside of child inheritance\n",
        "    def __init__(self,name,species,color,legs=4):\n",
        "        Dog.__init__(self,name,species,legs)\n",
        "        self.color = color\n",
        "    \n",
        "    def makeSound(self):\n",
        "        print(\"Bark\")\n",
        "        \n",
        "lassie = Dog(\"Lassie\",\"Dog\")\n",
        "buster = Mut(\"Buster\",\"Mut\",\"black\")\n",
        "print(buster.name)\n",
        "print(buster.makeSound())\n",
        "lassie.printInfo()\n",
        "print(lassie.name)\n",
        "\n",
        "help(Mut)"
      ]
    },
    {
      "cell_type": "code",
      "execution_count": 15,
      "metadata": {},
      "outputs": [
        {
          "name": "stdout",
          "output_type": "stream",
          "text": [
            "Buster\n",
            "Bark\n",
            "None\n",
            "The Dog has 15mph in speed and 9.8 in acceleration\n",
            "Lassie\n"
          ]
        }
      ],
      "source": [
        "# Creation of Parent Class\n",
        "class Animal():\n",
        "    acceleration = 9.8\n",
        "    \n",
        "    def __init__(self,name,species,legs=4):\n",
        "        self.name = name\n",
        "        self.species = species\n",
        "        self.legs = legs\n",
        "        \n",
        "    def makeSound(self):\n",
        "        print(\"Some Generic Sound\")\n",
        "        \n",
        "# Creation of Child Class\n",
        "class Dog(Animal):\n",
        "    speed = 15\n",
        "    \n",
        "    def printInfo(self):\n",
        "        print(f\"The Dog has {self.speed}mph in speed and {self.acceleration} in acceleration\")\n",
        "\n",
        "        \n",
        "#class ChildClass(GrandParentClass, ParentClass)\n",
        "class Mut(Dog):\n",
        "    color = 'black & brown'\n",
        "    \n",
        "    # Constructor Overide inside of child inheritance\n",
        "    def __init__(self,name,species,color,legs=4):\n",
        "        super().__init__(name,species,legs)\n",
        "        self.color = color\n",
        "    \n",
        "    def makeSound(self):\n",
        "        print(\"Bark\")\n",
        "        \n",
        "lassie = Dog(\"Lassie\",\"Dog\")\n",
        "buster = Mut(\"Buster\",\"Mut\",\"black\")\n",
        "print(buster.name)\n",
        "print(buster.makeSound())\n",
        "lassie.printInfo()\n",
        "print(lassie.name)"
      ]
    },
    {
      "attachments": {},
      "cell_type": "markdown",
      "metadata": {},
      "source": [
        "## Classes as Attributes <br>\n",
        "<p>Classes can also be used as attributes within another class. This is useful in situations where you need to keep variables locally stored, instead of globally stored.</p>"
      ]
    },
    {
      "cell_type": "code",
      "execution_count": null,
      "metadata": {},
      "outputs": [],
      "source": [
        "class Battery():\n",
        "    volts = 7.8\n",
        "    \n",
        "    def __init__(self,cells):\n",
        "        self.cells = cells\n",
        "        \n",
        "class Car():\n",
        "    def __init__(self,year,make,model,battery):\n",
        "        self.year = year\n",
        "        self.make = make\n",
        "        self.model = model\n",
        "        self.battery = battery\n",
        "        \n",
        "    def printInfo(self):\n",
        "        print(self.year, self.make,self.model,self.battery)\n",
        "        \n",
        "battery = Battery(20)\n",
        "\n",
        "tesla = Car(2019,\"Tesla\", \"Model X\", battery)\n",
        "\n",
        "print(tesla.battery.cells)"
      ]
    }
  ],
  "metadata": {
    "colab": {
      "provenance": []
    },
    "kernelspec": {
      "display_name": "Python 3",
      "language": "python",
      "name": "python3"
    },
    "language_info": {
      "codemirror_mode": {
        "name": "ipython",
        "version": 3
      },
      "file_extension": ".py",
      "mimetype": "text/x-python",
      "name": "python",
      "nbconvert_exporter": "python",
      "pygments_lexer": "ipython3",
      "version": "3.10.0"
    },
    "vscode": {
      "interpreter": {
        "hash": "26de051ba29f2982a8de78e945f0abaf191376122a1563185a90213a26c5da77"
      }
    }
  },
  "nbformat": 4,
  "nbformat_minor": 0
}
