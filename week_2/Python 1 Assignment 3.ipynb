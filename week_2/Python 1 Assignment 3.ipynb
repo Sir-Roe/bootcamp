{
 "cells": [
  {
   "attachments": {},
   "cell_type": "markdown",
   "metadata": {},
   "source": [
    "# Coding Temple's Data Analytics Program\n",
    "---\n",
    "## Python 1 Assignment 3\n",
    "---"
   ]
  },
  {
   "attachments": {},
   "cell_type": "markdown",
   "metadata": {},
   "source": [
    "### **Task 1: Build a Shopping Cart**\n",
    "**You can use either lists or dictionaries. The program should have the following capabilites:**\n",
    "* Takes a string as an input\n",
    "* Stores user input in a dictionary or list\n",
    "* Users should be able to:\n",
    "    * Add Items\n",
    "    * Delete Items\n",
    "    * See current shopping cart\n",
    "* The program should loop until user 'quits'\n",
    "* Upon quitting the program, print out all items in the user's list"
   ]
  },
  {
   "cell_type": "code",
   "execution_count": 1,
   "metadata": {},
   "outputs": [
    {
     "name": "stdout",
     "output_type": "stream",
     "text": [
      "------RECIEPT------\n",
      "5-cheese\n"
     ]
    }
   ],
   "source": [
    "from IPython.display import clear_output\n",
    "# Ask the user 5 bits of input: Do you want to : Show/Add/Delete/clear or Quit?\n",
    "# YOUR CODE HERE\n",
    "def shopping():\n",
    "    cart={}\n",
    "    while True:\n",
    "        action= input('Please type \"add\",\"delete\",\"view\",\"clear\", or \"finish\" your shopping cart')\n",
    "        clear_output()\n",
    "        if action.lower().strip() == 'finish':\n",
    "            print('------RECIEPT------')\n",
    "            for key,value in cart.items():\n",
    "                print(f\"{value}-{key}\")\n",
    "            break\n",
    "        elif action.lower() == 'add':\n",
    "            item =input('Name of the item you would like? ')\n",
    "            qty = input('How much of this item would you like? ' )\n",
    "            cart[item.lower()] = qty.lower()\n",
    "        elif action.lower() == 'view':\n",
    "            for key,value in cart.items():\n",
    "                print(f\"{value}-{key}\")\n",
    "        elif action.lower() == 'clear':\n",
    "            cart.clear()\n",
    "        elif action.lower() == 'delete':\n",
    "            if len(cart) > 0:\n",
    "                try:\n",
    "                    del_inp = input('Which Item would you like to delete? ')\n",
    "                    del cart[del_inp.lower()]\n",
    "                except:\n",
    "                    print(\"This item does not exist, check again from your below items\")\n",
    "                    for key,value in cart.items():\n",
    "                        print(f\"{value}-{key}\")\n",
    "            else:\n",
    "                print(\"Your cart is EMPTY!\")\n",
    "        else:\n",
    "            print('You need to input a VALID answer, try \"add\",\"delete\",\"view\",\"clear\", or \"finish\"')\n",
    "shopping()\n",
    "\n",
    "\n"
   ]
  },
  {
   "attachments": {},
   "cell_type": "markdown",
   "metadata": {},
   "source": [
    "### **Task 2: Create a Module and Import it**\n",
    "Create a Module in VS Code and import it into a Notebook. Use each of the functions you build in your module\n",
    "\n",
    "**Your module should have the following capabilities:**\n",
    "* Has a function to calculate the square footage of a house\n",
    "* Has a function to calculate the circumference of a circle\n",
    "* Has a function to change feet to inches"
   ]
  },
  {
   "cell_type": "code",
   "execution_count": 19,
   "metadata": {},
   "outputs": [
    {
     "name": "stdout",
     "output_type": "stream",
     "text": [
      "The square footage of my new basement remodel is 2625.0!\n",
      "The Circumference of your circle is : 50.26548245743669!\n",
      "I am 78.0 inches tall.\n"
     ]
    }
   ],
   "source": [
    "import dimensionmod as dm\n",
    "print('The square footage of my new basement remodel is ' + str(dm.square_footage(75,35)) +'!')\n",
    "\n",
    "print('The Circumference of your circle is : ' + str(dm.circumference(8)) + '!')\n",
    "\n",
    "print('I am ' + str(dm.feet_inch(6.5)) +' inches tall.')"
   ]
  },
  {
   "attachments": {},
   "cell_type": "markdown",
   "metadata": {},
   "source": [
    "### **Task 3.1: Lists**\n",
    "Create 4 lists. Two of these lists should be keys, two of these lists should be values"
   ]
  },
  {
   "cell_type": "code",
   "execution_count": 20,
   "metadata": {},
   "outputs": [],
   "source": [
    "l1=['Alpha','Beta','Charlie','Delta']\n",
    "l2=['Echo','Fargo','Golf','Hector']\n",
    "l3=[21,34,4,56]\n",
    "l4=[999,430,222,1]"
   ]
  },
  {
   "attachments": {},
   "cell_type": "markdown",
   "metadata": {},
   "source": [
    "### **Task 3.2: Create a function that converts two lists into a dictionary, then merges two dictionaries into one.**\n",
    "\n",
    "Using your 4 lists, create a function which combines the keys lists with the values lists into a dictionary, then merges and returns the two dictionaries together."
   ]
  },
  {
   "cell_type": "code",
   "execution_count": 21,
   "metadata": {},
   "outputs": [
    {
     "name": "stdout",
     "output_type": "stream",
     "text": [
      "{'Alpha': 21, 'Beta': 34, 'Charlie': 4, 'Delta': 56}\n",
      "{'Echo': 999, 'Fargo': 430, 'Golf': 222, 'Hector': 1}\n",
      "{'Alpha': 21, 'Beta': 34, 'Charlie': 4, 'Delta': 56, 'Echo': 999, 'Fargo': 430, 'Golf': 222, 'Hector': 1}\n"
     ]
    }
   ],
   "source": [
    "def create_dict(list1:list,list2:list):\n",
    "    return {list1[i]:list2[i]  for i in range(len(list1))}\n",
    "def merge_dictionary(dict1:dict,dict2:dict):\n",
    "    return dict1 | dict2\n",
    "\n",
    "#creating the two dictionaries\n",
    "d1= create_dict(l1,l3)\n",
    "d2= create_dict(l2,l4)\n",
    "#two dictionaries together\n",
    "d3= merge_dictionary(d1,d2)\n",
    "\n",
    "#output testing!\n",
    "print(d1)\n",
    "print(d2)\n",
    "print(d3)"
   ]
  }
 ],
 "metadata": {
  "kernelspec": {
   "display_name": "Python 3",
   "language": "python",
   "name": "python3"
  },
  "language_info": {
   "codemirror_mode": {
    "name": "ipython",
    "version": 3
   },
   "file_extension": ".py",
   "mimetype": "text/x-python",
   "name": "python",
   "nbconvert_exporter": "python",
   "pygments_lexer": "ipython3",
   "version": "3.10.0"
  },
  "orig_nbformat": 4,
  "vscode": {
   "interpreter": {
    "hash": "26de051ba29f2982a8de78e945f0abaf191376122a1563185a90213a26c5da77"
   }
  }
 },
 "nbformat": 4,
 "nbformat_minor": 2
}
