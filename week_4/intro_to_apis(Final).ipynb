{
 "cells": [
  {
   "attachments": {},
   "cell_type": "markdown",
   "metadata": {},
   "source": [
    "# Coding Temple's Data Analytics Program\n",
    "---\n",
    "## Intro to API's Assignment\n",
    "---\n",
    "### Problem 1:\n",
    "Check out this Pokemon API https://pokeapi.co/\n",
    "Use the requests package to connect to this API and get and store data for 5 different pokemon.\n",
    "Get the pokemons: name, atleast one ability's name, base_experience, and the URL for its sprite (an image that shows up on screen) for the 'front_shiny', attack base_state, hp base_stat, defense base_stat\n",
    "\n",
    "**BONUS POINTS IF YOU CAN POPULATE THE IMAGE!**"
   ]
  },
  {
   "cell_type": "code",
   "execution_count": 30,
   "metadata": {},
   "outputs": [
    {
     "data": {
      "image/jpeg": "[encoded data removed]",
      "image/png": "[encoded data removed]",
      "text/plain": [
       "<PIL.Image.Image image mode=RGB size=96x96>"
      ]
     },
     "metadata": {},
     "output_type": "display_data"
    },
    {
     "name": "stdout",
     "output_type": "stream",
     "text": [
      "name : ditto\n",
      "ability 1 : limber\n",
      "base_experience : 101\n",
      "front_shiny_png : https://raw.githubusercontent.com/PokeAPI/sprites/master/sprites/pokemon/shiny/132.png\n",
      "attack_stat_base : 48\n",
      "hp_stat_base : 48\n",
      "defense_stat_base : 48\n"
     ]
    },
    {
     "data": {
      "image/jpeg": "[encoded data removed]",
      "image/png": "[encoded data removed]",
      "text/plain": [
       "<PIL.Image.Image image mode=RGB size=96x96>"
      ]
     },
     "metadata": {},
     "output_type": "display_data"
    },
    {
     "name": "stdout",
     "output_type": "stream",
     "text": [
      "name : ivysaur\n",
      "ability 1 : overgrow\n",
      "base_experience : 142\n",
      "front_shiny_png : https://raw.githubusercontent.com/PokeAPI/sprites/master/sprites/pokemon/shiny/2.png\n",
      "attack_stat_base : 62\n",
      "hp_stat_base : 60\n",
      "defense_stat_base : 63\n"
     ]
    },
    {
     "data": {
      "image/jpeg": "[encoded data removed]",
      "image/png": "[encoded data removed]",
      "text/plain": [
       "<PIL.Image.Image image mode=RGB size=96x96>"
      ]
     },
     "metadata": {},
     "output_type": "display_data"
    },
    {
     "name": "stdout",
     "output_type": "stream",
     "text": [
      "name : bulbasaur\n",
      "ability 1 : overgrow\n",
      "base_experience : 64\n",
      "front_shiny_png : https://raw.githubusercontent.com/PokeAPI/sprites/master/sprites/pokemon/shiny/1.png\n",
      "attack_stat_base : 49\n",
      "hp_stat_base : 45\n",
      "defense_stat_base : 49\n"
     ]
    },
    {
     "data": {
      "image/jpeg": "[encoded data removed]",
      "image/png": "[encoded data removed]",
      "text/plain": [
       "<PIL.Image.Image image mode=RGB size=96x96>"
      ]
     },
     "metadata": {},
     "output_type": "display_data"
    },
    {
     "name": "stdout",
     "output_type": "stream",
     "text": [
      "name : mew\n",
      "ability 1 : synchronize\n",
      "base_experience : 300\n",
      "front_shiny_png : https://raw.githubusercontent.com/PokeAPI/sprites/master/sprites/pokemon/shiny/151.png\n",
      "attack_stat_base : 100\n",
      "hp_stat_base : 100\n",
      "defense_stat_base : 100\n"
     ]
    },
    {
     "data": {
      "image/jpeg": "[encoded data removed]",
      "image/png": "[encoded data removed]",
      "text/plain": [
       "<PIL.Image.Image image mode=RGB size=96x96>"
      ]
     },
     "metadata": {},
     "output_type": "display_data"
    },
    {
     "name": "stdout",
     "output_type": "stream",
     "text": [
      "name : charizard\n",
      "ability 1 : blaze\n",
      "base_experience : 267\n",
      "front_shiny_png : https://raw.githubusercontent.com/PokeAPI/sprites/master/sprites/pokemon/shiny/6.png\n",
      "attack_stat_base : 84\n",
      "hp_stat_base : 78\n",
      "defense_stat_base : 78\n"
     ]
    }
   ],
   "source": [
    "import requests\n",
    "import pandas as pd\n",
    "from PIL import Image\n",
    "from io import BytesIO\n",
    "\n",
    "\n",
    "\n",
    "# fairly straightforward here just grabbing some pokemon and stats\n",
    "def catchpoke(name):\n",
    "    url = f'https://pokeapi.co/api/v2/pokemon/{name}'\n",
    "    response= requests.get(url)\n",
    "    my_data = response\n",
    "    my_data.json()\n",
    "    poke_dict = {\n",
    "        'name' : name,\n",
    "        'ability 1' : my_data.json()['abilities'][0]['ability']['name'],\n",
    "        'base_experience' : my_data.json()['base_experience'],\n",
    "        'front_shiny_png' : my_data.json()['sprites']['front_shiny'],\n",
    "        'attack_stat_base' : my_data.json()['stats'][1]['base_stat'], \n",
    "        'hp_stat_base' : my_data.json()['stats'][0]['base_stat'],\n",
    "        'defense_stat_base' : my_data.json()['stats'][2]['base_stat']}    \n",
    "    \n",
    "    #block for image\n",
    "    img_str = my_data.json()['sprites']['front_shiny']\n",
    "    response = requests.get(img_str)\n",
    "    img= Image.open(BytesIO(response.content))\n",
    "    img =img.convert('RGB')\n",
    "    output_image_path = 'output_image.jpg'\n",
    "    img.save(output_image_path)\n",
    "    #display image\n",
    "    display(img)\n",
    "\n",
    "    #return dictionary\n",
    "    return '\\n'.join(f'{keys} : {val}' for keys,val in poke_dict.items())\n",
    "\n",
    "\n",
    "\n",
    "\n",
    "print(catchpoke('ditto'))\n",
    "print(catchpoke('ivysaur'))\n",
    "print(catchpoke('bulbasaur'))\n",
    "print(catchpoke('mew'))\n",
    "print(catchpoke('charizard'))\n",
    "\n"
   ]
  },
  {
   "attachments": {},
   "cell_type": "markdown",
   "metadata": {},
   "source": [
    "### Problem 2:\n",
    "\n",
    "I want to build the best Pokemon team I can and I need your help to do so! Using the API, build me a team of 6 pokemon who's base-stats are above 60. Return any additional information you think is needed to help understand why you chose that pokemon for the team!"
   ]
  },
  {
   "cell_type": "code",
   "execution_count": 2,
   "metadata": {},
   "outputs": [
    {
     "data": {
      "text/html": [
       "<div>\n",
       "<style scoped>\n",
       "    .dataframe tbody tr th:only-of-type {\n",
       "        vertical-align: middle;\n",
       "    }\n",
       "\n",
       "    .dataframe tbody tr th {\n",
       "        vertical-align: top;\n",
       "    }\n",
       "\n",
       "    .dataframe thead th {\n",
       "        text-align: right;\n",
       "    }\n",
       "</style>\n",
       "<table border=\"1\" class=\"dataframe\">\n",
       "  <thead>\n",
       "    <tr style=\"text-align: right;\">\n",
       "      <th></th>\n",
       "      <th>hp</th>\n",
       "      <th>atk</th>\n",
       "      <th>def</th>\n",
       "      <th>spec_atk</th>\n",
       "      <th>spec_def</th>\n",
       "      <th>speed</th>\n",
       "      <th>statscore</th>\n",
       "    </tr>\n",
       "  </thead>\n",
       "  <tbody>\n",
       "    <tr>\n",
       "      <th>eternatus-eternamax</th>\n",
       "      <td>255</td>\n",
       "      <td>115</td>\n",
       "      <td>250</td>\n",
       "      <td>125</td>\n",
       "      <td>250</td>\n",
       "      <td>130</td>\n",
       "      <td>1060.0</td>\n",
       "    </tr>\n",
       "    <tr>\n",
       "      <th>kyogre-primal</th>\n",
       "      <td>100</td>\n",
       "      <td>150</td>\n",
       "      <td>90</td>\n",
       "      <td>180</td>\n",
       "      <td>160</td>\n",
       "      <td>90</td>\n",
       "      <td>725.0</td>\n",
       "    </tr>\n",
       "    <tr>\n",
       "      <th>groudon-primal</th>\n",
       "      <td>100</td>\n",
       "      <td>180</td>\n",
       "      <td>160</td>\n",
       "      <td>150</td>\n",
       "      <td>90</td>\n",
       "      <td>90</td>\n",
       "      <td>725.0</td>\n",
       "    </tr>\n",
       "    <tr>\n",
       "      <th>rayquaza-mega</th>\n",
       "      <td>105</td>\n",
       "      <td>180</td>\n",
       "      <td>100</td>\n",
       "      <td>180</td>\n",
       "      <td>100</td>\n",
       "      <td>115</td>\n",
       "      <td>722.5</td>\n",
       "    </tr>\n",
       "    <tr>\n",
       "      <th>mewtwo-mega-x</th>\n",
       "      <td>106</td>\n",
       "      <td>190</td>\n",
       "      <td>100</td>\n",
       "      <td>154</td>\n",
       "      <td>100</td>\n",
       "      <td>130</td>\n",
       "      <td>715.0</td>\n",
       "    </tr>\n",
       "    <tr>\n",
       "      <th>mewtwo-mega-y</th>\n",
       "      <td>106</td>\n",
       "      <td>150</td>\n",
       "      <td>70</td>\n",
       "      <td>194</td>\n",
       "      <td>120</td>\n",
       "      <td>140</td>\n",
       "      <td>710.0</td>\n",
       "    </tr>\n",
       "  </tbody>\n",
       "</table>\n",
       "</div>"
      ],
      "text/plain": [
       "                      hp  atk  def  spec_atk  spec_def  speed  statscore\n",
       "eternatus-eternamax  255  115  250       125       250    130     1060.0\n",
       "kyogre-primal        100  150   90       180       160     90      725.0\n",
       "groudon-primal       100  180  160       150        90     90      725.0\n",
       "rayquaza-mega        105  180  100       180       100    115      722.5\n",
       "mewtwo-mega-x        106  190  100       154       100    130      715.0\n",
       "mewtwo-mega-y        106  150   70       194       120    140      710.0"
      ]
     },
     "metadata": {},
     "output_type": "display_data"
    }
   ],
   "source": [
    "#url ='https://pokeapi.co/api/v2/pokemon/'\n",
    "url= 'https://pokeapi.co/api/v2/pokemon?limit=100000&offset=0' \n",
    "response = requests.get(url)\n",
    "#build a pokesort data frame\n",
    "pokesort = response\n",
    "   \n",
    "#create a dictionary to load our dataframe into\n",
    "highstats={}\n",
    "\n",
    "\n",
    "def pokeStats(name):\n",
    "    url = f'https://pokeapi.co/api/v2/pokemon/{name}'\n",
    "    response= requests.get(url)\n",
    "    my_data = response\n",
    "    my_data.json()['stats']\n",
    "\n",
    "\n",
    "    #reset poke stats/init poke stats\n",
    "    pokestats=[]\n",
    "\n",
    "    #check if any stat is less than 60 \n",
    "    for stat in my_data.json()['stats']:\n",
    "        if stat['base_stat'] < 60: \n",
    "            return None\n",
    "        else:\n",
    "            pokestats.append(stat['base_stat'])\n",
    "    \n",
    "    #add the >60 stats to dictionary\n",
    "    highstats[name] = pokestats\n",
    "\n",
    "    \n",
    "    return\n",
    "\n",
    "#pass name of all pokemon through our pokestats function\n",
    "for poke in pokesort.json()['results']:\n",
    "    pokeStats(poke['name'])\n",
    "\n",
    "\n",
    "#build a dataframe from the dictionary we built, I really wanted to add this to practice for something I want to do in the future.\n",
    "df_poke = pd.DataFrame.from_dict(highstats,columns=['hp','atk','def','spec_atk','spec_def','speed'],orient='index')\n",
    "#I decided to give speed less stat weight because tbh i feel like damage and defense is a bit more important but I also know 0 about pokemon tbh        \n",
    "df_poke['statscore'] = df_poke['hp'] + df_poke['atk'] + df_poke['def'] + df_poke['spec_atk'] + df_poke['spec_def'] + df_poke['speed']/2\n",
    "\n",
    "#I decided to show the top 6 of the stat density based on all pokemon (i think idk if the site is limiting me or not)\n",
    "display(df_poke.sort_values('statscore',ascending=False).head(6))\n",
    "\n",
    "\n",
    "#this took about 3 minutes to work, but I can no longer lose based on these stats. I think.\n",
    "#Idk pokemon too well.\n",
    "\n",
    "\n",
    "\n",
    "\n",
    "\n",
    "\n",
    "\n"
   ]
  },
  {
   "attachments": {},
   "cell_type": "markdown",
   "metadata": {},
   "source": [
    "### Problem 3:\n",
    "\n",
    "Create a function that does the following:\n",
    "* Input: pokemon_name(user_defined) -> str\n",
    "* Output: list object containing a dictionary of values from the response object.\n",
    "* Please include the type, the most current raritey level, at least one held item, and all stats"
   ]
  },
  {
   "cell_type": "code",
   "execution_count": 165,
   "metadata": {},
   "outputs": [
    {
     "data": {
      "text/plain": [
       "{'name': 'ditto',\n",
       " 'Types': ['normal'],\n",
       " 'hp': 48,\n",
       " 'attack': 48,\n",
       " 'defense': 48,\n",
       " 'special-attack': 48,\n",
       " 'special-defense': 48,\n",
       " 'speed': 48,\n",
       " 'ITEMS': ['metal-powder', 'quick-powder'],\n",
       " 'Item_rarity': [5, 50]}"
      ]
     },
     "metadata": {},
     "output_type": "display_data"
    }
   ],
   "source": [
    "\n",
    "\n",
    "def pokeRequest():\n",
    "    name = input(\"please enter a pokemon name: \")\n",
    "    url = f'https://pokeapi.co/api/v2/pokemon/{name}'\n",
    "    response= requests.get(url)\n",
    "    my_data = response\n",
    "    my_data.json()\n",
    " \n",
    "    poke_dict = {\n",
    "            'name' : name,\n",
    "        }\n",
    "        #adding types\n",
    "\n",
    "    poke_dict[\"Types\"]= [type['type']['name'] for type in  my_data.json()['types']]\n",
    "            \n",
    "    #add all stats to dict\n",
    "    for stats in my_data.json()['stats']:\n",
    "            poke_dict[stats['stat']['name']]=stats['base_stat']\n",
    "        #I had to add this block because some pokemon do not have items\n",
    "    if not response.json():\n",
    "            poke_dict[\"ITEMS\"]=None\n",
    "    else:\n",
    "            poke_dict[\"ITEMS\"]= [item['item']['name'] for item in  my_data.json()['held_items']]\n",
    "        \n",
    "  \n",
    "    #wow, this took a long time. Look to the end of the version list, grab the rarity, for some reason this doesnt work on itemless pokemon?\n",
    "    #or is rarity a thing with the items of the pokemon. I am not too familiar as I never really played.\n",
    "    #i assume its items since they always seem to match in count, i think playing or knowing\n",
    "    #more pokemon would have made this much easier. Because this could be pokemon rarity and\n",
    "    #I would have 0 idea .\n",
    "    poke_dict[\"Item_rarity\"]=[item['version_details'][::-1][0]['rarity'] for item in  my_data.json()['held_items']]  \n",
    "\n",
    "    return poke_dict\n",
    "\n",
    "\n",
    "\n",
    "display(pokeRequest())\n",
    "\n",
    "\n",
    "\n",
    "\n"
   ]
  }
 ],
 "metadata": {
  "kernelspec": {
   "display_name": "Python 3",
   "language": "python",
   "name": "python3"
  },
  "language_info": {
   "codemirror_mode": {
    "name": "ipython",
    "version": 3
   },
   "file_extension": ".py",
   "mimetype": "text/x-python",
   "name": "python",
   "nbconvert_exporter": "python",
   "pygments_lexer": "ipython3",
   "version": "3.10.0"
  },
  "orig_nbformat": 4,
  "vscode": {
   "interpreter": {
    "hash": "26de051ba29f2982a8de78e945f0abaf191376122a1563185a90213a26c5da77"
   }
  }
 },
 "nbformat": 4,
 "nbformat_minor": 2
}
