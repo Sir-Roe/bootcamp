{
  "cells": [
    {
      "cell_type": "markdown",
      "metadata": {
        "id": "Qk388xZusaIf"
      },
      "source": [
        "# AirBnB NY Locations Data Case Study\n",
        "\n",
        "In this final project, you task will be to take the data provided and find evidance to answer the following questions.\n",
        "\n",
        "1. Which hosts are the busiest and why?\n",
        "2. How many neighborhood groups are available and which shows up the most?\n",
        "3. Are private rooms the most popular in manhattan?\n",
        "4. Which hosts are the busiest and based on their reviews?\n",
        "5. Which neighorhood group has the highest average price?\n",
        "6. Which neighborhood group has the highest total price?\n",
        "7. Which top 5 hosts have the highest total price?\n",
        "8. Who currently has no (zero) availability with a review count of 100 or more?\n",
        "9. What host has the highest total of prices and where are they located?\n",
        "10. When did Danielle from Queens last receive a review?\n"
      ]
    },
    {
      "cell_type": "code",
      "execution_count": null,
      "metadata": {
        "id": "pvCR0cHgsaIj"
      },
      "outputs": [],
      "source": []
    },
    {
      "cell_type": "code",
      "execution_count": null,
      "metadata": {
        "id": "TEAiAyXusaIk"
      },
      "outputs": [],
      "source": []
    },
    {
      "cell_type": "code",
      "execution_count": null,
      "metadata": {
        "id": "cxCU37z4saIl"
      },
      "outputs": [],
      "source": [
        "# How many neighborhood groups are available and which shows up the most?\n",
        "\n"
      ]
    },
    {
      "cell_type": "code",
      "execution_count": null,
      "metadata": {
        "id": "rrVopoD-saIl"
      },
      "outputs": [],
      "source": [
        "# Are private rooms the most popular in manhattan?\n",
        "\n"
      ]
    },
    {
      "cell_type": "code",
      "execution_count": null,
      "metadata": {
        "id": "E4wT9Z5KsaIm"
      },
      "outputs": [],
      "source": [
        "# Which hosts are the busiest and based on their reviews?\n",
        "\n"
      ]
    },
    {
      "cell_type": "code",
      "execution_count": null,
      "metadata": {
        "id": "I7i-4IwssaIm"
      },
      "outputs": [],
      "source": [
        "#Which neighorhood group has the highest average price?\n"
      ]
    },
    {
      "cell_type": "code",
      "execution_count": null,
      "metadata": {
        "id": "_MUQDcPKsaIm"
      },
      "outputs": [],
      "source": [
        "# Which neighbor hood group has the highest total price?\n"
      ]
    },
    {
      "cell_type": "code",
      "execution_count": null,
      "metadata": {
        "id": "NHnCmknOsaIn"
      },
      "outputs": [],
      "source": [
        "#Which top 5 hosts have the highest total price?\n"
      ]
    },
    {
      "cell_type": "code",
      "execution_count": null,
      "metadata": {
        "id": "tPkFOy6msaIn"
      },
      "outputs": [],
      "source": [
        "# Who currently has no (zero) availability with a review count of 100 or more?\n",
        "\n"
      ]
    },
    {
      "cell_type": "code",
      "execution_count": null,
      "metadata": {
        "id": "X7Z_DM-2saIo"
      },
      "outputs": [],
      "source": [
        "# What host has the highest total of prices and where are they located?\n",
        "\n"
      ]
    },
    {
      "cell_type": "code",
      "execution_count": null,
      "metadata": {
        "id": "P_bd7qDesaIo"
      },
      "outputs": [],
      "source": [
        "# When did Danielle from Queens last receive a review?\n",
        "\n"
      ]
    },
    {
      "cell_type": "markdown",
      "metadata": {
        "id": "LJDgAb-qsaIo"
      },
      "source": [
        "## Further Questions\n",
        "\n",
        "1. Which host has the most listings?"
      ]
    },
    {
      "cell_type": "code",
      "execution_count": null,
      "metadata": {
        "id": "ITP7ONsZsaIo"
      },
      "outputs": [],
      "source": []
    },
    {
      "cell_type": "markdown",
      "metadata": {
        "id": "D0EWR96RsaIo"
      },
      "source": [
        "2. How many listings have completely open availability?"
      ]
    },
    {
      "cell_type": "code",
      "execution_count": null,
      "metadata": {
        "id": "rlhK2988saIo"
      },
      "outputs": [],
      "source": []
    },
    {
      "cell_type": "markdown",
      "metadata": {
        "id": "oAWOnlbVsaIo"
      },
      "source": [
        "3. What room_types have the highest review numbers?"
      ]
    },
    {
      "cell_type": "code",
      "execution_count": null,
      "metadata": {
        "id": "-cVo4UTxsaIo"
      },
      "outputs": [],
      "source": []
    },
    {
      "cell_type": "markdown",
      "metadata": {
        "id": "hnj6ZuLcsaIp"
      },
      "source": [
        "# Final Conclusion\n",
        "\n",
        "In this cell, write your final conclusion for each of the questions asked.\n",
        "\n",
        "Also, if you uncovered some more details that were not asked above, please discribe them here.\n",
        "\n",
        "-- Add your conclusion --"
      ]
    }
  ],
  "metadata": {
    "kernelspec": {
      "display_name": "Python 3",
      "language": "python",
      "name": "python3"
    },
    "language_info": {
      "codemirror_mode": {
        "name": "ipython",
        "version": 3
      },
      "file_extension": ".py",
      "mimetype": "text/x-python",
      "name": "python",
      "nbconvert_exporter": "python",
      "pygments_lexer": "ipython3",
      "version": "3.7.3"
    },
    "colab": {
      "provenance": []
    }
  },
  "nbformat": 4,
  "nbformat_minor": 0
}