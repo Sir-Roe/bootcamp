{
 "cells": [
  {
   "cell_type": "code",
   "execution_count": 40,
   "metadata": {},
   "outputs": [],
   "source": [
    "import os\n",
    "import random\n",
    "class twentyone ():\n",
    "    #initialize--------------------------------------------\n",
    "    def __init__(self) -> None:\n",
    "        #build the card dictionary\n",
    "        self.cards={}\n",
    "        self.my_cards = ['ace','2','3','4','5','6','7','8','9','10','Jack','Queen','King']\n",
    "        self.my_val = ['special',2,3,4,5,6,7,8,9,10,10,10,10]\n",
    "        self.my_suit = ['Spades','Clubs','Hearts','Diamonds']\n",
    "\n",
    "\n",
    "        for suit in self.my_suit:\n",
    "            for i in range(len(self.my_val)):\n",
    "                self.cards[f'{self.my_cards[i]}|{suit}'] = self.my_val[i] \n",
    "\n",
    "    #--------------------------------shuffle\n",
    "    def shuffle_deck(self):\n",
    "        #recieve cards back from the players\n",
    "        self.playerhand=[]\n",
    "        self.dealerhand=[]\n",
    "        self.phandval=''\n",
    "        self.dhandval=''\n",
    "        self.deck=[]\n",
    "        #\n",
    "        for card in self.cards.keys():\n",
    "            self.deck.append(card)\n",
    "        random.shuffle(self.deck)\n",
    "    #------------------------Deal------------------------------------------  \n",
    "    def deal(self):\n",
    "        if len(self.dealerhand)==0:\n",
    "            #this is to help mimic the dealing rule\n",
    "            self.dealerhand=[0,1]\n",
    "            self.playerhand=[0,1]\n",
    "            #deal card 1 up to player, down to dealer\n",
    "            self.playerhand[1]= self.deck.pop()\n",
    "            self.dealerhand[0]= self.deck.pop()\n",
    "            #deal card 2 up to plater and down to dealer\n",
    "            self.playerhand[0]= self.deck.pop()\n",
    "            self.dealerhand[1]= self.deck.pop()\n",
    "        else: \n",
    "            self.playerhand.append(self.deck.pop())\n",
    "            self.dealerhand.append(self.deck.pop())\n",
    "    def eval(self): \n",
    "        self.handeval=[]\n",
    "        self.aces=0\n",
    "        for card in self.dealerhand:\n",
    "             self.handeval.append(self.cards[card])\n",
    "        if \"special\" not in self.handeval:\n",
    "            if sum(self.handeval)<21:\n",
    "                return sum(self.handeval)\n",
    "            elif sum(self.handeval)==21:\n",
    "                #endgame logic here?\n",
    "                return  21\n",
    "            else: \n",
    "                return \"Bust!\"\n",
    "        else:\n",
    "            self.aces = self.handeval.count('special')\n",
    "            print(self.aces)\n",
    "        \n",
    "            \n",
    "\n",
    "        "
   ]
  },
  {
   "cell_type": "code",
   "execution_count": 42,
   "metadata": {},
   "outputs": [
    {
     "name": "stdout",
     "output_type": "stream",
     "text": [
      "1\n",
      "[9, 10, 'special', 7]\n"
     ]
    }
   ],
   "source": [
    "blkjk=twentyone()\n",
    "blkjk.shuffle_deck()\n",
    "blkjk.deal()\n",
    "blkjk.deal()\n",
    "blkjk.deal()\n",
    "blkjk.eval()\n",
    "print(blkjk.handeval)\n",
    "\n"
   ]
  },
  {
   "cell_type": "code",
   "execution_count": null,
   "metadata": {},
   "outputs": [],
   "source": [
    "    #---------------------------play----------------------------------------\n",
    "    def play(self):\n",
    "        #shuffle the deck and do initial deal\n",
    "        self.shuffle_deck()\n",
    "        self.deal()\n",
    "        self.outcome=''     \n",
    "        #show cards def\n",
    "        while True:\n",
    "            if str(input('[H]it or [S]tand? (\"H\" or \"S\"): ')).lower() == 'h':\n",
    "                print('Hit!')\n",
    "                self.deal()\n",
    "                #self.eval() return true or false, or win or bust idk, nest reveal on condition\n",
    "            elif str(input('[H]it or [S]tand? (\"H\" or \"S\"): ')).lower() == 's':\n",
    "                #self.reveal()\n",
    "                #self.eval()\n",
    "                print('stand')\n",
    "            break\n",
    "\n",
    "\n",
    "blkjk=twentyone()\n",
    "blkjk.play()\n",
    "blkjk.deal()\n",
    "print(blkjk.dealerhand)\n",
    "        \n",
    "\n",
    "\n",
    "\n"
   ]
  }
 ],
 "metadata": {
  "kernelspec": {
   "display_name": "Python 3",
   "language": "python",
   "name": "python3"
  },
  "language_info": {
   "codemirror_mode": {
    "name": "ipython",
    "version": 3
   },
   "file_extension": ".py",
   "mimetype": "text/x-python",
   "name": "python",
   "nbconvert_exporter": "python",
   "pygments_lexer": "ipython3",
   "version": "3.10.0"
  },
  "orig_nbformat": 4
 },
 "nbformat": 4,
 "nbformat_minor": 2
}
